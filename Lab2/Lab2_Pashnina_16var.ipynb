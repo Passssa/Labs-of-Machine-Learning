{
  "nbformat": 4,
  "nbformat_minor": 0,
  "metadata": {
    "colab": {
      "provenance": [],
      "authorship_tag": "ABX9TyOGRq5pvO9aFabPK23ZoFyD",
      "include_colab_link": true
    },
    "kernelspec": {
      "name": "python3",
      "display_name": "Python 3"
    },
    "language_info": {
      "name": "python"
    }
  },
  "cells": [
    {
      "cell_type": "markdown",
      "metadata": {
        "id": "view-in-github",
        "colab_type": "text"
      },
      "source": [
        "<a href=\"https://colab.research.google.com/github/Passssa/Labs-of-Machine-Learning/blob/main/Lab2/Lab2_Pashnina_16var.ipynb\" target=\"_parent\"><img src=\"https://colab.research.google.com/assets/colab-badge.svg\" alt=\"Open In Colab\"/></a>"
      ]
    },
    {
      "cell_type": "markdown",
      "source": [
        "### `Дисциплина: Методы и технологии машинного обучения`   \n",
        "`Уровень подготовки: бакалавриат`   \n",
        "`Направление подготовки: 01.03.02 Прикладная математика и информатика`   \n",
        "`Семестр: осень 2022/2023`   \n",
        "`Выполнила Пашнина Алёна (16 вариант)` \n",
        "\n",
        "\n",
        "# Лабораторная работа №3: Линейные модели. Кросс-валидация. \n",
        "\n",
        "\n",
        "*Модели*: множественная линейная регрессия \n",
        "\n",
        "*Данные*: `insurance` (источник: <https://www.kaggle.com/mirichoi0218/insurance/version/1>)"
      ],
      "metadata": {
        "id": "M34d9zEdt3yp"
      }
    },
    {
      "cell_type": "code",
      "source": [
        "# Загружаем нужные пакеты:\n",
        "\n",
        "# загрузка пакетов: инструменты --------------------------------------------\n",
        "#  работа с массивами\n",
        "import numpy as np\n",
        "#  фреймы данных\n",
        "import pandas as pd\n",
        "#  графики\n",
        "import matplotlib as mpl\n",
        "#  стили и шаблоны графиков на основе matplotlib\n",
        "import seaborn as sns\n",
        "# перекодировка категориальных переменных\n",
        "from sklearn.preprocessing import LabelEncoder\n",
        "#  тест Шапиро-Уилка на нормальность распределения\n",
        "from scipy.stats import shapiro\n",
        "#  для таймера\n",
        "import time\n",
        "\n",
        "# загрузка пакетов: модели -------------------------------------------------\n",
        "#  линейные модели\n",
        "import sklearn.linear_model as skl_lm\n",
        "#  расчёт MSE\n",
        "from sklearn.metrics import mean_squared_error\n",
        "#  кросс-валидация\n",
        "from sklearn.model_selection import train_test_split, LeaveOneOut \n",
        "from sklearn.model_selection import KFold, cross_val_score\n",
        "#  полиномиальные модели\n",
        "from sklearn.preprocessing import PolynomialFeatures\n",
        "\n",
        "# константы\n",
        "#  ядро для генератора случайных чисел\n",
        "my_seed = 9212\n",
        "#  создаём псевдоним для короткого обращения к графикам\n",
        "plt = mpl.pyplot\n",
        "# настройка стиля и отображения графиков\n",
        "#  примеры стилей и шаблонов графиков: \n",
        "#  http://tonysyu.github.io/raw_content/matplotlib-style-gallery/gallery.html\n",
        "mpl.style.use('seaborn-whitegrid')\n",
        "sns.set_palette(\"Set2\")\n",
        "# раскомментируйте следующую строку, чтобы посмотреть палитру\n",
        "# sns.color_palette(\"Set2\")"
      ],
      "metadata": {
        "id": "7PTSGYtDue8w"
      },
      "execution_count": 73,
      "outputs": []
    },
    {
      "cell_type": "markdown",
      "source": [
        "### Далее загрузим наши данные для работы\n",
        "\n",
        "Набор данных `insurance` в формате .csv доступен для загрузки по адресу: <https://raw.githubusercontent.com/ania607/ML/main/data/insurance.csv>. \n",
        "Загружаем данные во фрейм и кодируем категориальные переменные.  "
      ],
      "metadata": {
        "id": "vmFnogxDvamI"
      }
    },
    {
      "cell_type": "code",
      "source": [
        "# читаем таблицу расширения .csv во фрейм\n",
        "DF_raw = pd.read_csv('https://raw.githubusercontent.com/ania607/ML/main/data/College_for_lab.csv')\n",
        "\n",
        "# выясняем размерность фрейма\n",
        "DF_raw.shape"
      ],
      "metadata": {
        "colab": {
          "base_uri": "https://localhost:8080/"
        },
        "id": "d807W4gvvv3Q",
        "outputId": "a77ab24c-0f37-403f-8851-1334d26be8b0"
      },
      "execution_count": 74,
      "outputs": [
        {
          "output_type": "execute_result",
          "data": {
            "text/plain": [
              "(777, 9)"
            ]
          },
          "metadata": {},
          "execution_count": 74
        }
      ]
    },
    {
      "cell_type": "code",
      "source": [
        "# выводим первые несколько строк таблицы\n",
        "DF_raw.head(5)\n"
      ],
      "metadata": {
        "colab": {
          "base_uri": "https://localhost:8080/",
          "height": 206
        },
        "id": "ggmbvdXcwIu5",
        "outputId": "02af5c59-8975-4ebe-db6f-aedfccb66128"
      },
      "execution_count": 75,
      "outputs": [
        {
          "output_type": "execute_result",
          "data": {
            "text/plain": [
              "   Grad_Rate  Accept  Top10perc  Top25perc  F_Undergrad  P_Undergrad  PhD  \\\n",
              "0         60    1232         23         52         2885          537   70   \n",
              "1         56    1924         16         29         2683         1227   29   \n",
              "2         54    1097         22         50         1036           99   53   \n",
              "3         59     349         60         89          510           63   92   \n",
              "4         15     146         16         44          249          869   76   \n",
              "\n",
              "   Expend Private  \n",
              "0    7041     Yes  \n",
              "1   10527     Yes  \n",
              "2    8735     Yes  \n",
              "3   19016     Yes  \n",
              "4   10922     Yes  "
            ],
            "text/html": [
              "\n",
              "  <div id=\"df-544f47aa-9d74-487f-ba27-6e3fe4600a9a\">\n",
              "    <div class=\"colab-df-container\">\n",
              "      <div>\n",
              "<style scoped>\n",
              "    .dataframe tbody tr th:only-of-type {\n",
              "        vertical-align: middle;\n",
              "    }\n",
              "\n",
              "    .dataframe tbody tr th {\n",
              "        vertical-align: top;\n",
              "    }\n",
              "\n",
              "    .dataframe thead th {\n",
              "        text-align: right;\n",
              "    }\n",
              "</style>\n",
              "<table border=\"1\" class=\"dataframe\">\n",
              "  <thead>\n",
              "    <tr style=\"text-align: right;\">\n",
              "      <th></th>\n",
              "      <th>Grad_Rate</th>\n",
              "      <th>Accept</th>\n",
              "      <th>Top10perc</th>\n",
              "      <th>Top25perc</th>\n",
              "      <th>F_Undergrad</th>\n",
              "      <th>P_Undergrad</th>\n",
              "      <th>PhD</th>\n",
              "      <th>Expend</th>\n",
              "      <th>Private</th>\n",
              "    </tr>\n",
              "  </thead>\n",
              "  <tbody>\n",
              "    <tr>\n",
              "      <th>0</th>\n",
              "      <td>60</td>\n",
              "      <td>1232</td>\n",
              "      <td>23</td>\n",
              "      <td>52</td>\n",
              "      <td>2885</td>\n",
              "      <td>537</td>\n",
              "      <td>70</td>\n",
              "      <td>7041</td>\n",
              "      <td>Yes</td>\n",
              "    </tr>\n",
              "    <tr>\n",
              "      <th>1</th>\n",
              "      <td>56</td>\n",
              "      <td>1924</td>\n",
              "      <td>16</td>\n",
              "      <td>29</td>\n",
              "      <td>2683</td>\n",
              "      <td>1227</td>\n",
              "      <td>29</td>\n",
              "      <td>10527</td>\n",
              "      <td>Yes</td>\n",
              "    </tr>\n",
              "    <tr>\n",
              "      <th>2</th>\n",
              "      <td>54</td>\n",
              "      <td>1097</td>\n",
              "      <td>22</td>\n",
              "      <td>50</td>\n",
              "      <td>1036</td>\n",
              "      <td>99</td>\n",
              "      <td>53</td>\n",
              "      <td>8735</td>\n",
              "      <td>Yes</td>\n",
              "    </tr>\n",
              "    <tr>\n",
              "      <th>3</th>\n",
              "      <td>59</td>\n",
              "      <td>349</td>\n",
              "      <td>60</td>\n",
              "      <td>89</td>\n",
              "      <td>510</td>\n",
              "      <td>63</td>\n",
              "      <td>92</td>\n",
              "      <td>19016</td>\n",
              "      <td>Yes</td>\n",
              "    </tr>\n",
              "    <tr>\n",
              "      <th>4</th>\n",
              "      <td>15</td>\n",
              "      <td>146</td>\n",
              "      <td>16</td>\n",
              "      <td>44</td>\n",
              "      <td>249</td>\n",
              "      <td>869</td>\n",
              "      <td>76</td>\n",
              "      <td>10922</td>\n",
              "      <td>Yes</td>\n",
              "    </tr>\n",
              "  </tbody>\n",
              "</table>\n",
              "</div>\n",
              "      <button class=\"colab-df-convert\" onclick=\"convertToInteractive('df-544f47aa-9d74-487f-ba27-6e3fe4600a9a')\"\n",
              "              title=\"Convert this dataframe to an interactive table.\"\n",
              "              style=\"display:none;\">\n",
              "        \n",
              "  <svg xmlns=\"http://www.w3.org/2000/svg\" height=\"24px\"viewBox=\"0 0 24 24\"\n",
              "       width=\"24px\">\n",
              "    <path d=\"M0 0h24v24H0V0z\" fill=\"none\"/>\n",
              "    <path d=\"M18.56 5.44l.94 2.06.94-2.06 2.06-.94-2.06-.94-.94-2.06-.94 2.06-2.06.94zm-11 1L8.5 8.5l.94-2.06 2.06-.94-2.06-.94L8.5 2.5l-.94 2.06-2.06.94zm10 10l.94 2.06.94-2.06 2.06-.94-2.06-.94-.94-2.06-.94 2.06-2.06.94z\"/><path d=\"M17.41 7.96l-1.37-1.37c-.4-.4-.92-.59-1.43-.59-.52 0-1.04.2-1.43.59L10.3 9.45l-7.72 7.72c-.78.78-.78 2.05 0 2.83L4 21.41c.39.39.9.59 1.41.59.51 0 1.02-.2 1.41-.59l7.78-7.78 2.81-2.81c.8-.78.8-2.07 0-2.86zM5.41 20L4 18.59l7.72-7.72 1.47 1.35L5.41 20z\"/>\n",
              "  </svg>\n",
              "      </button>\n",
              "      \n",
              "  <style>\n",
              "    .colab-df-container {\n",
              "      display:flex;\n",
              "      flex-wrap:wrap;\n",
              "      gap: 12px;\n",
              "    }\n",
              "\n",
              "    .colab-df-convert {\n",
              "      background-color: #E8F0FE;\n",
              "      border: none;\n",
              "      border-radius: 50%;\n",
              "      cursor: pointer;\n",
              "      display: none;\n",
              "      fill: #1967D2;\n",
              "      height: 32px;\n",
              "      padding: 0 0 0 0;\n",
              "      width: 32px;\n",
              "    }\n",
              "\n",
              "    .colab-df-convert:hover {\n",
              "      background-color: #E2EBFA;\n",
              "      box-shadow: 0px 1px 2px rgba(60, 64, 67, 0.3), 0px 1px 3px 1px rgba(60, 64, 67, 0.15);\n",
              "      fill: #174EA6;\n",
              "    }\n",
              "\n",
              "    [theme=dark] .colab-df-convert {\n",
              "      background-color: #3B4455;\n",
              "      fill: #D2E3FC;\n",
              "    }\n",
              "\n",
              "    [theme=dark] .colab-df-convert:hover {\n",
              "      background-color: #434B5C;\n",
              "      box-shadow: 0px 1px 3px 1px rgba(0, 0, 0, 0.15);\n",
              "      filter: drop-shadow(0px 1px 2px rgba(0, 0, 0, 0.3));\n",
              "      fill: #FFFFFF;\n",
              "    }\n",
              "  </style>\n",
              "\n",
              "      <script>\n",
              "        const buttonEl =\n",
              "          document.querySelector('#df-544f47aa-9d74-487f-ba27-6e3fe4600a9a button.colab-df-convert');\n",
              "        buttonEl.style.display =\n",
              "          google.colab.kernel.accessAllowed ? 'block' : 'none';\n",
              "\n",
              "        async function convertToInteractive(key) {\n",
              "          const element = document.querySelector('#df-544f47aa-9d74-487f-ba27-6e3fe4600a9a');\n",
              "          const dataTable =\n",
              "            await google.colab.kernel.invokeFunction('convertToInteractive',\n",
              "                                                     [key], {});\n",
              "          if (!dataTable) return;\n",
              "\n",
              "          const docLinkHtml = 'Like what you see? Visit the ' +\n",
              "            '<a target=\"_blank\" href=https://colab.research.google.com/notebooks/data_table.ipynb>data table notebook</a>'\n",
              "            + ' to learn more about interactive tables.';\n",
              "          element.innerHTML = '';\n",
              "          dataTable['output_type'] = 'display_data';\n",
              "          await google.colab.output.renderOutput(dataTable, element);\n",
              "          const docLink = document.createElement('div');\n",
              "          docLink.innerHTML = docLinkHtml;\n",
              "          element.appendChild(docLink);\n",
              "        }\n",
              "      </script>\n",
              "    </div>\n",
              "  </div>\n",
              "  "
            ]
          },
          "metadata": {},
          "execution_count": 75
        }
      ]
    },
    {
      "cell_type": "code",
      "source": [
        "DF_raw.dtypes #типы заначений в столбцах"
      ],
      "metadata": {
        "colab": {
          "base_uri": "https://localhost:8080/"
        },
        "id": "nTKof-qgwoR5",
        "outputId": "2927ccbb-eece-4f59-d3a2-ca2cb81fad1d"
      },
      "execution_count": 76,
      "outputs": [
        {
          "output_type": "execute_result",
          "data": {
            "text/plain": [
              "Grad_Rate       int64\n",
              "Accept          int64\n",
              "Top10perc       int64\n",
              "Top25perc       int64\n",
              "F_Undergrad     int64\n",
              "P_Undergrad     int64\n",
              "PhD             int64\n",
              "Expend          int64\n",
              "Private        object\n",
              "dtype: object"
            ]
          },
          "metadata": {},
          "execution_count": 76
        }
      ]
    },
    {
      "cell_type": "code",
      "source": [
        "# Проверим нашу модель на качество\n",
        "print(DF_raw.isnull().sum()+DF_raw.isna().sum())\n",
        "DF_raw.info()"
      ],
      "metadata": {
        "colab": {
          "base_uri": "https://localhost:8080/"
        },
        "id": "PyW-NB7V6bgg",
        "outputId": "1aea24a8-f974-4102-9c63-df318285bcc1"
      },
      "execution_count": 77,
      "outputs": [
        {
          "output_type": "stream",
          "name": "stdout",
          "text": [
            "Grad_Rate      0\n",
            "Accept         0\n",
            "Top10perc      0\n",
            "Top25perc      0\n",
            "F_Undergrad    0\n",
            "P_Undergrad    0\n",
            "PhD            0\n",
            "Expend         0\n",
            "Private        0\n",
            "dtype: int64\n",
            "<class 'pandas.core.frame.DataFrame'>\n",
            "RangeIndex: 777 entries, 0 to 776\n",
            "Data columns (total 9 columns):\n",
            " #   Column       Non-Null Count  Dtype \n",
            "---  ------       --------------  ----- \n",
            " 0   Grad_Rate    777 non-null    int64 \n",
            " 1   Accept       777 non-null    int64 \n",
            " 2   Top10perc    777 non-null    int64 \n",
            " 3   Top25perc    777 non-null    int64 \n",
            " 4   F_Undergrad  777 non-null    int64 \n",
            " 5   P_Undergrad  777 non-null    int64 \n",
            " 6   PhD          777 non-null    int64 \n",
            " 7   Expend       777 non-null    int64 \n",
            " 8   Private      777 non-null    object\n",
            "dtypes: int64(8), object(1)\n",
            "memory usage: 54.8+ KB\n"
          ]
        }
      ]
    },
    {
      "cell_type": "markdown",
      "source": [
        "Отсутствуют пустые(или нулевые по значению) ячейки и количество наблюдений по столбцам одинаковое. Данные в таблице пригодны для анализа."
      ],
      "metadata": {
        "id": "Wfa1KMsh6h92"
      }
    },
    {
      "cell_type": "markdown",
      "source": [
        "### Задание 1. Делим наш фрейм на обучение и тесты. \n",
        "Прежде чем переходить к анализу данных, разделим фрейм на две части: одна (80%) станет основой для обучения моделей, на вторую (20%) мы сделаем прогноз по лучшей модели. Также согласно варианту 16, оставляет только нужные столбцы"
      ],
      "metadata": {
        "id": "LPtvHf0V8CNM"
      }
    },
    {
      "cell_type": "code",
      "source": [
        "# кодируем категориальные переменные\n",
        "# private \n",
        "# 1 -  частный(yes), 0 - государственный(no) университет\n",
        "private_dict = {'Yes' : 1, 'No' : 0}\n",
        "DF_raw['PrivateYes'] = DF_raw.Private.map(private_dict)\n",
        "DF_raw"
      ],
      "metadata": {
        "colab": {
          "base_uri": "https://localhost:8080/",
          "height": 423
        },
        "id": "TBT0KL7a6nB-",
        "outputId": "159f4862-2eb1-40c1-dc29-f73c723fd088"
      },
      "execution_count": 78,
      "outputs": [
        {
          "output_type": "execute_result",
          "data": {
            "text/plain": [
              "     Grad_Rate  Accept  Top10perc  Top25perc  F_Undergrad  P_Undergrad  PhD  \\\n",
              "0           60    1232         23         52         2885          537   70   \n",
              "1           56    1924         16         29         2683         1227   29   \n",
              "2           54    1097         22         50         1036           99   53   \n",
              "3           59     349         60         89          510           63   92   \n",
              "4           15     146         16         44          249          869   76   \n",
              "..         ...     ...        ...        ...          ...          ...  ...   \n",
              "772         40    1515          4         26         3089         2029   60   \n",
              "773         83    1805         24         47         2849         1107   73   \n",
              "774         49    1915         34         61         2793          166   67   \n",
              "775         99    2453         95         99         5217           83   96   \n",
              "776         99    1855         28         63         2988         1726   75   \n",
              "\n",
              "     Expend Private  PrivateYes  \n",
              "0      7041     Yes           1  \n",
              "1     10527     Yes           1  \n",
              "2      8735     Yes           1  \n",
              "3     19016     Yes           1  \n",
              "4     10922     Yes           1  \n",
              "..      ...     ...         ...  \n",
              "772    4469      No           0  \n",
              "773    9189     Yes           1  \n",
              "774    8323     Yes           1  \n",
              "775   40386     Yes           1  \n",
              "776    4509     Yes           1  \n",
              "\n",
              "[777 rows x 10 columns]"
            ],
            "text/html": [
              "\n",
              "  <div id=\"df-0bae18c2-996c-46bc-9b82-446634da93e6\">\n",
              "    <div class=\"colab-df-container\">\n",
              "      <div>\n",
              "<style scoped>\n",
              "    .dataframe tbody tr th:only-of-type {\n",
              "        vertical-align: middle;\n",
              "    }\n",
              "\n",
              "    .dataframe tbody tr th {\n",
              "        vertical-align: top;\n",
              "    }\n",
              "\n",
              "    .dataframe thead th {\n",
              "        text-align: right;\n",
              "    }\n",
              "</style>\n",
              "<table border=\"1\" class=\"dataframe\">\n",
              "  <thead>\n",
              "    <tr style=\"text-align: right;\">\n",
              "      <th></th>\n",
              "      <th>Grad_Rate</th>\n",
              "      <th>Accept</th>\n",
              "      <th>Top10perc</th>\n",
              "      <th>Top25perc</th>\n",
              "      <th>F_Undergrad</th>\n",
              "      <th>P_Undergrad</th>\n",
              "      <th>PhD</th>\n",
              "      <th>Expend</th>\n",
              "      <th>Private</th>\n",
              "      <th>PrivateYes</th>\n",
              "    </tr>\n",
              "  </thead>\n",
              "  <tbody>\n",
              "    <tr>\n",
              "      <th>0</th>\n",
              "      <td>60</td>\n",
              "      <td>1232</td>\n",
              "      <td>23</td>\n",
              "      <td>52</td>\n",
              "      <td>2885</td>\n",
              "      <td>537</td>\n",
              "      <td>70</td>\n",
              "      <td>7041</td>\n",
              "      <td>Yes</td>\n",
              "      <td>1</td>\n",
              "    </tr>\n",
              "    <tr>\n",
              "      <th>1</th>\n",
              "      <td>56</td>\n",
              "      <td>1924</td>\n",
              "      <td>16</td>\n",
              "      <td>29</td>\n",
              "      <td>2683</td>\n",
              "      <td>1227</td>\n",
              "      <td>29</td>\n",
              "      <td>10527</td>\n",
              "      <td>Yes</td>\n",
              "      <td>1</td>\n",
              "    </tr>\n",
              "    <tr>\n",
              "      <th>2</th>\n",
              "      <td>54</td>\n",
              "      <td>1097</td>\n",
              "      <td>22</td>\n",
              "      <td>50</td>\n",
              "      <td>1036</td>\n",
              "      <td>99</td>\n",
              "      <td>53</td>\n",
              "      <td>8735</td>\n",
              "      <td>Yes</td>\n",
              "      <td>1</td>\n",
              "    </tr>\n",
              "    <tr>\n",
              "      <th>3</th>\n",
              "      <td>59</td>\n",
              "      <td>349</td>\n",
              "      <td>60</td>\n",
              "      <td>89</td>\n",
              "      <td>510</td>\n",
              "      <td>63</td>\n",
              "      <td>92</td>\n",
              "      <td>19016</td>\n",
              "      <td>Yes</td>\n",
              "      <td>1</td>\n",
              "    </tr>\n",
              "    <tr>\n",
              "      <th>4</th>\n",
              "      <td>15</td>\n",
              "      <td>146</td>\n",
              "      <td>16</td>\n",
              "      <td>44</td>\n",
              "      <td>249</td>\n",
              "      <td>869</td>\n",
              "      <td>76</td>\n",
              "      <td>10922</td>\n",
              "      <td>Yes</td>\n",
              "      <td>1</td>\n",
              "    </tr>\n",
              "    <tr>\n",
              "      <th>...</th>\n",
              "      <td>...</td>\n",
              "      <td>...</td>\n",
              "      <td>...</td>\n",
              "      <td>...</td>\n",
              "      <td>...</td>\n",
              "      <td>...</td>\n",
              "      <td>...</td>\n",
              "      <td>...</td>\n",
              "      <td>...</td>\n",
              "      <td>...</td>\n",
              "    </tr>\n",
              "    <tr>\n",
              "      <th>772</th>\n",
              "      <td>40</td>\n",
              "      <td>1515</td>\n",
              "      <td>4</td>\n",
              "      <td>26</td>\n",
              "      <td>3089</td>\n",
              "      <td>2029</td>\n",
              "      <td>60</td>\n",
              "      <td>4469</td>\n",
              "      <td>No</td>\n",
              "      <td>0</td>\n",
              "    </tr>\n",
              "    <tr>\n",
              "      <th>773</th>\n",
              "      <td>83</td>\n",
              "      <td>1805</td>\n",
              "      <td>24</td>\n",
              "      <td>47</td>\n",
              "      <td>2849</td>\n",
              "      <td>1107</td>\n",
              "      <td>73</td>\n",
              "      <td>9189</td>\n",
              "      <td>Yes</td>\n",
              "      <td>1</td>\n",
              "    </tr>\n",
              "    <tr>\n",
              "      <th>774</th>\n",
              "      <td>49</td>\n",
              "      <td>1915</td>\n",
              "      <td>34</td>\n",
              "      <td>61</td>\n",
              "      <td>2793</td>\n",
              "      <td>166</td>\n",
              "      <td>67</td>\n",
              "      <td>8323</td>\n",
              "      <td>Yes</td>\n",
              "      <td>1</td>\n",
              "    </tr>\n",
              "    <tr>\n",
              "      <th>775</th>\n",
              "      <td>99</td>\n",
              "      <td>2453</td>\n",
              "      <td>95</td>\n",
              "      <td>99</td>\n",
              "      <td>5217</td>\n",
              "      <td>83</td>\n",
              "      <td>96</td>\n",
              "      <td>40386</td>\n",
              "      <td>Yes</td>\n",
              "      <td>1</td>\n",
              "    </tr>\n",
              "    <tr>\n",
              "      <th>776</th>\n",
              "      <td>99</td>\n",
              "      <td>1855</td>\n",
              "      <td>28</td>\n",
              "      <td>63</td>\n",
              "      <td>2988</td>\n",
              "      <td>1726</td>\n",
              "      <td>75</td>\n",
              "      <td>4509</td>\n",
              "      <td>Yes</td>\n",
              "      <td>1</td>\n",
              "    </tr>\n",
              "  </tbody>\n",
              "</table>\n",
              "<p>777 rows × 10 columns</p>\n",
              "</div>\n",
              "      <button class=\"colab-df-convert\" onclick=\"convertToInteractive('df-0bae18c2-996c-46bc-9b82-446634da93e6')\"\n",
              "              title=\"Convert this dataframe to an interactive table.\"\n",
              "              style=\"display:none;\">\n",
              "        \n",
              "  <svg xmlns=\"http://www.w3.org/2000/svg\" height=\"24px\"viewBox=\"0 0 24 24\"\n",
              "       width=\"24px\">\n",
              "    <path d=\"M0 0h24v24H0V0z\" fill=\"none\"/>\n",
              "    <path d=\"M18.56 5.44l.94 2.06.94-2.06 2.06-.94-2.06-.94-.94-2.06-.94 2.06-2.06.94zm-11 1L8.5 8.5l.94-2.06 2.06-.94-2.06-.94L8.5 2.5l-.94 2.06-2.06.94zm10 10l.94 2.06.94-2.06 2.06-.94-2.06-.94-.94-2.06-.94 2.06-2.06.94z\"/><path d=\"M17.41 7.96l-1.37-1.37c-.4-.4-.92-.59-1.43-.59-.52 0-1.04.2-1.43.59L10.3 9.45l-7.72 7.72c-.78.78-.78 2.05 0 2.83L4 21.41c.39.39.9.59 1.41.59.51 0 1.02-.2 1.41-.59l7.78-7.78 2.81-2.81c.8-.78.8-2.07 0-2.86zM5.41 20L4 18.59l7.72-7.72 1.47 1.35L5.41 20z\"/>\n",
              "  </svg>\n",
              "      </button>\n",
              "      \n",
              "  <style>\n",
              "    .colab-df-container {\n",
              "      display:flex;\n",
              "      flex-wrap:wrap;\n",
              "      gap: 12px;\n",
              "    }\n",
              "\n",
              "    .colab-df-convert {\n",
              "      background-color: #E8F0FE;\n",
              "      border: none;\n",
              "      border-radius: 50%;\n",
              "      cursor: pointer;\n",
              "      display: none;\n",
              "      fill: #1967D2;\n",
              "      height: 32px;\n",
              "      padding: 0 0 0 0;\n",
              "      width: 32px;\n",
              "    }\n",
              "\n",
              "    .colab-df-convert:hover {\n",
              "      background-color: #E2EBFA;\n",
              "      box-shadow: 0px 1px 2px rgba(60, 64, 67, 0.3), 0px 1px 3px 1px rgba(60, 64, 67, 0.15);\n",
              "      fill: #174EA6;\n",
              "    }\n",
              "\n",
              "    [theme=dark] .colab-df-convert {\n",
              "      background-color: #3B4455;\n",
              "      fill: #D2E3FC;\n",
              "    }\n",
              "\n",
              "    [theme=dark] .colab-df-convert:hover {\n",
              "      background-color: #434B5C;\n",
              "      box-shadow: 0px 1px 3px 1px rgba(0, 0, 0, 0.15);\n",
              "      filter: drop-shadow(0px 1px 2px rgba(0, 0, 0, 0.3));\n",
              "      fill: #FFFFFF;\n",
              "    }\n",
              "  </style>\n",
              "\n",
              "      <script>\n",
              "        const buttonEl =\n",
              "          document.querySelector('#df-0bae18c2-996c-46bc-9b82-446634da93e6 button.colab-df-convert');\n",
              "        buttonEl.style.display =\n",
              "          google.colab.kernel.accessAllowed ? 'block' : 'none';\n",
              "\n",
              "        async function convertToInteractive(key) {\n",
              "          const element = document.querySelector('#df-0bae18c2-996c-46bc-9b82-446634da93e6');\n",
              "          const dataTable =\n",
              "            await google.colab.kernel.invokeFunction('convertToInteractive',\n",
              "                                                     [key], {});\n",
              "          if (!dataTable) return;\n",
              "\n",
              "          const docLinkHtml = 'Like what you see? Visit the ' +\n",
              "            '<a target=\"_blank\" href=https://colab.research.google.com/notebooks/data_table.ipynb>data table notebook</a>'\n",
              "            + ' to learn more about interactive tables.';\n",
              "          element.innerHTML = '';\n",
              "          dataTable['output_type'] = 'display_data';\n",
              "          await google.colab.output.renderOutput(dataTable, element);\n",
              "          const docLink = document.createElement('div');\n",
              "          docLink.innerHTML = docLinkHtml;\n",
              "          element.appendChild(docLink);\n",
              "        }\n",
              "      </script>\n",
              "    </div>\n",
              "  </div>\n",
              "  "
            ]
          },
          "metadata": {},
          "execution_count": 78
        }
      ]
    },
    {
      "cell_type": "code",
      "source": [
        "# оставляет только нужные перерменные\n",
        "\n",
        "DF_all = DF_raw[['Grad_Rate', 'Accept', 'Expend', 'PrivateYes']]\n",
        "\n",
        "DF_all"
      ],
      "metadata": {
        "colab": {
          "base_uri": "https://localhost:8080/",
          "height": 423
        },
        "id": "jHEnGPzA6MaQ",
        "outputId": "80d7bf82-bc5e-4876-dfd4-d78712b87e26"
      },
      "execution_count": 81,
      "outputs": [
        {
          "output_type": "execute_result",
          "data": {
            "text/plain": [
              "     Grad_Rate  Accept  Expend  PrivateYes\n",
              "0           60    1232    7041           1\n",
              "1           56    1924   10527           1\n",
              "2           54    1097    8735           1\n",
              "3           59     349   19016           1\n",
              "4           15     146   10922           1\n",
              "..         ...     ...     ...         ...\n",
              "772         40    1515    4469           0\n",
              "773         83    1805    9189           1\n",
              "774         49    1915    8323           1\n",
              "775         99    2453   40386           1\n",
              "776         99    1855    4509           1\n",
              "\n",
              "[777 rows x 4 columns]"
            ],
            "text/html": [
              "\n",
              "  <div id=\"df-d052fb0e-3706-4ca7-99b8-964ab08412ee\">\n",
              "    <div class=\"colab-df-container\">\n",
              "      <div>\n",
              "<style scoped>\n",
              "    .dataframe tbody tr th:only-of-type {\n",
              "        vertical-align: middle;\n",
              "    }\n",
              "\n",
              "    .dataframe tbody tr th {\n",
              "        vertical-align: top;\n",
              "    }\n",
              "\n",
              "    .dataframe thead th {\n",
              "        text-align: right;\n",
              "    }\n",
              "</style>\n",
              "<table border=\"1\" class=\"dataframe\">\n",
              "  <thead>\n",
              "    <tr style=\"text-align: right;\">\n",
              "      <th></th>\n",
              "      <th>Grad_Rate</th>\n",
              "      <th>Accept</th>\n",
              "      <th>Expend</th>\n",
              "      <th>PrivateYes</th>\n",
              "    </tr>\n",
              "  </thead>\n",
              "  <tbody>\n",
              "    <tr>\n",
              "      <th>0</th>\n",
              "      <td>60</td>\n",
              "      <td>1232</td>\n",
              "      <td>7041</td>\n",
              "      <td>1</td>\n",
              "    </tr>\n",
              "    <tr>\n",
              "      <th>1</th>\n",
              "      <td>56</td>\n",
              "      <td>1924</td>\n",
              "      <td>10527</td>\n",
              "      <td>1</td>\n",
              "    </tr>\n",
              "    <tr>\n",
              "      <th>2</th>\n",
              "      <td>54</td>\n",
              "      <td>1097</td>\n",
              "      <td>8735</td>\n",
              "      <td>1</td>\n",
              "    </tr>\n",
              "    <tr>\n",
              "      <th>3</th>\n",
              "      <td>59</td>\n",
              "      <td>349</td>\n",
              "      <td>19016</td>\n",
              "      <td>1</td>\n",
              "    </tr>\n",
              "    <tr>\n",
              "      <th>4</th>\n",
              "      <td>15</td>\n",
              "      <td>146</td>\n",
              "      <td>10922</td>\n",
              "      <td>1</td>\n",
              "    </tr>\n",
              "    <tr>\n",
              "      <th>...</th>\n",
              "      <td>...</td>\n",
              "      <td>...</td>\n",
              "      <td>...</td>\n",
              "      <td>...</td>\n",
              "    </tr>\n",
              "    <tr>\n",
              "      <th>772</th>\n",
              "      <td>40</td>\n",
              "      <td>1515</td>\n",
              "      <td>4469</td>\n",
              "      <td>0</td>\n",
              "    </tr>\n",
              "    <tr>\n",
              "      <th>773</th>\n",
              "      <td>83</td>\n",
              "      <td>1805</td>\n",
              "      <td>9189</td>\n",
              "      <td>1</td>\n",
              "    </tr>\n",
              "    <tr>\n",
              "      <th>774</th>\n",
              "      <td>49</td>\n",
              "      <td>1915</td>\n",
              "      <td>8323</td>\n",
              "      <td>1</td>\n",
              "    </tr>\n",
              "    <tr>\n",
              "      <th>775</th>\n",
              "      <td>99</td>\n",
              "      <td>2453</td>\n",
              "      <td>40386</td>\n",
              "      <td>1</td>\n",
              "    </tr>\n",
              "    <tr>\n",
              "      <th>776</th>\n",
              "      <td>99</td>\n",
              "      <td>1855</td>\n",
              "      <td>4509</td>\n",
              "      <td>1</td>\n",
              "    </tr>\n",
              "  </tbody>\n",
              "</table>\n",
              "<p>777 rows × 4 columns</p>\n",
              "</div>\n",
              "      <button class=\"colab-df-convert\" onclick=\"convertToInteractive('df-d052fb0e-3706-4ca7-99b8-964ab08412ee')\"\n",
              "              title=\"Convert this dataframe to an interactive table.\"\n",
              "              style=\"display:none;\">\n",
              "        \n",
              "  <svg xmlns=\"http://www.w3.org/2000/svg\" height=\"24px\"viewBox=\"0 0 24 24\"\n",
              "       width=\"24px\">\n",
              "    <path d=\"M0 0h24v24H0V0z\" fill=\"none\"/>\n",
              "    <path d=\"M18.56 5.44l.94 2.06.94-2.06 2.06-.94-2.06-.94-.94-2.06-.94 2.06-2.06.94zm-11 1L8.5 8.5l.94-2.06 2.06-.94-2.06-.94L8.5 2.5l-.94 2.06-2.06.94zm10 10l.94 2.06.94-2.06 2.06-.94-2.06-.94-.94-2.06-.94 2.06-2.06.94z\"/><path d=\"M17.41 7.96l-1.37-1.37c-.4-.4-.92-.59-1.43-.59-.52 0-1.04.2-1.43.59L10.3 9.45l-7.72 7.72c-.78.78-.78 2.05 0 2.83L4 21.41c.39.39.9.59 1.41.59.51 0 1.02-.2 1.41-.59l7.78-7.78 2.81-2.81c.8-.78.8-2.07 0-2.86zM5.41 20L4 18.59l7.72-7.72 1.47 1.35L5.41 20z\"/>\n",
              "  </svg>\n",
              "      </button>\n",
              "      \n",
              "  <style>\n",
              "    .colab-df-container {\n",
              "      display:flex;\n",
              "      flex-wrap:wrap;\n",
              "      gap: 12px;\n",
              "    }\n",
              "\n",
              "    .colab-df-convert {\n",
              "      background-color: #E8F0FE;\n",
              "      border: none;\n",
              "      border-radius: 50%;\n",
              "      cursor: pointer;\n",
              "      display: none;\n",
              "      fill: #1967D2;\n",
              "      height: 32px;\n",
              "      padding: 0 0 0 0;\n",
              "      width: 32px;\n",
              "    }\n",
              "\n",
              "    .colab-df-convert:hover {\n",
              "      background-color: #E2EBFA;\n",
              "      box-shadow: 0px 1px 2px rgba(60, 64, 67, 0.3), 0px 1px 3px 1px rgba(60, 64, 67, 0.15);\n",
              "      fill: #174EA6;\n",
              "    }\n",
              "\n",
              "    [theme=dark] .colab-df-convert {\n",
              "      background-color: #3B4455;\n",
              "      fill: #D2E3FC;\n",
              "    }\n",
              "\n",
              "    [theme=dark] .colab-df-convert:hover {\n",
              "      background-color: #434B5C;\n",
              "      box-shadow: 0px 1px 3px 1px rgba(0, 0, 0, 0.15);\n",
              "      filter: drop-shadow(0px 1px 2px rgba(0, 0, 0, 0.3));\n",
              "      fill: #FFFFFF;\n",
              "    }\n",
              "  </style>\n",
              "\n",
              "      <script>\n",
              "        const buttonEl =\n",
              "          document.querySelector('#df-d052fb0e-3706-4ca7-99b8-964ab08412ee button.colab-df-convert');\n",
              "        buttonEl.style.display =\n",
              "          google.colab.kernel.accessAllowed ? 'block' : 'none';\n",
              "\n",
              "        async function convertToInteractive(key) {\n",
              "          const element = document.querySelector('#df-d052fb0e-3706-4ca7-99b8-964ab08412ee');\n",
              "          const dataTable =\n",
              "            await google.colab.kernel.invokeFunction('convertToInteractive',\n",
              "                                                     [key], {});\n",
              "          if (!dataTable) return;\n",
              "\n",
              "          const docLinkHtml = 'Like what you see? Visit the ' +\n",
              "            '<a target=\"_blank\" href=https://colab.research.google.com/notebooks/data_table.ipynb>data table notebook</a>'\n",
              "            + ' to learn more about interactive tables.';\n",
              "          element.innerHTML = '';\n",
              "          dataTable['output_type'] = 'display_data';\n",
              "          await google.colab.output.renderOutput(dataTable, element);\n",
              "          const docLink = document.createElement('div');\n",
              "          docLink.innerHTML = docLinkHtml;\n",
              "          element.appendChild(docLink);\n",
              "        }\n",
              "      </script>\n",
              "    </div>\n",
              "  </div>\n",
              "  "
            ]
          },
          "metadata": {},
          "execution_count": 81
        }
      ]
    },
    {
      "cell_type": "markdown",
      "source": [
        "Здесь:\n",
        "* **Grad_Rate**- выпускной балл;\n",
        "* **Accept**– количество реализованных заявок на поступление;\n",
        "* **Expend**– расходы на обучение на одного студента;\n",
        "* **PrivateYes**– государственный или частный университет (1, если частный);"
      ],
      "metadata": {
        "id": "DaxhkCOfwYox"
      }
    },
    {
      "cell_type": "code",
      "source": [
        "# удаляем фрейм-исходник\n",
        "del DF_raw"
      ],
      "metadata": {
        "id": "oBPXUzhZ8xFj"
      },
      "execution_count": 82,
      "outputs": []
    },
    {
      "cell_type": "code",
      "source": [
        "# данные для построения моделей, оставляем 80%\n",
        "DF = DF_all.sample(frac=0.8, random_state=my_seed)\n",
        "\n",
        "# данные для прогнозов\n",
        "DF_predict = DF_all.drop(DF.index)"
      ],
      "metadata": {
        "id": "-v3LqV-P3Dda"
      },
      "execution_count": 83,
      "outputs": []
    },
    {
      "cell_type": "markdown",
      "source": [
        "## Задание 2.Предварительный анализ данных   \n",
        "\n",
        "### Считаем описательные статистики   \n",
        "\n",
        "Рассчитаем описательные статистики для непрерывных переменных. Из таблицы ниже можно видеть, что все переменные сильно отличаются по масштабу."
      ],
      "metadata": {
        "id": "Rjy8Kty64Be8"
      }
    },
    {
      "cell_type": "code",
      "source": [
        "# описательные статистики для непрерывных переменных\n",
        "DF[['Grad_Rate', 'Accept', 'Expend']].describe()"
      ],
      "metadata": {
        "colab": {
          "base_uri": "https://localhost:8080/",
          "height": 300
        },
        "id": "sxf0csqU3Dfi",
        "outputId": "78116f0a-dd61-42e3-be66-e41c6329380c"
      },
      "execution_count": 100,
      "outputs": [
        {
          "output_type": "execute_result",
          "data": {
            "text/plain": [
              "        Grad_Rate        Accept        Expend\n",
              "count  622.000000    622.000000    622.000000\n",
              "mean    64.911576   1978.663987   9682.720257\n",
              "std     17.296046   2461.590744   5414.968113\n",
              "min     10.000000     72.000000   3186.000000\n",
              "25%     53.000000    573.000000   6742.500000\n",
              "50%     65.000000   1090.500000   8412.000000\n",
              "75%     77.000000   2295.000000  10807.750000\n",
              "max    118.000000  26330.000000  56233.000000"
            ],
            "text/html": [
              "\n",
              "  <div id=\"df-976f875a-23d8-467d-a2d7-80e64c1c2af1\">\n",
              "    <div class=\"colab-df-container\">\n",
              "      <div>\n",
              "<style scoped>\n",
              "    .dataframe tbody tr th:only-of-type {\n",
              "        vertical-align: middle;\n",
              "    }\n",
              "\n",
              "    .dataframe tbody tr th {\n",
              "        vertical-align: top;\n",
              "    }\n",
              "\n",
              "    .dataframe thead th {\n",
              "        text-align: right;\n",
              "    }\n",
              "</style>\n",
              "<table border=\"1\" class=\"dataframe\">\n",
              "  <thead>\n",
              "    <tr style=\"text-align: right;\">\n",
              "      <th></th>\n",
              "      <th>Grad_Rate</th>\n",
              "      <th>Accept</th>\n",
              "      <th>Expend</th>\n",
              "    </tr>\n",
              "  </thead>\n",
              "  <tbody>\n",
              "    <tr>\n",
              "      <th>count</th>\n",
              "      <td>622.000000</td>\n",
              "      <td>622.000000</td>\n",
              "      <td>622.000000</td>\n",
              "    </tr>\n",
              "    <tr>\n",
              "      <th>mean</th>\n",
              "      <td>64.911576</td>\n",
              "      <td>1978.663987</td>\n",
              "      <td>9682.720257</td>\n",
              "    </tr>\n",
              "    <tr>\n",
              "      <th>std</th>\n",
              "      <td>17.296046</td>\n",
              "      <td>2461.590744</td>\n",
              "      <td>5414.968113</td>\n",
              "    </tr>\n",
              "    <tr>\n",
              "      <th>min</th>\n",
              "      <td>10.000000</td>\n",
              "      <td>72.000000</td>\n",
              "      <td>3186.000000</td>\n",
              "    </tr>\n",
              "    <tr>\n",
              "      <th>25%</th>\n",
              "      <td>53.000000</td>\n",
              "      <td>573.000000</td>\n",
              "      <td>6742.500000</td>\n",
              "    </tr>\n",
              "    <tr>\n",
              "      <th>50%</th>\n",
              "      <td>65.000000</td>\n",
              "      <td>1090.500000</td>\n",
              "      <td>8412.000000</td>\n",
              "    </tr>\n",
              "    <tr>\n",
              "      <th>75%</th>\n",
              "      <td>77.000000</td>\n",
              "      <td>2295.000000</td>\n",
              "      <td>10807.750000</td>\n",
              "    </tr>\n",
              "    <tr>\n",
              "      <th>max</th>\n",
              "      <td>118.000000</td>\n",
              "      <td>26330.000000</td>\n",
              "      <td>56233.000000</td>\n",
              "    </tr>\n",
              "  </tbody>\n",
              "</table>\n",
              "</div>\n",
              "      <button class=\"colab-df-convert\" onclick=\"convertToInteractive('df-976f875a-23d8-467d-a2d7-80e64c1c2af1')\"\n",
              "              title=\"Convert this dataframe to an interactive table.\"\n",
              "              style=\"display:none;\">\n",
              "        \n",
              "  <svg xmlns=\"http://www.w3.org/2000/svg\" height=\"24px\"viewBox=\"0 0 24 24\"\n",
              "       width=\"24px\">\n",
              "    <path d=\"M0 0h24v24H0V0z\" fill=\"none\"/>\n",
              "    <path d=\"M18.56 5.44l.94 2.06.94-2.06 2.06-.94-2.06-.94-.94-2.06-.94 2.06-2.06.94zm-11 1L8.5 8.5l.94-2.06 2.06-.94-2.06-.94L8.5 2.5l-.94 2.06-2.06.94zm10 10l.94 2.06.94-2.06 2.06-.94-2.06-.94-.94-2.06-.94 2.06-2.06.94z\"/><path d=\"M17.41 7.96l-1.37-1.37c-.4-.4-.92-.59-1.43-.59-.52 0-1.04.2-1.43.59L10.3 9.45l-7.72 7.72c-.78.78-.78 2.05 0 2.83L4 21.41c.39.39.9.59 1.41.59.51 0 1.02-.2 1.41-.59l7.78-7.78 2.81-2.81c.8-.78.8-2.07 0-2.86zM5.41 20L4 18.59l7.72-7.72 1.47 1.35L5.41 20z\"/>\n",
              "  </svg>\n",
              "      </button>\n",
              "      \n",
              "  <style>\n",
              "    .colab-df-container {\n",
              "      display:flex;\n",
              "      flex-wrap:wrap;\n",
              "      gap: 12px;\n",
              "    }\n",
              "\n",
              "    .colab-df-convert {\n",
              "      background-color: #E8F0FE;\n",
              "      border: none;\n",
              "      border-radius: 50%;\n",
              "      cursor: pointer;\n",
              "      display: none;\n",
              "      fill: #1967D2;\n",
              "      height: 32px;\n",
              "      padding: 0 0 0 0;\n",
              "      width: 32px;\n",
              "    }\n",
              "\n",
              "    .colab-df-convert:hover {\n",
              "      background-color: #E2EBFA;\n",
              "      box-shadow: 0px 1px 2px rgba(60, 64, 67, 0.3), 0px 1px 3px 1px rgba(60, 64, 67, 0.15);\n",
              "      fill: #174EA6;\n",
              "    }\n",
              "\n",
              "    [theme=dark] .colab-df-convert {\n",
              "      background-color: #3B4455;\n",
              "      fill: #D2E3FC;\n",
              "    }\n",
              "\n",
              "    [theme=dark] .colab-df-convert:hover {\n",
              "      background-color: #434B5C;\n",
              "      box-shadow: 0px 1px 3px 1px rgba(0, 0, 0, 0.15);\n",
              "      filter: drop-shadow(0px 1px 2px rgba(0, 0, 0, 0.3));\n",
              "      fill: #FFFFFF;\n",
              "    }\n",
              "  </style>\n",
              "\n",
              "      <script>\n",
              "        const buttonEl =\n",
              "          document.querySelector('#df-976f875a-23d8-467d-a2d7-80e64c1c2af1 button.colab-df-convert');\n",
              "        buttonEl.style.display =\n",
              "          google.colab.kernel.accessAllowed ? 'block' : 'none';\n",
              "\n",
              "        async function convertToInteractive(key) {\n",
              "          const element = document.querySelector('#df-976f875a-23d8-467d-a2d7-80e64c1c2af1');\n",
              "          const dataTable =\n",
              "            await google.colab.kernel.invokeFunction('convertToInteractive',\n",
              "                                                     [key], {});\n",
              "          if (!dataTable) return;\n",
              "\n",
              "          const docLinkHtml = 'Like what you see? Visit the ' +\n",
              "            '<a target=\"_blank\" href=https://colab.research.google.com/notebooks/data_table.ipynb>data table notebook</a>'\n",
              "            + ' to learn more about interactive tables.';\n",
              "          element.innerHTML = '';\n",
              "          dataTable['output_type'] = 'display_data';\n",
              "          await google.colab.output.renderOutput(dataTable, element);\n",
              "          const docLink = document.createElement('div');\n",
              "          docLink.innerHTML = docLinkHtml;\n",
              "          element.appendChild(docLink);\n",
              "        }\n",
              "      </script>\n",
              "    </div>\n",
              "  </div>\n",
              "  "
            ]
          },
          "metadata": {},
          "execution_count": 100
        }
      ]
    },
    {
      "cell_type": "markdown",
      "source": [
        "### Строим графики  \n",
        "\n",
        "Посмотрим на графики взаимного разброса непрерывных переменных. "
      ],
      "metadata": {
        "id": "j9TsMVnjCIb-"
      }
    },
    {
      "cell_type": "code",
      "source": [
        "# матричный график разброса с линиями регрессии\n",
        "g = sns.pairplot(DF[['Grad_Rate', 'Accept', 'Expend']])\n",
        "g.fig.set_size_inches(15,15)\n",
        "plt.show()\n"
      ],
      "metadata": {
        "colab": {
          "base_uri": "https://localhost:8080/",
          "height": 1000
        },
        "id": "0PrFFv5JCJhe",
        "outputId": "caf0425a-eb0e-4c70-cae5-93e1c61a4102"
      },
      "execution_count": 102,
      "outputs": [
        {
          "output_type": "display_data",
          "data": {
            "text/plain": [
              "<Figure size 1080x1080 with 12 Axes>"
            ],
            "image/png": "[encoded data removed]"
          },
          "metadata": {}
        }
      ]
    },
    {
      "cell_type": "markdown",
      "source": [
        "Судя по этим графикам:  \n",
        "* распределение зависимой `Accept` не является нормальным;  \n",
        "* `Expend` и `Grad_Rate` распределены нормально;  \n",
        "* облако наблюдений на графиках представляет собой одну часть и одиночные выбросы;  \n",
        "* в объясняющих переменных отсутствуют дискретные;  \n",
        "* с увеличением значения `Grad_rate` разброс значений `Expend` и `Accept` увеличивается (также при достаточно высоком `Grad_rate` возможны выбросы у `Expend` и `Accept`). "
      ],
      "metadata": {
        "id": "l8hXQj3nCXA2"
      }
    },
    {
      "cell_type": "markdown",
      "source": [
        "### Задание 3: Так как зависимая переменная распределена нормально, этап ее логарифмирования мы опускаем. Проверка на нормальность приведена ниже."
      ],
      "metadata": {
        "id": "2rpLviZeQ04R"
      }
    },
    {
      "cell_type": "code",
      "source": [
        "# тестируем на нормальность\n",
        "for col in ['Grad_Rate']:\n",
        "    stat, p = shapiro(DF[col])\n",
        "    print(col, 'Statistics=%.2f, p=%.4f' % (stat, p))\n",
        "    # интерпретация\n",
        "    alpha = 0.05\n",
        "    if p > alpha:\n",
        "        print('Распределение нормально (H0 не отклоняется)\\n')\n",
        "    else:\n",
        "        print('Распределение не нормально (H0 отклоняется)\\n')"
      ],
      "metadata": {
        "colab": {
          "base_uri": "https://localhost:8080/"
        },
        "id": "k8z5C5BgQH3T",
        "outputId": "c74b0a75-4533-4057-f0b8-b92173e4b4b4"
      },
      "execution_count": 128,
      "outputs": [
        {
          "output_type": "stream",
          "name": "stdout",
          "text": [
            "Grad_Rate Statistics=1.00, p=0.0706\n",
            "Распределение нормально (H0 не отклоняется)\n",
            "\n"
          ]
        }
      ]
    },
    {
      "cell_type": "markdown",
      "source": [
        "Наблюдаемые закономерности могут объясняться влиянием одной или нескольких из объясняющих переменных. Построим график, раскрасив точки цветом в зависимости от типа университета. "
      ],
      "metadata": {
        "id": "Wnwc3HJrQTcq"
      }
    },
    {
      "cell_type": "code",
      "source": [
        "# матричный график разброса с цветом по типу университета (это единственная категориальная переменная в моем варианте)\n",
        "sns.pairplot(DF[['Grad_Rate', 'Accept', 'Expend', 'PrivateYes']],\n",
        "            hue='PrivateYes')\n",
        "\n",
        "plt.show()\n",
        "# напоминание: 0 - государственный, 1 - частный"
      ],
      "metadata": {
        "colab": {
          "base_uri": "https://localhost:8080/",
          "height": 550
        },
        "id": "qk7BeCXIJcSc",
        "outputId": "7ebe7e4d-2f01-4649-f9d9-0ca257aff7ba"
      },
      "execution_count": 109,
      "outputs": [
        {
          "output_type": "display_data",
          "data": {
            "text/plain": [
              "<Figure size 595.625x540 with 12 Axes>"
            ],
            "image/png": "[encoded data removed]"
          },
          "metadata": {}
        }
      ]
    },
    {
      "cell_type": "markdown",
      "source": [
        "Посмотрим на корреляционные матрицы непрерывных переменных фрейма."
      ],
      "metadata": {
        "id": "qtvXA0KPKvtP"
      }
    },
    {
      "cell_type": "code",
      "source": [
        "# корреляционная матрица по всем наблюдениям\n",
        "corr_mat = DF[['Grad_Rate', 'Accept', 'Expend', 'PrivateYes']].corr()\n",
        "corr_mat.style.background_gradient(cmap='coolwarm').set_precision(2)\n",
        "#corr_mat"
      ],
      "metadata": {
        "colab": {
          "base_uri": "https://localhost:8080/",
          "height": 210
        },
        "id": "yaKEvJRxKw1G",
        "outputId": "a75988a4-96f4-4664-cd24-13e9f5a44b97"
      },
      "execution_count": 110,
      "outputs": [
        {
          "output_type": "stream",
          "name": "stderr",
          "text": [
            "/usr/local/lib/python3.7/dist-packages/ipykernel_launcher.py:3: FutureWarning: this method is deprecated in favour of `Styler.format(precision=..)`\n",
            "  This is separate from the ipykernel package so we can avoid doing imports until\n"
          ]
        },
        {
          "output_type": "execute_result",
          "data": {
            "text/plain": [
              "<pandas.io.formats.style.Styler at 0x7efe32c2ec50>"
            ],
            "text/html": [
              "<style type=\"text/css\">\n",
              "#T_a0e30_row0_col0, #T_a0e30_row1_col1, #T_a0e30_row2_col2, #T_a0e30_row3_col3 {\n",
              "  background-color: #b40426;\n",
              "  color: #f1f1f1;\n",
              "}\n",
              "#T_a0e30_row0_col1 {\n",
              "  background-color: #bcd2f7;\n",
              "  color: #000000;\n",
              "}\n",
              "#T_a0e30_row0_col2 {\n",
              "  background-color: #98b9ff;\n",
              "  color: #000000;\n",
              "}\n",
              "#T_a0e30_row0_col3 {\n",
              "  background-color: #e5d8d1;\n",
              "  color: #000000;\n",
              "}\n",
              "#T_a0e30_row1_col0, #T_a0e30_row1_col2, #T_a0e30_row1_col3, #T_a0e30_row3_col1 {\n",
              "  background-color: #3b4cc0;\n",
              "  color: #f1f1f1;\n",
              "}\n",
              "#T_a0e30_row2_col0 {\n",
              "  background-color: #a1c0ff;\n",
              "  color: #000000;\n",
              "}\n",
              "#T_a0e30_row2_col1 {\n",
              "  background-color: #c4d5f3;\n",
              "  color: #000000;\n",
              "}\n",
              "#T_a0e30_row2_col3 {\n",
              "  background-color: #d7dce3;\n",
              "  color: #000000;\n",
              "}\n",
              "#T_a0e30_row3_col0 {\n",
              "  background-color: #88abfd;\n",
              "  color: #000000;\n",
              "}\n",
              "#T_a0e30_row3_col2 {\n",
              "  background-color: #5d7ce6;\n",
              "  color: #f1f1f1;\n",
              "}\n",
              "</style>\n",
              "<table id=\"T_a0e30_\" class=\"dataframe\">\n",
              "  <thead>\n",
              "    <tr>\n",
              "      <th class=\"blank level0\" >&nbsp;</th>\n",
              "      <th class=\"col_heading level0 col0\" >Grad_Rate</th>\n",
              "      <th class=\"col_heading level0 col1\" >Accept</th>\n",
              "      <th class=\"col_heading level0 col2\" >Expend</th>\n",
              "      <th class=\"col_heading level0 col3\" >PrivateYes</th>\n",
              "    </tr>\n",
              "  </thead>\n",
              "  <tbody>\n",
              "    <tr>\n",
              "      <th id=\"T_a0e30_level0_row0\" class=\"row_heading level0 row0\" >Grad_Rate</th>\n",
              "      <td id=\"T_a0e30_row0_col0\" class=\"data row0 col0\" >1.00</td>\n",
              "      <td id=\"T_a0e30_row0_col1\" class=\"data row0 col1\" >0.11</td>\n",
              "      <td id=\"T_a0e30_row0_col2\" class=\"data row0 col2\" >0.38</td>\n",
              "      <td id=\"T_a0e30_row0_col3\" class=\"data row0 col3\" >0.32</td>\n",
              "    </tr>\n",
              "    <tr>\n",
              "      <th id=\"T_a0e30_level0_row1\" class=\"row_heading level0 row1\" >Accept</th>\n",
              "      <td id=\"T_a0e30_row1_col0\" class=\"data row1 col0\" >0.11</td>\n",
              "      <td id=\"T_a0e30_row1_col1\" class=\"data row1 col1\" >1.00</td>\n",
              "      <td id=\"T_a0e30_row1_col2\" class=\"data row1 col2\" >0.14</td>\n",
              "      <td id=\"T_a0e30_row1_col3\" class=\"data row1 col3\" >-0.46</td>\n",
              "    </tr>\n",
              "    <tr>\n",
              "      <th id=\"T_a0e30_level0_row2\" class=\"row_heading level0 row2\" >Expend</th>\n",
              "      <td id=\"T_a0e30_row2_col0\" class=\"data row2 col0\" >0.38</td>\n",
              "      <td id=\"T_a0e30_row2_col1\" class=\"data row2 col1\" >0.14</td>\n",
              "      <td id=\"T_a0e30_row2_col2\" class=\"data row2 col2\" >1.00</td>\n",
              "      <td id=\"T_a0e30_row2_col3\" class=\"data row2 col3\" >0.23</td>\n",
              "    </tr>\n",
              "    <tr>\n",
              "      <th id=\"T_a0e30_level0_row3\" class=\"row_heading level0 row3\" >PrivateYes</th>\n",
              "      <td id=\"T_a0e30_row3_col0\" class=\"data row3 col0\" >0.32</td>\n",
              "      <td id=\"T_a0e30_row3_col1\" class=\"data row3 col1\" >-0.46</td>\n",
              "      <td id=\"T_a0e30_row3_col2\" class=\"data row3 col2\" >0.23</td>\n",
              "      <td id=\"T_a0e30_row3_col3\" class=\"data row3 col3\" >1.00</td>\n",
              "    </tr>\n",
              "  </tbody>\n",
              "</table>\n"
            ]
          },
          "metadata": {},
          "execution_count": 110
        }
      ]
    },
    {
      "cell_type": "markdown",
      "source": [
        "Посчитаем корреляционные матрицы для студентов частного университета и государственного.  "
      ],
      "metadata": {
        "id": "Ii1pyjJ1K-0-"
      }
    },
    {
      "cell_type": "code",
      "source": [
        "# корреляционная матрица по частному университету\n",
        "corr_mat = DF.loc[DF['PrivateYes'] == 1][['Grad_Rate', 'Accept', 'Expend']].corr()\n",
        "#corr_mat.style.background_gradient(cmap='coolwarm').set_precision(2)\n",
        "corr_mat"
      ],
      "metadata": {
        "colab": {
          "base_uri": "https://localhost:8080/",
          "height": 143
        },
        "id": "5H4zqOSKLFCl",
        "outputId": "887f6e6f-72cb-4b65-bf67-75bb37544b46"
      },
      "execution_count": 117,
      "outputs": [
        {
          "output_type": "execute_result",
          "data": {
            "text/plain": [
              "           Grad_Rate    Accept    Expend\n",
              "Grad_Rate   1.000000  0.294261  0.350960\n",
              "Accept      0.294261  1.000000  0.359962\n",
              "Expend      0.350960  0.359962  1.000000"
            ],
            "text/html": [
              "\n",
              "  <div id=\"df-a2ef70cf-d812-4ef8-9ba5-f82fb43def6f\">\n",
              "    <div class=\"colab-df-container\">\n",
              "      <div>\n",
              "<style scoped>\n",
              "    .dataframe tbody tr th:only-of-type {\n",
              "        vertical-align: middle;\n",
              "    }\n",
              "\n",
              "    .dataframe tbody tr th {\n",
              "        vertical-align: top;\n",
              "    }\n",
              "\n",
              "    .dataframe thead th {\n",
              "        text-align: right;\n",
              "    }\n",
              "</style>\n",
              "<table border=\"1\" class=\"dataframe\">\n",
              "  <thead>\n",
              "    <tr style=\"text-align: right;\">\n",
              "      <th></th>\n",
              "      <th>Grad_Rate</th>\n",
              "      <th>Accept</th>\n",
              "      <th>Expend</th>\n",
              "    </tr>\n",
              "  </thead>\n",
              "  <tbody>\n",
              "    <tr>\n",
              "      <th>Grad_Rate</th>\n",
              "      <td>1.000000</td>\n",
              "      <td>0.294261</td>\n",
              "      <td>0.350960</td>\n",
              "    </tr>\n",
              "    <tr>\n",
              "      <th>Accept</th>\n",
              "      <td>0.294261</td>\n",
              "      <td>1.000000</td>\n",
              "      <td>0.359962</td>\n",
              "    </tr>\n",
              "    <tr>\n",
              "      <th>Expend</th>\n",
              "      <td>0.350960</td>\n",
              "      <td>0.359962</td>\n",
              "      <td>1.000000</td>\n",
              "    </tr>\n",
              "  </tbody>\n",
              "</table>\n",
              "</div>\n",
              "      <button class=\"colab-df-convert\" onclick=\"convertToInteractive('df-a2ef70cf-d812-4ef8-9ba5-f82fb43def6f')\"\n",
              "              title=\"Convert this dataframe to an interactive table.\"\n",
              "              style=\"display:none;\">\n",
              "        \n",
              "  <svg xmlns=\"http://www.w3.org/2000/svg\" height=\"24px\"viewBox=\"0 0 24 24\"\n",
              "       width=\"24px\">\n",
              "    <path d=\"M0 0h24v24H0V0z\" fill=\"none\"/>\n",
              "    <path d=\"M18.56 5.44l.94 2.06.94-2.06 2.06-.94-2.06-.94-.94-2.06-.94 2.06-2.06.94zm-11 1L8.5 8.5l.94-2.06 2.06-.94-2.06-.94L8.5 2.5l-.94 2.06-2.06.94zm10 10l.94 2.06.94-2.06 2.06-.94-2.06-.94-.94-2.06-.94 2.06-2.06.94z\"/><path d=\"M17.41 7.96l-1.37-1.37c-.4-.4-.92-.59-1.43-.59-.52 0-1.04.2-1.43.59L10.3 9.45l-7.72 7.72c-.78.78-.78 2.05 0 2.83L4 21.41c.39.39.9.59 1.41.59.51 0 1.02-.2 1.41-.59l7.78-7.78 2.81-2.81c.8-.78.8-2.07 0-2.86zM5.41 20L4 18.59l7.72-7.72 1.47 1.35L5.41 20z\"/>\n",
              "  </svg>\n",
              "      </button>\n",
              "      \n",
              "  <style>\n",
              "    .colab-df-container {\n",
              "      display:flex;\n",
              "      flex-wrap:wrap;\n",
              "      gap: 12px;\n",
              "    }\n",
              "\n",
              "    .colab-df-convert {\n",
              "      background-color: #E8F0FE;\n",
              "      border: none;\n",
              "      border-radius: 50%;\n",
              "      cursor: pointer;\n",
              "      display: none;\n",
              "      fill: #1967D2;\n",
              "      height: 32px;\n",
              "      padding: 0 0 0 0;\n",
              "      width: 32px;\n",
              "    }\n",
              "\n",
              "    .colab-df-convert:hover {\n",
              "      background-color: #E2EBFA;\n",
              "      box-shadow: 0px 1px 2px rgba(60, 64, 67, 0.3), 0px 1px 3px 1px rgba(60, 64, 67, 0.15);\n",
              "      fill: #174EA6;\n",
              "    }\n",
              "\n",
              "    [theme=dark] .colab-df-convert {\n",
              "      background-color: #3B4455;\n",
              "      fill: #D2E3FC;\n",
              "    }\n",
              "\n",
              "    [theme=dark] .colab-df-convert:hover {\n",
              "      background-color: #434B5C;\n",
              "      box-shadow: 0px 1px 3px 1px rgba(0, 0, 0, 0.15);\n",
              "      filter: drop-shadow(0px 1px 2px rgba(0, 0, 0, 0.3));\n",
              "      fill: #FFFFFF;\n",
              "    }\n",
              "  </style>\n",
              "\n",
              "      <script>\n",
              "        const buttonEl =\n",
              "          document.querySelector('#df-a2ef70cf-d812-4ef8-9ba5-f82fb43def6f button.colab-df-convert');\n",
              "        buttonEl.style.display =\n",
              "          google.colab.kernel.accessAllowed ? 'block' : 'none';\n",
              "\n",
              "        async function convertToInteractive(key) {\n",
              "          const element = document.querySelector('#df-a2ef70cf-d812-4ef8-9ba5-f82fb43def6f');\n",
              "          const dataTable =\n",
              "            await google.colab.kernel.invokeFunction('convertToInteractive',\n",
              "                                                     [key], {});\n",
              "          if (!dataTable) return;\n",
              "\n",
              "          const docLinkHtml = 'Like what you see? Visit the ' +\n",
              "            '<a target=\"_blank\" href=https://colab.research.google.com/notebooks/data_table.ipynb>data table notebook</a>'\n",
              "            + ' to learn more about interactive tables.';\n",
              "          element.innerHTML = '';\n",
              "          dataTable['output_type'] = 'display_data';\n",
              "          await google.colab.output.renderOutput(dataTable, element);\n",
              "          const docLink = document.createElement('div');\n",
              "          docLink.innerHTML = docLinkHtml;\n",
              "          element.appendChild(docLink);\n",
              "        }\n",
              "      </script>\n",
              "    </div>\n",
              "  </div>\n",
              "  "
            ]
          },
          "metadata": {},
          "execution_count": 117
        }
      ]
    },
    {
      "cell_type": "code",
      "source": [
        "# корреляционная матрица по государственному университету\n",
        "corr_mat = DF.loc[DF['PrivateYes'] == 0][['Grad_Rate', 'Accept', 'Expend']].corr()\n",
        "#corr_mat.style.background_gradient(cmap='coolwarm').set_precision(2)\n",
        "corr_mat"
      ],
      "metadata": {
        "colab": {
          "base_uri": "https://localhost:8080/",
          "height": 143
        },
        "id": "FOBNFU_rL1eF",
        "outputId": "d90aa5f6-5ed7-4125-cbd6-b23502116874"
      },
      "execution_count": 121,
      "outputs": [
        {
          "output_type": "execute_result",
          "data": {
            "text/plain": [
              "           Grad_Rate    Accept    Expend\n",
              "Grad_Rate   1.000000  0.403190  0.276503\n",
              "Accept      0.403190  1.000000  0.445364\n",
              "Expend      0.276503  0.445364  1.000000"
            ],
            "text/html": [
              "\n",
              "  <div id=\"df-e9685cba-03f0-485b-b489-d642940d12b6\">\n",
              "    <div class=\"colab-df-container\">\n",
              "      <div>\n",
              "<style scoped>\n",
              "    .dataframe tbody tr th:only-of-type {\n",
              "        vertical-align: middle;\n",
              "    }\n",
              "\n",
              "    .dataframe tbody tr th {\n",
              "        vertical-align: top;\n",
              "    }\n",
              "\n",
              "    .dataframe thead th {\n",
              "        text-align: right;\n",
              "    }\n",
              "</style>\n",
              "<table border=\"1\" class=\"dataframe\">\n",
              "  <thead>\n",
              "    <tr style=\"text-align: right;\">\n",
              "      <th></th>\n",
              "      <th>Grad_Rate</th>\n",
              "      <th>Accept</th>\n",
              "      <th>Expend</th>\n",
              "    </tr>\n",
              "  </thead>\n",
              "  <tbody>\n",
              "    <tr>\n",
              "      <th>Grad_Rate</th>\n",
              "      <td>1.000000</td>\n",
              "      <td>0.403190</td>\n",
              "      <td>0.276503</td>\n",
              "    </tr>\n",
              "    <tr>\n",
              "      <th>Accept</th>\n",
              "      <td>0.403190</td>\n",
              "      <td>1.000000</td>\n",
              "      <td>0.445364</td>\n",
              "    </tr>\n",
              "    <tr>\n",
              "      <th>Expend</th>\n",
              "      <td>0.276503</td>\n",
              "      <td>0.445364</td>\n",
              "      <td>1.000000</td>\n",
              "    </tr>\n",
              "  </tbody>\n",
              "</table>\n",
              "</div>\n",
              "      <button class=\"colab-df-convert\" onclick=\"convertToInteractive('df-e9685cba-03f0-485b-b489-d642940d12b6')\"\n",
              "              title=\"Convert this dataframe to an interactive table.\"\n",
              "              style=\"display:none;\">\n",
              "        \n",
              "  <svg xmlns=\"http://www.w3.org/2000/svg\" height=\"24px\"viewBox=\"0 0 24 24\"\n",
              "       width=\"24px\">\n",
              "    <path d=\"M0 0h24v24H0V0z\" fill=\"none\"/>\n",
              "    <path d=\"M18.56 5.44l.94 2.06.94-2.06 2.06-.94-2.06-.94-.94-2.06-.94 2.06-2.06.94zm-11 1L8.5 8.5l.94-2.06 2.06-.94-2.06-.94L8.5 2.5l-.94 2.06-2.06.94zm10 10l.94 2.06.94-2.06 2.06-.94-2.06-.94-.94-2.06-.94 2.06-2.06.94z\"/><path d=\"M17.41 7.96l-1.37-1.37c-.4-.4-.92-.59-1.43-.59-.52 0-1.04.2-1.43.59L10.3 9.45l-7.72 7.72c-.78.78-.78 2.05 0 2.83L4 21.41c.39.39.9.59 1.41.59.51 0 1.02-.2 1.41-.59l7.78-7.78 2.81-2.81c.8-.78.8-2.07 0-2.86zM5.41 20L4 18.59l7.72-7.72 1.47 1.35L5.41 20z\"/>\n",
              "  </svg>\n",
              "      </button>\n",
              "      \n",
              "  <style>\n",
              "    .colab-df-container {\n",
              "      display:flex;\n",
              "      flex-wrap:wrap;\n",
              "      gap: 12px;\n",
              "    }\n",
              "\n",
              "    .colab-df-convert {\n",
              "      background-color: #E8F0FE;\n",
              "      border: none;\n",
              "      border-radius: 50%;\n",
              "      cursor: pointer;\n",
              "      display: none;\n",
              "      fill: #1967D2;\n",
              "      height: 32px;\n",
              "      padding: 0 0 0 0;\n",
              "      width: 32px;\n",
              "    }\n",
              "\n",
              "    .colab-df-convert:hover {\n",
              "      background-color: #E2EBFA;\n",
              "      box-shadow: 0px 1px 2px rgba(60, 64, 67, 0.3), 0px 1px 3px 1px rgba(60, 64, 67, 0.15);\n",
              "      fill: #174EA6;\n",
              "    }\n",
              "\n",
              "    [theme=dark] .colab-df-convert {\n",
              "      background-color: #3B4455;\n",
              "      fill: #D2E3FC;\n",
              "    }\n",
              "\n",
              "    [theme=dark] .colab-df-convert:hover {\n",
              "      background-color: #434B5C;\n",
              "      box-shadow: 0px 1px 3px 1px rgba(0, 0, 0, 0.15);\n",
              "      filter: drop-shadow(0px 1px 2px rgba(0, 0, 0, 0.3));\n",
              "      fill: #FFFFFF;\n",
              "    }\n",
              "  </style>\n",
              "\n",
              "      <script>\n",
              "        const buttonEl =\n",
              "          document.querySelector('#df-e9685cba-03f0-485b-b489-d642940d12b6 button.colab-df-convert');\n",
              "        buttonEl.style.display =\n",
              "          google.colab.kernel.accessAllowed ? 'block' : 'none';\n",
              "\n",
              "        async function convertToInteractive(key) {\n",
              "          const element = document.querySelector('#df-e9685cba-03f0-485b-b489-d642940d12b6');\n",
              "          const dataTable =\n",
              "            await google.colab.kernel.invokeFunction('convertToInteractive',\n",
              "                                                     [key], {});\n",
              "          if (!dataTable) return;\n",
              "\n",
              "          const docLinkHtml = 'Like what you see? Visit the ' +\n",
              "            '<a target=\"_blank\" href=https://colab.research.google.com/notebooks/data_table.ipynb>data table notebook</a>'\n",
              "            + ' to learn more about interactive tables.';\n",
              "          element.innerHTML = '';\n",
              "          dataTable['output_type'] = 'display_data';\n",
              "          await google.colab.output.renderOutput(dataTable, element);\n",
              "          const docLink = document.createElement('div');\n",
              "          docLink.innerHTML = docLinkHtml;\n",
              "          element.appendChild(docLink);\n",
              "        }\n",
              "      </script>\n",
              "    </div>\n",
              "  </div>\n",
              "  "
            ]
          },
          "metadata": {},
          "execution_count": 121
        }
      ]
    },
    {
      "cell_type": "markdown",
      "source": [
        "### Задание 4: Составить список возможных спецификаций моделей множественной регрессии\n",
        "### Задание 5:  Оценить параметры моделей из списка. Оценить точность моделей методом перекрёстной проверки, указанным в варианте (LOOCV). Найти самую точную из моделей для Y.\n"
      ],
      "metadata": {
        "id": "XcBQSVE0RKqQ"
      }
    },
    {
      "cell_type": "markdown",
      "source": [
        "#### Строим модели регрессии\n",
        "\n",
        "##### Спецификация моделей  \n",
        "По итогам предварительного анализа данных можно предложить следующие спецификации линейных регрессионных моделей:  \n",
        "\n",
        "1. `fit_lm_1`: $\\hat{Grad_Rate} = \\hat{\\beta_0} + \\hat{\\beta_1} \\cdot PrivateYes + \\hat{\\beta_2} \\cdot Accept + \\hat{\\beta_3} \\cdot Expend$\n",
        "1. `fit_lm_2`: $\\hat{Grad_Rate} = \\hat{\\beta_0} + \\hat{\\beta_1} \\cdot PrivateYes + \\hat{\\beta_2} \\cdot Accept \\cdot PrivateYes + \\hat{\\beta_3} \\cdot Expend$\n",
        "1. `fit_lm_3`: $\\hat{Grad_Rate} = \\hat{\\beta_0} + \\hat{\\beta_1} \\cdot PrivateYes + \\hat{\\beta_2} \\cdot Expend \\cdot PrivaterYes + \\hat{\\beta_3} \\cdot Accept$\n",
        "1. `fit_lm_4`: $\\hat{Grad_Rate} = \\hat{\\beta_0} + \\hat{\\beta_1} \\cdot PrivateYes + \\hat{\\beta_2} \\cdot Expend \\cdot PrivateYes + \\hat{\\beta_3} \\cdot Accept \\cdot PrivateYes$\n",
        "\n",
        "\n",
        "##### Обучение и интерпретация  \n",
        "\n",
        "Создаём матрицы значений объясняющих переменных ( $X$ ) и вектора значений зависимой ( $y$ ) для всех моделей.  "
      ],
      "metadata": {
        "id": "QU8awJ3dRuS_"
      }
    },
    {
      "cell_type": "code",
      "source": [
        "# данные для модели 1\n",
        "df1 = DF[['Grad_Rate', 'PrivateYes', 'Accept', 'Expend']]\n",
        "\n",
        "# данные для модели 2\n",
        "df2 = DF[['Grad_Rate', 'PrivateYes', 'Accept', 'Expend']]\n",
        "df2.loc[:, 'Accept_PrivateYes'] = df2.loc[:, 'Accept'] * df2.loc[:, 'PrivateYes']\n",
        "df2 = df2.drop(['Accept'], axis=1)\n",
        "\n",
        "# данные для модели 3\n",
        "df3 = DF[['Grad_Rate', 'PrivateYes', 'Accept', 'Expend']]\n",
        "df3.loc[:, 'Expend_PrivateYes'] = df3.loc[:, 'Expend'] * df3.loc[:, 'PrivateYes']\n",
        "df3 = df3.drop(['Expend'], axis=1)\n",
        "\n",
        "# данные для модели 4\n",
        "df4 = DF[['Grad_Rate', 'PrivateYes', 'Accept', 'Expend']]\n",
        "df4.loc[:, 'Accept_PrivateYes'] = df4.loc[:, 'Accept'] * df4.loc[:, 'PrivateYes']\n",
        "df4.loc[:, 'Expend_PrivateYes'] = df4.loc[:, 'Expend'] * df4.loc[:, 'PrivateYes']\n",
        "df4 = df4.drop(['Expend', 'Accept'], axis=1)\n"
      ],
      "metadata": {
        "colab": {
          "base_uri": "https://localhost:8080/"
        },
        "id": "G5dXk6BCPcQu",
        "outputId": "fd9dcc5f-822d-4b85-b635-4836ac116ac7"
      },
      "execution_count": 129,
      "outputs": [
        {
          "output_type": "stream",
          "name": "stderr",
          "text": [
            "/usr/local/lib/python3.7/dist-packages/pandas/core/indexing.py:1667: SettingWithCopyWarning: \n",
            "A value is trying to be set on a copy of a slice from a DataFrame.\n",
            "Try using .loc[row_indexer,col_indexer] = value instead\n",
            "\n",
            "See the caveats in the documentation: https://pandas.pydata.org/pandas-docs/stable/user_guide/indexing.html#returning-a-view-versus-a-copy\n",
            "  self.obj[key] = value\n"
          ]
        }
      ]
    },
    {
      "cell_type": "code",
      "source": [
        "# проверка результатов\n",
        "df4.head()"
      ],
      "metadata": {
        "colab": {
          "base_uri": "https://localhost:8080/",
          "height": 206
        },
        "id": "AHcihpPOPcTV",
        "outputId": "0ae77e81-7b02-42ea-945d-f791ee9a5df6"
      },
      "execution_count": 130,
      "outputs": [
        {
          "output_type": "execute_result",
          "data": {
            "text/plain": [
              "     Grad_Rate  PrivateYes  Accept_PrivateYes  Expend_PrivateYes\n",
              "358         48           1                293               9754\n",
              "767         59           0                  0                  0\n",
              "444         48           0                  0                  0\n",
              "677         68           1               8498              17007\n",
              "110         58           1                 72              10922"
            ],
            "text/html": [
              "\n",
              "  <div id=\"df-bc4b2793-029f-4c41-be01-1c40ee58cf73\">\n",
              "    <div class=\"colab-df-container\">\n",
              "      <div>\n",
              "<style scoped>\n",
              "    .dataframe tbody tr th:only-of-type {\n",
              "        vertical-align: middle;\n",
              "    }\n",
              "\n",
              "    .dataframe tbody tr th {\n",
              "        vertical-align: top;\n",
              "    }\n",
              "\n",
              "    .dataframe thead th {\n",
              "        text-align: right;\n",
              "    }\n",
              "</style>\n",
              "<table border=\"1\" class=\"dataframe\">\n",
              "  <thead>\n",
              "    <tr style=\"text-align: right;\">\n",
              "      <th></th>\n",
              "      <th>Grad_Rate</th>\n",
              "      <th>PrivateYes</th>\n",
              "      <th>Accept_PrivateYes</th>\n",
              "      <th>Expend_PrivateYes</th>\n",
              "    </tr>\n",
              "  </thead>\n",
              "  <tbody>\n",
              "    <tr>\n",
              "      <th>358</th>\n",
              "      <td>48</td>\n",
              "      <td>1</td>\n",
              "      <td>293</td>\n",
              "      <td>9754</td>\n",
              "    </tr>\n",
              "    <tr>\n",
              "      <th>767</th>\n",
              "      <td>59</td>\n",
              "      <td>0</td>\n",
              "      <td>0</td>\n",
              "      <td>0</td>\n",
              "    </tr>\n",
              "    <tr>\n",
              "      <th>444</th>\n",
              "      <td>48</td>\n",
              "      <td>0</td>\n",
              "      <td>0</td>\n",
              "      <td>0</td>\n",
              "    </tr>\n",
              "    <tr>\n",
              "      <th>677</th>\n",
              "      <td>68</td>\n",
              "      <td>1</td>\n",
              "      <td>8498</td>\n",
              "      <td>17007</td>\n",
              "    </tr>\n",
              "    <tr>\n",
              "      <th>110</th>\n",
              "      <td>58</td>\n",
              "      <td>1</td>\n",
              "      <td>72</td>\n",
              "      <td>10922</td>\n",
              "    </tr>\n",
              "  </tbody>\n",
              "</table>\n",
              "</div>\n",
              "      <button class=\"colab-df-convert\" onclick=\"convertToInteractive('df-bc4b2793-029f-4c41-be01-1c40ee58cf73')\"\n",
              "              title=\"Convert this dataframe to an interactive table.\"\n",
              "              style=\"display:none;\">\n",
              "        \n",
              "  <svg xmlns=\"http://www.w3.org/2000/svg\" height=\"24px\"viewBox=\"0 0 24 24\"\n",
              "       width=\"24px\">\n",
              "    <path d=\"M0 0h24v24H0V0z\" fill=\"none\"/>\n",
              "    <path d=\"M18.56 5.44l.94 2.06.94-2.06 2.06-.94-2.06-.94-.94-2.06-.94 2.06-2.06.94zm-11 1L8.5 8.5l.94-2.06 2.06-.94-2.06-.94L8.5 2.5l-.94 2.06-2.06.94zm10 10l.94 2.06.94-2.06 2.06-.94-2.06-.94-.94-2.06-.94 2.06-2.06.94z\"/><path d=\"M17.41 7.96l-1.37-1.37c-.4-.4-.92-.59-1.43-.59-.52 0-1.04.2-1.43.59L10.3 9.45l-7.72 7.72c-.78.78-.78 2.05 0 2.83L4 21.41c.39.39.9.59 1.41.59.51 0 1.02-.2 1.41-.59l7.78-7.78 2.81-2.81c.8-.78.8-2.07 0-2.86zM5.41 20L4 18.59l7.72-7.72 1.47 1.35L5.41 20z\"/>\n",
              "  </svg>\n",
              "      </button>\n",
              "      \n",
              "  <style>\n",
              "    .colab-df-container {\n",
              "      display:flex;\n",
              "      flex-wrap:wrap;\n",
              "      gap: 12px;\n",
              "    }\n",
              "\n",
              "    .colab-df-convert {\n",
              "      background-color: #E8F0FE;\n",
              "      border: none;\n",
              "      border-radius: 50%;\n",
              "      cursor: pointer;\n",
              "      display: none;\n",
              "      fill: #1967D2;\n",
              "      height: 32px;\n",
              "      padding: 0 0 0 0;\n",
              "      width: 32px;\n",
              "    }\n",
              "\n",
              "    .colab-df-convert:hover {\n",
              "      background-color: #E2EBFA;\n",
              "      box-shadow: 0px 1px 2px rgba(60, 64, 67, 0.3), 0px 1px 3px 1px rgba(60, 64, 67, 0.15);\n",
              "      fill: #174EA6;\n",
              "    }\n",
              "\n",
              "    [theme=dark] .colab-df-convert {\n",
              "      background-color: #3B4455;\n",
              "      fill: #D2E3FC;\n",
              "    }\n",
              "\n",
              "    [theme=dark] .colab-df-convert:hover {\n",
              "      background-color: #434B5C;\n",
              "      box-shadow: 0px 1px 3px 1px rgba(0, 0, 0, 0.15);\n",
              "      filter: drop-shadow(0px 1px 2px rgba(0, 0, 0, 0.3));\n",
              "      fill: #FFFFFF;\n",
              "    }\n",
              "  </style>\n",
              "\n",
              "      <script>\n",
              "        const buttonEl =\n",
              "          document.querySelector('#df-bc4b2793-029f-4c41-be01-1c40ee58cf73 button.colab-df-convert');\n",
              "        buttonEl.style.display =\n",
              "          google.colab.kernel.accessAllowed ? 'block' : 'none';\n",
              "\n",
              "        async function convertToInteractive(key) {\n",
              "          const element = document.querySelector('#df-bc4b2793-029f-4c41-be01-1c40ee58cf73');\n",
              "          const dataTable =\n",
              "            await google.colab.kernel.invokeFunction('convertToInteractive',\n",
              "                                                     [key], {});\n",
              "          if (!dataTable) return;\n",
              "\n",
              "          const docLinkHtml = 'Like what you see? Visit the ' +\n",
              "            '<a target=\"_blank\" href=https://colab.research.google.com/notebooks/data_table.ipynb>data table notebook</a>'\n",
              "            + ' to learn more about interactive tables.';\n",
              "          element.innerHTML = '';\n",
              "          dataTable['output_type'] = 'display_data';\n",
              "          await google.colab.output.renderOutput(dataTable, element);\n",
              "          const docLink = document.createElement('div');\n",
              "          docLink.innerHTML = docLinkHtml;\n",
              "          element.appendChild(docLink);\n",
              "        }\n",
              "      </script>\n",
              "    </div>\n",
              "  </div>\n",
              "  "
            ]
          },
          "metadata": {},
          "execution_count": 130
        }
      ]
    },
    {
      "cell_type": "markdown",
      "source": [
        "### Оценка точности\n",
        "\n",
        "#### LOOCV  \n",
        "\n",
        "Сделаем перекрёстную проверку точности моделей по одному наблюдению.  \n",
        "\n",
        "Построим модели от всех объясняющих переменных на всех наблюдениях `DF`, чтобы проинтерпретировать параметры. В модели для зависимой переменной интерпретация стандартная:  \n",
        "\n",
        "1. Константа – базовый уровень зависимой переменной, когда все объясняющие равны 0.  \n",
        "2. Коэффициент при объясняющей переменной $X$ показывает, на сколько своих единиц измерения изменится $Y$, если $X$ увеличится на одну свою единицу измерения.  "
      ],
      "metadata": {
        "id": "CpjsJAjfmlip"
      }
    },
    {
      "cell_type": "code",
      "source": [
        "# LeaveOneOut CV\n",
        "loo = LeaveOneOut()\n",
        "\n",
        "# модели для y\n",
        "scores = list()\n",
        "# таймер\n",
        "tic = time.perf_counter()\n",
        "for df in [df1, df2, df3, df4] :\n",
        "    loo.get_n_splits(df)\n",
        "    X = df.drop(['Grad_Rate'], axis=1)\n",
        "    y = df.Grad_Rate\n",
        "    score = cross_val_score(lm, X, y, cv=loo,\n",
        "                           scoring='neg_mean_squared_error').mean()    \n",
        "    scores.append(score)\n",
        "\n",
        "# таймер\n",
        "toc = time.perf_counter()\n",
        "print(f\"Расчёты методом LOOCV заняли {toc - tic:0.2f} секунд\")"
      ],
      "metadata": {
        "colab": {
          "base_uri": "https://localhost:8080/"
        },
        "id": "frFNN-Inos52",
        "outputId": "947cf355-315a-4e88-98f2-f39d182f4072"
      },
      "execution_count": 136,
      "outputs": [
        {
          "output_type": "stream",
          "name": "stdout",
          "text": [
            "Расчёты методом LOOCV заняли 9.92 секунд\n"
          ]
        }
      ]
    },
    {
      "cell_type": "markdown",
      "source": [
        "Сравним ошибки для моделей на значениях `Grad_Rate`.  "
      ],
      "metadata": {
        "id": "7jEqlDmfpKya"
      }
    },
    {
      "cell_type": "code",
      "source": [
        "scores"
      ],
      "metadata": {
        "colab": {
          "base_uri": "https://localhost:8080/"
        },
        "id": "SIj8_sOyo-86",
        "outputId": "ad68fbc7-678a-4bef-b3e5-c030dbb1a2d4"
      },
      "execution_count": 139,
      "outputs": [
        {
          "output_type": "execute_result",
          "data": {
            "text/plain": [
              "[-230.3515987869441,\n",
              " -237.05178852005875,\n",
              " -230.67194048265551,\n",
              " -240.85413110899648]"
            ]
          },
          "metadata": {},
          "execution_count": 139
        }
      ]
    },
    {
      "cell_type": "code",
      "source": [
        "[np.around(-x, 2) for x in scores]"
      ],
      "metadata": {
        "colab": {
          "base_uri": "https://localhost:8080/"
        },
        "id": "0L1qW0OApfSj",
        "outputId": "e1ed71bd-f904-4146-b562-71337735757d"
      },
      "execution_count": 140,
      "outputs": [
        {
          "output_type": "execute_result",
          "data": {
            "text/plain": [
              "[230.35, 237.05, 230.67, 240.85]"
            ]
          },
          "metadata": {},
          "execution_count": 140
        }
      ]
    },
    {
      "cell_type": "markdown",
      "source": [
        "Определим самые точные модели"
      ],
      "metadata": {
        "id": "s043DZsxporL"
      }
    },
    {
      "cell_type": "code",
      "source": [
        "fits = ['fit_lm_1', 'fit_lm_2', 'fit_lm_3', 'fit_lm_4']\n",
        "print('Наименьшая ошибка на тестовой с LOOCV у модели',\n",
        "      fits[scores.index(max(scores))], \n",
        "      ':\\nMSE_loocv =', np.around(-max(scores), 0))"
      ],
      "metadata": {
        "colab": {
          "base_uri": "https://localhost:8080/"
        },
        "id": "iE-CtLMlprVL",
        "outputId": "a397fd2b-5d26-45d4-8d20-c969a03ae336"
      },
      "execution_count": 148,
      "outputs": [
        {
          "output_type": "stream",
          "name": "stdout",
          "text": [
            "Наименьшая ошибка на тестовой с LOOCV у модели fit_lm_1 :\n",
            "MSE_loocv = 230.0\n"
          ]
        }
      ]
    },
    {
      "cell_type": "markdown",
      "source": [
        "Самой точной среди моделей для `Grad_Rate` оказалась `fit_lm_1`. Но значение ошибки у `fit_lm_3` не сильно отличается. \n",
        "\n",
        "### Задание 6: Оценим точность прогноза по этим моделям на отложенные наблюдения.   "
      ],
      "metadata": {
        "id": "5jHTUJTDsWn2"
      }
    },
    {
      "cell_type": "code",
      "source": [
        "# прогноз по fit_lm_3\n",
        "#  модель на всех обучающих наблюдениях\n",
        "X = df3.drop(['Grad_Rate'], axis=1)\n",
        "y = df3.Grad_Rate.values.reshape(-1, 1)\n",
        "fit_lm_3 = lm.fit(X, y)\n",
        "\n",
        "#  значения y на отложенных наблюдениях\n",
        "y = DF_predict[['Grad_Rate']].values.reshape(-1, 1)\n",
        "#  матрица объясняющих на отложенных наблюдениях\n",
        "X = DF_predict[['PrivateYes', 'Accept', 'Expend']]\n",
        "X.loc[:, 'Expend_PrivateYes'] = X.loc[:, 'Expend'] * X.loc[:, 'PrivateYes']\n",
        "X = X.drop(['Expend'], axis=1)\n",
        "#  прогнозы\n",
        "y_pred = fit_lm_3.predict(X)\n",
        "\n",
        "# ошибка\n",
        "MSE3 = sum((y - y_pred.reshape(-1, 1))**2) / len(y)\n",
        "print('MSE модели fit_lm_3 на отложенных наблюдениях = %.2f' % MSE3)"
      ],
      "metadata": {
        "colab": {
          "base_uri": "https://localhost:8080/"
        },
        "id": "WFqeDfH4tUjd",
        "outputId": "ae00e589-2c90-423d-8edf-5e90c4c7a222"
      },
      "execution_count": 160,
      "outputs": [
        {
          "output_type": "stream",
          "name": "stdout",
          "text": [
            "MSE модели fit_lm_3 на отложенных наблюдениях = 210.60\n"
          ]
        }
      ]
    },
    {
      "cell_type": "code",
      "source": [
        "# прогноз по fit_lm_1\n",
        "#  модель на всех обучающих наблюдениях\n",
        "X = df1.drop(['Grad_Rate'], axis=1)\n",
        "y = df1.Grad_Rate.values.reshape(-1, 1)\n",
        "fit_lm_1 = lm.fit(X, y)\n",
        "\n",
        "#  значения y на отложенных наблюдениях\n",
        "y = DF_predict[['Grad_Rate']].values.reshape(-1, 1)\n",
        "#  матрица объясняющих на отложенных наблюдениях\n",
        "X = DF_predict[['PrivateYes', 'Accept', 'Expend']]\n",
        "# X.loc[:, 'Expend_PrivateYes'] = X.loc[:, 'Expend'] * X.loc[:, 'PrivateYes']\n",
        "# X = X.drop(['Expend'], axis=1)\n",
        "#  прогнозы\n",
        "y_pred = fit_lm_1.predict(X)\n",
        "\n",
        "# ошибка\n",
        "MSE1 = sum((y - y_pred.reshape(-1, 1))**2) / len(y)\n",
        "print('MSE модели fit_lm_1 на отложенных наблюдениях = %.2f' % MSE1)"
      ],
      "metadata": {
        "colab": {
          "base_uri": "https://localhost:8080/"
        },
        "id": "O8ytmqVLsfrW",
        "outputId": "31c8d9a5-72c1-4b2c-cc5d-3c13c593177b"
      },
      "execution_count": 162,
      "outputs": [
        {
          "output_type": "stream",
          "name": "stdout",
          "text": [
            "MSE модели fit_lm_1 на отложенных наблюдениях = 212.24\n"
          ]
        }
      ]
    },
    {
      "cell_type": "code",
      "source": [
        "np.sqrt(MSE1) / np.mean(DF_predict[['Grad_Rate']]) * 100"
      ],
      "metadata": {
        "colab": {
          "base_uri": "https://localhost:8080/"
        },
        "id": "CmRtF-0Owka6",
        "outputId": "d0a097d9-01e5-4f3a-e0a0-cb475e10d8b8"
      },
      "execution_count": 163,
      "outputs": [
        {
          "output_type": "execute_result",
          "data": {
            "text/plain": [
              "Grad_Rate    21.526462\n",
              "dtype: float64"
            ]
          },
          "metadata": {},
          "execution_count": 163
        }
      ]
    },
    {
      "cell_type": "code",
      "source": [
        "np.sqrt(MSE3) / np.mean(DF_predict[['Grad_Rate']]) * 100"
      ],
      "metadata": {
        "colab": {
          "base_uri": "https://localhost:8080/"
        },
        "id": "OCDkgBlZwpIK",
        "outputId": "fca067ce-3aa2-46a5-d1b3-91a1008ba3e5"
      },
      "execution_count": 164,
      "outputs": [
        {
          "output_type": "execute_result",
          "data": {
            "text/plain": [
              "Grad_Rate    21.442953\n",
              "dtype: float64"
            ]
          },
          "metadata": {},
          "execution_count": 164
        }
      ]
    },
    {
      "cell_type": "markdown",
      "source": [
        "Впринципе на всех этапах оценки точности модели, первая и третья показали практически одинаковые результаты. Можно принять любую из них. Для дополнительной проверки я возьму метод из другого варианта (например, K_VAL(n = 4), где n я перербирала различные, при 4 разница наиболее заметна)"
      ],
      "metadata": {
        "id": "JeVitMFuwwAQ"
      }
    },
    {
      "cell_type": "code",
      "source": [
        "# Перекрёстная проверка по 10 блокам\n",
        "folds = 4\n",
        "\n",
        "# ядра для разбиений перекрёстной проверкой\n",
        "r_state = np.arange(my_seed, my_seed + 3)\n",
        "\n",
        "# модели для y\n",
        "scores = list()\n",
        "# таймер\n",
        "tic = time.perf_counter()\n",
        "i = 0\n",
        "for df in [df1, df3] :\n",
        "    X = df.drop(['Grad_Rate'], axis=1)\n",
        "    y = df.Grad_Rate\n",
        "    kf_10 = KFold(n_splits=folds, random_state=r_state[i],\n",
        "                 shuffle=True)\n",
        "    score = cross_val_score(lm, X, y, cv=kf_10,\n",
        "                            scoring='neg_mean_squared_error').mean()\n",
        "    scores.append(score)\n",
        "    i+=1\n",
        "\n",
        "# таймер\n",
        "toc = time.perf_counter()\n",
        "print(f\"Расчёты методом CV по 10 блокам заняли {toc - tic:0.2f} секунд\")"
      ],
      "metadata": {
        "colab": {
          "base_uri": "https://localhost:8080/"
        },
        "id": "WN0uPgNaxsHj",
        "outputId": "4c4b68d0-66d7-4aa7-c152-c71de24298b5"
      },
      "execution_count": 186,
      "outputs": [
        {
          "output_type": "stream",
          "name": "stdout",
          "text": [
            "Расчёты методом CV по 10 блокам заняли 0.04 секунд\n"
          ]
        }
      ]
    },
    {
      "cell_type": "code",
      "source": [
        "scores"
      ],
      "metadata": {
        "colab": {
          "base_uri": "https://localhost:8080/"
        },
        "id": "NXrXtJAOybgC",
        "outputId": "cd3efa37-48c1-46e0-e625-252bfc3021c7"
      },
      "execution_count": 187,
      "outputs": [
        {
          "output_type": "execute_result",
          "data": {
            "text/plain": [
              "[-233.54875827014303, -230.6978139462429]"
            ]
          },
          "metadata": {},
          "execution_count": 187
        }
      ]
    },
    {
      "cell_type": "code",
      "source": [
        "# самая точная на charges\n",
        "fits = ['fit_lm_1', 'fit_lm_3']\n",
        "print('Наименьшая ошибка на тестовой с k-fold10 у модели',\n",
        "      fits[scores.index(max(scores))], \n",
        "      ':\\nMSE_kf10 =', np.around(-max(scores), 0))"
      ],
      "metadata": {
        "colab": {
          "base_uri": "https://localhost:8080/"
        },
        "id": "qYnPC85Xyhsj",
        "outputId": "879611ce-90ee-4fa9-8f85-d28d2316014c"
      },
      "execution_count": 188,
      "outputs": [
        {
          "output_type": "stream",
          "name": "stdout",
          "text": [
            "Наименьшая ошибка на тестовой с k-fold10 у модели fit_lm_3 :\n",
            "MSE_kf10 = 231.0\n"
          ]
        }
      ]
    },
    {
      "cell_type": "markdown",
      "source": [
        "Данный способ показал, что третья модель всё же меньше ошибается. Возьмем ее за итоговую и лучшую"
      ],
      "metadata": {
        "id": "p-DYzlYezZxc"
      }
    },
    {
      "cell_type": "code",
      "source": [
        "lm = skl_lm.LinearRegression()\n",
        "\n",
        "# модель со всеми объясняющими, y\n",
        "X = df3.drop(['Grad_Rate'], axis=1)\n",
        "y = df3.Grad_Rate.values.reshape(-1, 1)\n",
        "fit_lm_3 = lm.fit(X, y)\n",
        "print('модель fit_lm_0:\\n', \n",
        "      'константа ', fit_lm_3.intercept_,\n",
        "      '\\n объясняющие ', list(X.columns.values),\n",
        "      '\\n коэффициенты ', np.around(fit_lm_3.coef_, 3))"
      ],
      "metadata": {
        "colab": {
          "base_uri": "https://localhost:8080/"
        },
        "id": "dXIBJr0Uz669",
        "outputId": "7a18f5d1-e8cf-4049-92de-3fca97941493"
      },
      "execution_count": 197,
      "outputs": [
        {
          "output_type": "stream",
          "name": "stdout",
          "text": [
            "модель fit_lm_0:\n",
            " константа  [48.58222263] \n",
            " объясняющие  ['PrivateYes', 'Accept', 'Expend_PrivateYes'] \n",
            " коэффициенты  [[8.337e+00 2.000e-03 1.000e-03]]\n"
          ]
        }
      ]
    },
    {
      "cell_type": "markdown",
      "source": [
        "#### Интерпретация параметров модели\n",
        "\n",
        "Y = 48.582 + 8.337PrivateYes + 0.002Accept - 0.001Expend_PrivateYes\n",
        "\n",
        "Ошибка модели на отложенных наблюдениях составила 21.4% от среднего значения Y\n",
        "Если объясняющие переменные будут равняться нулю, то Y равен константе = 48.582.\n",
        "При увеличении Expend_PrivateYes на единицу, Y увеличится на 0.1. При увеличении Accept на единицу, Y увеличится на 0.002. При значении дискретной переменной PrivateYes = 1, Y увеличивается на 8.337, а при значении равном нулю, значение Y зависит только от непрерывных переменных.\n",
        "Проверим нашу модель на выборке."
      ],
      "metadata": {
        "id": "zybE6RUSzyRM"
      }
    },
    {
      "cell_type": "code",
      "source": [
        "DF_predict.head(10)"
      ],
      "metadata": {
        "colab": {
          "base_uri": "https://localhost:8080/",
          "height": 363
        },
        "id": "RBvWvz5Y2ntd",
        "outputId": "45a03251-761d-4d07-95ce-936fb8c57a8b"
      },
      "execution_count": 198,
      "outputs": [
        {
          "output_type": "execute_result",
          "data": {
            "text/plain": [
              "    Grad_Rate  Accept  Expend  PrivateYes\n",
              "0          60    1232    7041           1\n",
              "1          56    1924   10527           1\n",
              "3          59     349   19016           1\n",
              "16        100     992   21424           1\n",
              "21         70    4664    5854           0\n",
              "23         48   10308    4602           0\n",
              "51         56     184    8324           1\n",
              "59         72   13007   16836           1\n",
              "60         96    1019   20447           1\n",
              "61         67    7333    6918           0"
            ],
            "text/html": [
              "\n",
              "  <div id=\"df-e4a4c858-4d8b-4684-b565-f63c20c657d0\">\n",
              "    <div class=\"colab-df-container\">\n",
              "      <div>\n",
              "<style scoped>\n",
              "    .dataframe tbody tr th:only-of-type {\n",
              "        vertical-align: middle;\n",
              "    }\n",
              "\n",
              "    .dataframe tbody tr th {\n",
              "        vertical-align: top;\n",
              "    }\n",
              "\n",
              "    .dataframe thead th {\n",
              "        text-align: right;\n",
              "    }\n",
              "</style>\n",
              "<table border=\"1\" class=\"dataframe\">\n",
              "  <thead>\n",
              "    <tr style=\"text-align: right;\">\n",
              "      <th></th>\n",
              "      <th>Grad_Rate</th>\n",
              "      <th>Accept</th>\n",
              "      <th>Expend</th>\n",
              "      <th>PrivateYes</th>\n",
              "    </tr>\n",
              "  </thead>\n",
              "  <tbody>\n",
              "    <tr>\n",
              "      <th>0</th>\n",
              "      <td>60</td>\n",
              "      <td>1232</td>\n",
              "      <td>7041</td>\n",
              "      <td>1</td>\n",
              "    </tr>\n",
              "    <tr>\n",
              "      <th>1</th>\n",
              "      <td>56</td>\n",
              "      <td>1924</td>\n",
              "      <td>10527</td>\n",
              "      <td>1</td>\n",
              "    </tr>\n",
              "    <tr>\n",
              "      <th>3</th>\n",
              "      <td>59</td>\n",
              "      <td>349</td>\n",
              "      <td>19016</td>\n",
              "      <td>1</td>\n",
              "    </tr>\n",
              "    <tr>\n",
              "      <th>16</th>\n",
              "      <td>100</td>\n",
              "      <td>992</td>\n",
              "      <td>21424</td>\n",
              "      <td>1</td>\n",
              "    </tr>\n",
              "    <tr>\n",
              "      <th>21</th>\n",
              "      <td>70</td>\n",
              "      <td>4664</td>\n",
              "      <td>5854</td>\n",
              "      <td>0</td>\n",
              "    </tr>\n",
              "    <tr>\n",
              "      <th>23</th>\n",
              "      <td>48</td>\n",
              "      <td>10308</td>\n",
              "      <td>4602</td>\n",
              "      <td>0</td>\n",
              "    </tr>\n",
              "    <tr>\n",
              "      <th>51</th>\n",
              "      <td>56</td>\n",
              "      <td>184</td>\n",
              "      <td>8324</td>\n",
              "      <td>1</td>\n",
              "    </tr>\n",
              "    <tr>\n",
              "      <th>59</th>\n",
              "      <td>72</td>\n",
              "      <td>13007</td>\n",
              "      <td>16836</td>\n",
              "      <td>1</td>\n",
              "    </tr>\n",
              "    <tr>\n",
              "      <th>60</th>\n",
              "      <td>96</td>\n",
              "      <td>1019</td>\n",
              "      <td>20447</td>\n",
              "      <td>1</td>\n",
              "    </tr>\n",
              "    <tr>\n",
              "      <th>61</th>\n",
              "      <td>67</td>\n",
              "      <td>7333</td>\n",
              "      <td>6918</td>\n",
              "      <td>0</td>\n",
              "    </tr>\n",
              "  </tbody>\n",
              "</table>\n",
              "</div>\n",
              "      <button class=\"colab-df-convert\" onclick=\"convertToInteractive('df-e4a4c858-4d8b-4684-b565-f63c20c657d0')\"\n",
              "              title=\"Convert this dataframe to an interactive table.\"\n",
              "              style=\"display:none;\">\n",
              "        \n",
              "  <svg xmlns=\"http://www.w3.org/2000/svg\" height=\"24px\"viewBox=\"0 0 24 24\"\n",
              "       width=\"24px\">\n",
              "    <path d=\"M0 0h24v24H0V0z\" fill=\"none\"/>\n",
              "    <path d=\"M18.56 5.44l.94 2.06.94-2.06 2.06-.94-2.06-.94-.94-2.06-.94 2.06-2.06.94zm-11 1L8.5 8.5l.94-2.06 2.06-.94-2.06-.94L8.5 2.5l-.94 2.06-2.06.94zm10 10l.94 2.06.94-2.06 2.06-.94-2.06-.94-.94-2.06-.94 2.06-2.06.94z\"/><path d=\"M17.41 7.96l-1.37-1.37c-.4-.4-.92-.59-1.43-.59-.52 0-1.04.2-1.43.59L10.3 9.45l-7.72 7.72c-.78.78-.78 2.05 0 2.83L4 21.41c.39.39.9.59 1.41.59.51 0 1.02-.2 1.41-.59l7.78-7.78 2.81-2.81c.8-.78.8-2.07 0-2.86zM5.41 20L4 18.59l7.72-7.72 1.47 1.35L5.41 20z\"/>\n",
              "  </svg>\n",
              "      </button>\n",
              "      \n",
              "  <style>\n",
              "    .colab-df-container {\n",
              "      display:flex;\n",
              "      flex-wrap:wrap;\n",
              "      gap: 12px;\n",
              "    }\n",
              "\n",
              "    .colab-df-convert {\n",
              "      background-color: #E8F0FE;\n",
              "      border: none;\n",
              "      border-radius: 50%;\n",
              "      cursor: pointer;\n",
              "      display: none;\n",
              "      fill: #1967D2;\n",
              "      height: 32px;\n",
              "      padding: 0 0 0 0;\n",
              "      width: 32px;\n",
              "    }\n",
              "\n",
              "    .colab-df-convert:hover {\n",
              "      background-color: #E2EBFA;\n",
              "      box-shadow: 0px 1px 2px rgba(60, 64, 67, 0.3), 0px 1px 3px 1px rgba(60, 64, 67, 0.15);\n",
              "      fill: #174EA6;\n",
              "    }\n",
              "\n",
              "    [theme=dark] .colab-df-convert {\n",
              "      background-color: #3B4455;\n",
              "      fill: #D2E3FC;\n",
              "    }\n",
              "\n",
              "    [theme=dark] .colab-df-convert:hover {\n",
              "      background-color: #434B5C;\n",
              "      box-shadow: 0px 1px 3px 1px rgba(0, 0, 0, 0.15);\n",
              "      filter: drop-shadow(0px 1px 2px rgba(0, 0, 0, 0.3));\n",
              "      fill: #FFFFFF;\n",
              "    }\n",
              "  </style>\n",
              "\n",
              "      <script>\n",
              "        const buttonEl =\n",
              "          document.querySelector('#df-e4a4c858-4d8b-4684-b565-f63c20c657d0 button.colab-df-convert');\n",
              "        buttonEl.style.display =\n",
              "          google.colab.kernel.accessAllowed ? 'block' : 'none';\n",
              "\n",
              "        async function convertToInteractive(key) {\n",
              "          const element = document.querySelector('#df-e4a4c858-4d8b-4684-b565-f63c20c657d0');\n",
              "          const dataTable =\n",
              "            await google.colab.kernel.invokeFunction('convertToInteractive',\n",
              "                                                     [key], {});\n",
              "          if (!dataTable) return;\n",
              "\n",
              "          const docLinkHtml = 'Like what you see? Visit the ' +\n",
              "            '<a target=\"_blank\" href=https://colab.research.google.com/notebooks/data_table.ipynb>data table notebook</a>'\n",
              "            + ' to learn more about interactive tables.';\n",
              "          element.innerHTML = '';\n",
              "          dataTable['output_type'] = 'display_data';\n",
              "          await google.colab.output.renderOutput(dataTable, element);\n",
              "          const docLink = document.createElement('div');\n",
              "          docLink.innerHTML = docLinkHtml;\n",
              "          element.appendChild(docLink);\n",
              "        }\n",
              "      </script>\n",
              "    </div>\n",
              "  </div>\n",
              "  "
            ]
          },
          "metadata": {},
          "execution_count": 198
        }
      ]
    },
    {
      "cell_type": "code",
      "source": [
        "y_pred = fit_lm_3.predict(X[:10])\n",
        "y_pred"
      ],
      "metadata": {
        "colab": {
          "base_uri": "https://localhost:8080/"
        },
        "id": "Vu5UZLXR2qX0",
        "outputId": "7b331dca-8900-4ff9-a44c-d0cd566e6ad1"
      },
      "execution_count": 203,
      "outputs": [
        {
          "output_type": "execute_result",
          "data": {
            "text/plain": [
              "array([[65.73930403],\n",
              "       [51.98077875],\n",
              "       [50.03955362],\n",
              "       [87.33664496],\n",
              "       [66.31332801],\n",
              "       [67.52785122],\n",
              "       [63.6511539 ],\n",
              "       [51.43475034],\n",
              "       [63.83828669],\n",
              "       [65.55355838]])"
            ]
          },
          "metadata": {},
          "execution_count": 203
        }
      ]
    },
    {
      "cell_type": "markdown",
      "source": [
        "Вприницпе, значения Y в отложенной выборке (табличка выше) и предсказанные моделью значения довольно схожи"
      ],
      "metadata": {
        "id": "md3JgWv124Tl"
      }
    }
  ]
}