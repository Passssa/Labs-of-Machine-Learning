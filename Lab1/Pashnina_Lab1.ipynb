{
  "cells": [
    {
      "cell_type": "markdown",
      "metadata": {
        "id": "view-in-github",
        "colab_type": "text"
      },
      "source": [
        "<a href=\"https://colab.research.google.com/github/Passssa/Labs-of-Machine-Learning/blob/main/Lab1/Pashnina_Lab1.ipynb\" target=\"_parent\"><img src=\"https://colab.research.google.com/assets/colab-badge.svg\" alt=\"Open In Colab\"/></a>"
      ]
    },
    {
      "cell_type": "markdown",
      "id": "cbf2c747",
      "metadata": {
        "id": "cbf2c747"
      },
      "source": [
        "### `Дисциплина: Методы и технологии машинного обучения`   \n",
        "`Уровень подготовки: бакалавриат`   \n",
        "`Направление подготовки: 01.03.02 Прикладная математика и информатика`   \n",
        "`Семестр: осень 2022/2023`   \n",
        "`Выполнила Пашнина Алёна` \n",
        "\n",
        "\n",
        "\n",
        "# Лабораторная работа №1: Оценка точности модели с непрерывной зависимой переменной\n",
        "\n",
        "В практических примерах ниже показано:   \n",
        "\n",
        "* как делить данные на выборки (обучающую и тестовую);  \n",
        "* как считать MSE: среднеквадратическую ошибку модели;  \n",
        "* как меняются MSE на тестовой и обучающей выборках с изменением гибкости (числа степеней свободы) модели.  \n",
        "\n",
        "*Модели*: сглаживающие сплайны.   \n",
        "*Данные*: сгенерированные.   \n",
        "\n",
        "Рассмотрим пример из лекции: как меняется поведение ошибок на тестовой и обучающей выборках при различном числе степеней свободы, если функция зависимости отклика $Y$ от единственного признака $X$ известна. Сгенерируем $X$ и $Y$:\n",
        "\n",
        "* $X \\sim U(5, 105)$   \n",
        "* $Y = f(X) + \\epsilon$, где f(X) = 25 + 0.02*x - 0.003*(x - 45)^2 + 0.00006*(x - 54)^3) \n",
        "\n",
        "\n",
        "### Генерируем исходные данные"
      ]
    },
    {
      "cell_type": "markdown",
      "source": [
        "Задание 1:"
      ],
      "metadata": {
        "id": "4JXRC8lBeK3B"
      },
      "id": "4JXRC8lBeK3B"
    },
    {
      "cell_type": "code",
      "execution_count": 15,
      "id": "31a35bb9",
      "metadata": {
        "id": "31a35bb9"
      },
      "outputs": [],
      "source": [
        "# загрузка пакетов\n",
        "import numpy as np\n",
        "import random\n",
        "import matplotlib.pyplot as plt\n",
        "%matplotlib inline\n",
        "from pandas import DataFrame\n",
        "import rpy2.robjects as robjects"
      ]
    },
    {
      "cell_type": "code",
      "execution_count": 2,
      "id": "1758ac36",
      "metadata": {
        "id": "1758ac36"
      },
      "outputs": [],
      "source": [
        "# задаём ядро генератора случайных чисел (внимание: не глобально)\n",
        "np.random.seed(10111)\n",
        "\n",
        "# всего наблюдений, доля обучающей выборки\n",
        "n_all, train_percent = 60, 0.85\n",
        "\n",
        "# параметры распределения X\n",
        "x_min, x_max = 5, 105\n",
        "\n",
        "# генерируем X\n",
        "x = np.random.uniform(x_min, x_max, n_all)\n",
        "\n",
        "# генерируем случайный шум\n",
        "mu, sigma = 0, 1\n",
        "res = np.random.normal(mu, sigma, n_all)\n",
        "\n",
        "# отбираем наблюдения в обучающую выборку\n",
        "in_train = np.random.choice(np.arange(n_all), int(n_all * train_percent), \n",
        "                            replace=False)\n",
        "\n",
        "# истинная функция взаимосвязи\n",
        "def y_func (x) :\n",
        "    return(25 + 0.02*x - 0.003*(x - 45)**2 + 0.00006*(x - 54)**3)\n",
        "    \n",
        "# для графика истинной взаимосвязи\n",
        "x_line = np.linspace(x_min, x_max, n_all)\n",
        "y_line = y_func(x_line)\n",
        "\n",
        "# фактические значения y (с шумом)\n",
        "y = y_func(x) + res\n",
        "\n",
        "# создаём векторы с данными для построения графиков\n",
        "# наблюдения на обучающей выборке\n",
        "x_train = x[in_train]\n",
        "y_train = y[in_train]\n",
        "\n",
        "# наблюдения на тестовой выборке\n",
        "x_test = np.delete(x, in_train)\n",
        "y_test = np.delete(y, in_train)"
      ]
    },
    {
      "cell_type": "markdown",
      "id": "d88867d5",
      "metadata": {
        "id": "d88867d5"
      },
      "source": [
        "\n",
        "\n",
        "### Строим графики   \n",
        "\n",
        "Изобразим исходные данные на графике.   "
      ]
    },
    {
      "cell_type": "code",
      "execution_count": 3,
      "id": "ca3177c3",
      "metadata": {
        "id": "ca3177c3"
      },
      "outputs": [],
      "source": [
        "# загрузка пакетов\n",
        "import matplotlib.pyplot as plt"
      ]
    },
    {
      "cell_type": "code",
      "execution_count": 4,
      "id": "e198aee9",
      "metadata": {
        "id": "e198aee9",
        "outputId": "9ccf8eab-a1dc-4e09-f82a-db26afc5842a",
        "colab": {
          "base_uri": "https://localhost:8080/",
          "height": 279
        }
      },
      "outputs": [
        {
          "output_type": "display_data",
          "data": {
            "text/plain": [
              "<Figure size 432x288 with 1 Axes>"
            ],
            "image/png": "[encoded data removed]"
          },
          "metadata": {
            "needs_background": "light"
          }
        }
      ],
      "source": [
        "# график 1: исходные данные\n",
        "#  обучающая выборка\n",
        "plt.scatter(x_train, y_train, color='black', label='обучение', alpha=0.6)\n",
        "#  тестовая выборка\n",
        "plt.scatter(x_test, y_test, color='red', label='тест', alpha=0.6)\n",
        "#  истинная функция взаимосвязи\n",
        "plt.plot(x_line, y_line, color='black', linestyle='dashed', label='f(X)')\n",
        "#  подписи осей\n",
        "plt.xlabel('X')\n",
        "plt.ylabel('Y')\n",
        "\n",
        "#  легенда\n",
        "plt.legend()\n",
        "plt.show()"
      ]
    },
    {
      "cell_type": "markdown",
      "id": "7b3aaadf",
      "metadata": {
        "id": "7b3aaadf"
      },
      "source": [
        "## Обучаем модели и оцениваем их точность\n",
        "\n",
        "В качестве модели используем сплайны со степенями свободы от 2 (прямая) до 40 (количество узлов равно 2/3 наблюдений). Строим модели с различным количеством степеней свободы и в каждом случае считаем среднеквадратическую ошибку модели на обучающей и тестовой выборках.    "
      ]
    },
    {
      "cell_type": "code",
      "execution_count": 5,
      "id": "44f123bd",
      "metadata": {
        "id": "44f123bd"
      },
      "outputs": [],
      "source": [
        "# загрузка пакетов\n",
        "from pandas import DataFrame\n",
        "import rpy2.robjects as robjects"
      ]
    },
    {
      "cell_type": "code",
      "execution_count": 8,
      "id": "64e96a0a",
      "metadata": {
        "id": "64e96a0a",
        "outputId": "c4b95d16-0cb2-4bb2-cde2-37d01e586f72",
        "colab": {
          "base_uri": "https://localhost:8080/",
          "height": 279
        }
      },
      "outputs": [
        {
          "output_type": "display_data",
          "data": {
            "text/plain": [
              "<Figure size 432x288 with 1 Axes>"
            ],
            "image/png": "[encoded data removed]"
          },
          "metadata": {
            "needs_background": "light"
          }
        }
      ],
      "source": [
        "# модель натурального сплайна с заданным количеством узлов (df)\n",
        "my_df = 38\n",
        "\n",
        "# сохраняем индексы отсортированного по возрастанию x из обучающей выборки\n",
        "x_sorted_index = sorted(range(len(x_train)), key=lambda k: x_train[k])\n",
        "\n",
        "# равноотстоящие координаты по X для прорисовки сглаженной кривой\n",
        "x_train_lin = np.linspace(min(x_train), max(x_train), num=300, endpoint=True)\n",
        "\n",
        "# создаём из данных объекты, понятные R\n",
        "r_x = robjects.FloatVector(x_train)\n",
        "r_y = robjects.FloatVector(y_train)\n",
        "\n",
        "# импортируем нужную функцию из R\n",
        "r_smooth_spline = robjects.r['smooth.spline']\n",
        "\n",
        "# строим сглаживающий сплайн\n",
        "fit = r_smooth_spline(x=r_x, y=r_y, df=my_df)\n",
        "\n",
        "# делаем прогнозы\n",
        "y_hat_train = np.array(robjects.r['predict'](fit, \n",
        "    robjects.FloatVector(x_train)).rx2('y'))\n",
        "y_hat_test = np.array(robjects.r['predict'](fit, \n",
        "    robjects.FloatVector(x_test)).rx2('y'))\n",
        "y_lin_plot = np.array(robjects.r['predict'](fit, \n",
        "    robjects.FloatVector(x_train_lin)).rx2('y'))\n",
        "\n",
        "# строим график\n",
        "plt.plot(x_train, y_train, color='black', ls='', marker='.', label='обучение')\n",
        "plt.plot(x_line, y_line, color='black', ls='dashed', marker='', label='f(X)')\n",
        "plt.plot(x_train_lin, y_lin_plot, marker='', label='сплайн с df = %s' % my_df)\n",
        "plt.plot(x_test, y_test, color='red', ls='', marker='.', label='тест факт')\n",
        "plt.plot(x_test, y_hat_test, color='red', ls='', marker='+', label='тест прогноз')\n",
        "#  подписи осей\n",
        "plt.xlabel('X')\n",
        "plt.ylabel('Y')\n",
        "# легенда\n",
        "plt.legend(loc='best')\n",
        "\n",
        "# считаем MSE\n",
        "MSE_fit = [sum((y_train - y_hat_train)**2) / len(y_train),\n",
        "          sum((y_test - y_hat_test)**2) / len(y_test)]"
      ]
    },
    {
      "cell_type": "markdown",
      "id": "097ca793",
      "metadata": {
        "id": "097ca793"
      },
      "source": [
        "Ошибки на обучающей и тестовой выборках составили соответственно:"
      ]
    },
    {
      "cell_type": "code",
      "execution_count": 9,
      "id": "bc900009",
      "metadata": {
        "id": "bc900009",
        "outputId": "04b83f13-750b-4995-bb51-51d222810abd",
        "colab": {
          "base_uri": "https://localhost:8080/"
        }
      },
      "outputs": [
        {
          "output_type": "execute_result",
          "data": {
            "text/plain": [
              "array([0.11, 3.32])"
            ]
          },
          "metadata": {},
          "execution_count": 9
        }
      ],
      "source": [
        "# выводим MSE с округлением\n",
        "np.around(MSE_fit, 2)"
      ]
    },
    {
      "cell_type": "code",
      "execution_count": 10,
      "id": "a6b5219c",
      "metadata": {
        "id": "a6b5219c"
      },
      "outputs": [],
      "source": [
        "#  Теперь строим модели с df от 2 до 40 ########################################\n",
        "\n",
        "# максимальное число степеней свободы для модели сплайна\n",
        "max_df = 40\n",
        "\n",
        "# фрейм данных для сохранения MSE на обучающей и на тестовой \n",
        "#  при разных степенях свободы\n",
        "MSE_all_dfs = [[0] * 2 for i in range(2, max_df+1)]\n",
        "MSE_all_dfs = DataFrame(MSE_all_dfs, columns=['MSE_train', 'MSE_test'],\n",
        "                       index=list(range(2, max_df+1)))\n",
        "\n",
        "# заполняем фрейм\n",
        "for i_df in range(2, max_df+1) :\n",
        "    \n",
        "    # обучаем модель\n",
        "    fit = r_smooth_spline(x=r_x, y=r_y, df=i_df)\n",
        "    \n",
        "    # прогноз на обучающей выборке\n",
        "    y_train_hat = np.array(robjects.r['predict'](fit, \n",
        "        robjects.FloatVector(x_train)).rx2('y'))\n",
        "    # прогноз на тестовой выборке\n",
        "    y_test_hat = np.array(robjects.r['predict'](fit, \n",
        "        robjects.FloatVector(x_test)).rx2('y'))\n",
        "    \n",
        "    # считаем MSE\n",
        "    MSE_all_dfs.loc[i_df, 'MSE_train'] = sum((y_train - y_train_hat)**2) / len(y_train_hat)\n",
        "    MSE_all_dfs.loc[i_df, 'MSE_test'] = sum((y_test - y_test_hat)**2) / len(y_test_hat)"
      ]
    },
    {
      "cell_type": "markdown",
      "id": "3bdc0548",
      "metadata": {
        "id": "3bdc0548"
      },
      "source": [
        "Минимум MSE на тестовой выборке достигается при числе степеней свободы:  "
      ]
    },
    {
      "cell_type": "code",
      "execution_count": 11,
      "id": "34d8fd2a",
      "metadata": {
        "id": "34d8fd2a",
        "outputId": "4e8f3404-cd33-4ceb-d78a-b1e6e445e262",
        "colab": {
          "base_uri": "https://localhost:8080/",
          "height": 80
        }
      },
      "outputs": [
        {
          "output_type": "execute_result",
          "data": {
            "text/plain": [
              "   MSE_train  MSE_test\n",
              "4    1.17842  1.332491"
            ],
            "text/html": [
              "\n",
              "  <div id=\"df-a2c27d1d-6048-4004-95d6-054b71077dc2\">\n",
              "    <div class=\"colab-df-container\">\n",
              "      <div>\n",
              "<style scoped>\n",
              "    .dataframe tbody tr th:only-of-type {\n",
              "        vertical-align: middle;\n",
              "    }\n",
              "\n",
              "    .dataframe tbody tr th {\n",
              "        vertical-align: top;\n",
              "    }\n",
              "\n",
              "    .dataframe thead th {\n",
              "        text-align: right;\n",
              "    }\n",
              "</style>\n",
              "<table border=\"1\" class=\"dataframe\">\n",
              "  <thead>\n",
              "    <tr style=\"text-align: right;\">\n",
              "      <th></th>\n",
              "      <th>MSE_train</th>\n",
              "      <th>MSE_test</th>\n",
              "    </tr>\n",
              "  </thead>\n",
              "  <tbody>\n",
              "    <tr>\n",
              "      <th>4</th>\n",
              "      <td>1.17842</td>\n",
              "      <td>1.332491</td>\n",
              "    </tr>\n",
              "  </tbody>\n",
              "</table>\n",
              "</div>\n",
              "      <button class=\"colab-df-convert\" onclick=\"convertToInteractive('df-a2c27d1d-6048-4004-95d6-054b71077dc2')\"\n",
              "              title=\"Convert this dataframe to an interactive table.\"\n",
              "              style=\"display:none;\">\n",
              "        \n",
              "  <svg xmlns=\"http://www.w3.org/2000/svg\" height=\"24px\"viewBox=\"0 0 24 24\"\n",
              "       width=\"24px\">\n",
              "    <path d=\"M0 0h24v24H0V0z\" fill=\"none\"/>\n",
              "    <path d=\"M18.56 5.44l.94 2.06.94-2.06 2.06-.94-2.06-.94-.94-2.06-.94 2.06-2.06.94zm-11 1L8.5 8.5l.94-2.06 2.06-.94-2.06-.94L8.5 2.5l-.94 2.06-2.06.94zm10 10l.94 2.06.94-2.06 2.06-.94-2.06-.94-.94-2.06-.94 2.06-2.06.94z\"/><path d=\"M17.41 7.96l-1.37-1.37c-.4-.4-.92-.59-1.43-.59-.52 0-1.04.2-1.43.59L10.3 9.45l-7.72 7.72c-.78.78-.78 2.05 0 2.83L4 21.41c.39.39.9.59 1.41.59.51 0 1.02-.2 1.41-.59l7.78-7.78 2.81-2.81c.8-.78.8-2.07 0-2.86zM5.41 20L4 18.59l7.72-7.72 1.47 1.35L5.41 20z\"/>\n",
              "  </svg>\n",
              "      </button>\n",
              "      \n",
              "  <style>\n",
              "    .colab-df-container {\n",
              "      display:flex;\n",
              "      flex-wrap:wrap;\n",
              "      gap: 12px;\n",
              "    }\n",
              "\n",
              "    .colab-df-convert {\n",
              "      background-color: #E8F0FE;\n",
              "      border: none;\n",
              "      border-radius: 50%;\n",
              "      cursor: pointer;\n",
              "      display: none;\n",
              "      fill: #1967D2;\n",
              "      height: 32px;\n",
              "      padding: 0 0 0 0;\n",
              "      width: 32px;\n",
              "    }\n",
              "\n",
              "    .colab-df-convert:hover {\n",
              "      background-color: #E2EBFA;\n",
              "      box-shadow: 0px 1px 2px rgba(60, 64, 67, 0.3), 0px 1px 3px 1px rgba(60, 64, 67, 0.15);\n",
              "      fill: #174EA6;\n",
              "    }\n",
              "\n",
              "    [theme=dark] .colab-df-convert {\n",
              "      background-color: #3B4455;\n",
              "      fill: #D2E3FC;\n",
              "    }\n",
              "\n",
              "    [theme=dark] .colab-df-convert:hover {\n",
              "      background-color: #434B5C;\n",
              "      box-shadow: 0px 1px 3px 1px rgba(0, 0, 0, 0.15);\n",
              "      filter: drop-shadow(0px 1px 2px rgba(0, 0, 0, 0.3));\n",
              "      fill: #FFFFFF;\n",
              "    }\n",
              "  </style>\n",
              "\n",
              "      <script>\n",
              "        const buttonEl =\n",
              "          document.querySelector('#df-a2c27d1d-6048-4004-95d6-054b71077dc2 button.colab-df-convert');\n",
              "        buttonEl.style.display =\n",
              "          google.colab.kernel.accessAllowed ? 'block' : 'none';\n",
              "\n",
              "        async function convertToInteractive(key) {\n",
              "          const element = document.querySelector('#df-a2c27d1d-6048-4004-95d6-054b71077dc2');\n",
              "          const dataTable =\n",
              "            await google.colab.kernel.invokeFunction('convertToInteractive',\n",
              "                                                     [key], {});\n",
              "          if (!dataTable) return;\n",
              "\n",
              "          const docLinkHtml = 'Like what you see? Visit the ' +\n",
              "            '<a target=\"_blank\" href=https://colab.research.google.com/notebooks/data_table.ipynb>data table notebook</a>'\n",
              "            + ' to learn more about interactive tables.';\n",
              "          element.innerHTML = '';\n",
              "          dataTable['output_type'] = 'display_data';\n",
              "          await google.colab.output.renderOutput(dataTable, element);\n",
              "          const docLink = document.createElement('div');\n",
              "          docLink.innerHTML = docLinkHtml;\n",
              "          element.appendChild(docLink);\n",
              "        }\n",
              "      </script>\n",
              "    </div>\n",
              "  </div>\n",
              "  "
            ]
          },
          "metadata": {},
          "execution_count": 11
        }
      ],
      "source": [
        "# фильтруем таблицу по минимальной MSE на тестовой выборке\n",
        "MSE_all_dfs[MSE_all_dfs['MSE_test'] == min(MSE_all_dfs['MSE_test'])]"
      ]
    },
    {
      "cell_type": "markdown",
      "id": "6598cf19",
      "metadata": {
        "id": "6598cf19"
      },
      "source": [
        "Изобразим на графике динамику MSE на обучающей и тестовой выборках в зависимости от степеней свободы модели. "
      ]
    },
    {
      "cell_type": "code",
      "execution_count": 12,
      "id": "1475f0f0",
      "metadata": {
        "id": "1475f0f0",
        "outputId": "019faf77-2438-4762-b780-fe687227579f",
        "colab": {
          "base_uri": "https://localhost:8080/",
          "height": 297
        }
      },
      "outputs": [
        {
          "output_type": "execute_result",
          "data": {
            "text/plain": [
              "<matplotlib.legend.Legend at 0x7f057d365bd0>"
            ]
          },
          "metadata": {},
          "execution_count": 12
        },
        {
          "output_type": "display_data",
          "data": {
            "text/plain": [
              "<Figure size 432x288 with 1 Axes>"
            ],
            "image/png": "[encoded data removed]"
          },
          "metadata": {
            "needs_background": "light"
          }
        }
      ],
      "source": [
        "# график изменения MSE с увеличением df\n",
        "plt.plot(MSE_all_dfs.index, MSE_all_dfs['MSE_train'], color='dimgrey', \n",
        "         marker='', label='обучение')\n",
        "plt.plot(MSE_all_dfs.index, MSE_all_dfs['MSE_test'], color='red', \n",
        "         marker='', label='тест')\n",
        "plt.plot([2, 2], [MSE_all_dfs.iloc[0]['MSE_train'], MSE_all_dfs.iloc[0]['MSE_test']],\n",
        "         ls='', marker='s', label='df=2')\n",
        "plt.plot([6, 6], [MSE_all_dfs.iloc[4]['MSE_train'], MSE_all_dfs.iloc[4]['MSE_test']],\n",
        "         ls='', marker='s', label='df=6')\n",
        "plt.plot([38, 38], [MSE_all_dfs.iloc[36]['MSE_train'], MSE_all_dfs.iloc[36]['MSE_test']],\n",
        "         ls='', marker='s', label='df=38')\n",
        "plt.hlines(1, 0, 40, linestyles='dashed', color='grey', label='Var(e)=1')\n",
        "#  подписи осей\n",
        "plt.xlabel('степени свободы (df)')\n",
        "plt.ylabel('MSE')\n",
        "# легенда\n",
        "plt.legend(loc='best')"
      ]
    },
    {
      "cell_type": "markdown",
      "id": "499774e2",
      "metadata": {
        "id": "499774e2"
      },
      "source": [
        "Кривая MSE на обучающей выборке стабильно снижается с ростом узлов сплайна. Чем больше наблюдений, через которые прошёл сплайн, тем точнее модель. Это говорит о переобучении. Лучшую модель следуют выбирать по минимуму на кривой MSE на тестовой выборке.  "
      ]
    },
    {
      "cell_type": "markdown",
      "source": [
        "Вывод к 1 задаче:\n",
        "\n",
        "Наилучшее число степеней свободы для данной модели - 6, поскольку при нем достигается минимальная ошибка на тестовой выборке.\n",
        "Итак, при числе степеней сводобы 6 сплайн выглядит следующим образом:"
      ],
      "metadata": {
        "id": "424sQtxyS28o"
      },
      "id": "424sQtxyS28o"
    },
    {
      "cell_type": "code",
      "source": [
        "my_df = 6\n",
        "\n",
        "x_sorted_index = sorted(range(len(x_train)), key=lambda k: x_train[k])\n",
        "x_train_lin = np.linspace(min(x_train), max(x_train), num=300, endpoint=True)\n",
        "\n",
        "r_x = robjects.FloatVector(x_train)\n",
        "r_y = robjects.FloatVector(y_train)\n",
        "\n",
        "r_smooth_spline = robjects.r['smooth.spline']\n",
        "\n",
        "fit = r_smooth_spline(x=r_x, y=r_y, df=my_df)\n",
        "\n",
        "y_hat_train = np.array(robjects.r['predict'](fit, \n",
        "    robjects.FloatVector(x_train)).rx2('y'))\n",
        "y_hat_test = np.array(robjects.r['predict'](fit, \n",
        "    robjects.FloatVector(x_test)).rx2('y'))\n",
        "y_lin_plot = np.array(robjects.r['predict'](fit, \n",
        "    robjects.FloatVector(x_train_lin)).rx2('y'))\n",
        "\n",
        "plt.plot(x_train, y_train, color='black', ls='', marker='.', label='обучение')\n",
        "plt.plot(x_line, y_line, color='black', ls='dashed', marker='', label='f(X)')\n",
        "plt.plot(x_train_lin, y_lin_plot, marker='', label='сплайн с df = %s' % my_df)\n",
        "plt.plot(x_test, y_test, color='red', ls='', marker='.', label='тест факт')\n",
        "plt.plot(x_test, y_hat_test, color='red', ls='', marker='+', label='тест прогноз')\n",
        "\n",
        "plt.xlabel('X')\n",
        "plt.ylabel('Y')\n",
        "\n",
        "plt.legend(loc='best')\n",
        "\n",
        "MSE_fit = [sum((y_train - y_hat_train)**2) / len(y_train),\n",
        "          sum((y_test - y_hat_test)**2) / len(y_test)]"
      ],
      "metadata": {
        "colab": {
          "base_uri": "https://localhost:8080/",
          "height": 279
        },
        "id": "biwKCgx7Vp0f",
        "outputId": "c64ead27-977f-4462-b2f7-03b26da704a0"
      },
      "id": "biwKCgx7Vp0f",
      "execution_count": 14,
      "outputs": [
        {
          "output_type": "display_data",
          "data": {
            "text/plain": [
              "<Figure size 432x288 with 1 Axes>"
            ],
            "image/png": "[encoded data removed]"
          },
          "metadata": {
            "needs_background": "light"
          }
        }
      ]
    },
    {
      "cell_type": "markdown",
      "source": [
        "Задание 2, вариант 16: "
      ],
      "metadata": {
        "id": "kmVtnu50eC46"
      },
      "id": "kmVtnu50eC46"
    },
    {
      "cell_type": "markdown",
      "source": [
        "ДЛЯ train_percent = 0.3"
      ],
      "metadata": {
        "id": "8i0bZYgtjtxw"
      },
      "id": "8i0bZYgtjtxw"
    },
    {
      "cell_type": "code",
      "source": [
        "# задаём ядро генератора случайных чисел (внимание: не глобально)\n",
        "np.random.seed(10111)\n",
        "\n",
        "# всего наблюдений, доля обучающей выборки\n",
        "n_all, train_percent = 60, 0.3\n",
        "\n",
        "# параметры распределения X\n",
        "x_min, x_max = 5, 105\n",
        "\n",
        "# генерируем X\n",
        "x = np.random.uniform(x_min, x_max, n_all)\n",
        "\n",
        "# генерируем случайный шум\n",
        "mu, sigma = 0, 1\n",
        "res = np.random.normal(mu, sigma, n_all)\n",
        "\n",
        "# отбираем наблюдения в обучающую выборку\n",
        "in_train = np.random.choice(np.arange(n_all), int(n_all * train_percent), \n",
        "                            replace=False)\n",
        "\n",
        "# истинная функция взаимосвязи\n",
        "def y_func (x) :\n",
        "    return(25 + 0.02*x - 0.003*(x - 45)**2 + 0.00006*(x - 54)**3)\n",
        "    \n",
        "# для графика истинной взаимосвязи\n",
        "x_line = np.linspace(x_min, x_max, n_all)\n",
        "y_line = y_func(x_line)\n",
        "\n",
        "# фактические значения y (с шумом)\n",
        "y = y_func(x) + res\n",
        "\n",
        "# создаём векторы с данными для построения графиков\n",
        "# наблюдения на обучающей выборке\n",
        "x_train = x[in_train]\n",
        "y_train = y[in_train]\n",
        "\n",
        "# наблюдения на тестовой выборке\n",
        "x_test = np.delete(x, in_train)\n",
        "y_test = np.delete(y, in_train)"
      ],
      "metadata": {
        "id": "rzo8eurOjveI"
      },
      "id": "rzo8eurOjveI",
      "execution_count": 16,
      "outputs": []
    },
    {
      "cell_type": "markdown",
      "source": [
        "### Строим графики   \n",
        "\n",
        "Изобразим исходные данные на графике.   "
      ],
      "metadata": {
        "id": "imIJADIOkJor"
      },
      "id": "imIJADIOkJor"
    },
    {
      "cell_type": "code",
      "source": [
        "# график 1: исходные данные\n",
        "#  обучающая выборка\n",
        "plt.scatter(x_train, y_train, color='black', label='обучение', alpha=0.6)\n",
        "#  тестовая выборка\n",
        "plt.scatter(x_test, y_test, color='red', label='тест', alpha=0.6)\n",
        "#  истинная функция взаимосвязи\n",
        "plt.plot(x_line, y_line, color='black', linestyle='dashed', label='f(X)')\n",
        "#  подписи осей\n",
        "plt.xlabel('X')\n",
        "plt.ylabel('Y')\n",
        "\n",
        "#  легенда\n",
        "plt.legend()\n",
        "plt.show()"
      ],
      "metadata": {
        "colab": {
          "base_uri": "https://localhost:8080/",
          "height": 279
        },
        "id": "3Zni4H-zjvhA",
        "outputId": "3c298fcc-94aa-466a-9c6f-19c8e8bb40c5"
      },
      "id": "3Zni4H-zjvhA",
      "execution_count": 17,
      "outputs": [
        {
          "output_type": "display_data",
          "data": {
            "text/plain": [
              "<Figure size 432x288 with 1 Axes>"
            ],
            "image/png": "[encoded data removed]"
          },
          "metadata": {
            "needs_background": "light"
          }
        }
      ]
    },
    {
      "cell_type": "markdown",
      "source": [
        "## Обучаем модели и оцениваем их точность\n",
        "\n",
        "В качестве модели используем сплайны со степенями свободы от 2 (прямая) до 40 (количество узлов равно 2/3 наблюдений). Строим модели с различным количеством степеней свободы и в каждом случае считаем среднеквадратическую ошибку модели на обучающей и тестовой выборках.  "
      ],
      "metadata": {
        "id": "meJ1H91GkRcd"
      },
      "id": "meJ1H91GkRcd"
    },
    {
      "cell_type": "code",
      "source": [
        "max_df = 40\n",
        "\n",
        "# фрейм данных для сохранения MSE на обучающей и на тестовой \n",
        "#  при разных степенях свободы\n",
        "MSE_all_dfs = [[0] * 2 for i in range(2, max_df+1)]\n",
        "MSE_all_dfs = DataFrame(MSE_all_dfs, columns=['MSE_train', 'MSE_test'],\n",
        "                       index=list(range(2, max_df+1)))\n",
        "\n",
        "# заполняем фрейм\n",
        "for i_df in range(2, max_df+1) :\n",
        "    \n",
        "    # обучаем модель\n",
        "    fit = r_smooth_spline(x=r_x, y=r_y, df=i_df)\n",
        "    \n",
        "    # прогноз на обучающей выборке\n",
        "    y_train_hat = np.array(robjects.r['predict'](fit, \n",
        "        robjects.FloatVector(x_train)).rx2('y'))\n",
        "    # прогноз на тестовой выборке\n",
        "    y_test_hat = np.array(robjects.r['predict'](fit, \n",
        "        robjects.FloatVector(x_test)).rx2('y'))\n",
        "    \n",
        "    # считаем MSE\n",
        "    MSE_all_dfs.loc[i_df, 'MSE_train'] = sum((y_train - y_train_hat)**2) / len(y_train_hat)\n",
        "    MSE_all_dfs.loc[i_df, 'MSE_test'] = sum((y_test - y_test_hat)**2) / len(y_test_hat)"
      ],
      "metadata": {
        "id": "jPWdGn5-kSoF"
      },
      "id": "jPWdGn5-kSoF",
      "execution_count": 19,
      "outputs": []
    },
    {
      "cell_type": "code",
      "source": [
        "MSE_all_dfs[MSE_all_dfs['MSE_test'] == min(MSE_all_dfs['MSE_test'])]"
      ],
      "metadata": {
        "colab": {
          "base_uri": "https://localhost:8080/",
          "height": 80
        },
        "id": "HIDEFM-OkWqd",
        "outputId": "b604fb3b-0b77-41fc-f96f-6e17febf5953"
      },
      "id": "HIDEFM-OkWqd",
      "execution_count": 20,
      "outputs": [
        {
          "output_type": "execute_result",
          "data": {
            "text/plain": [
              "   MSE_train  MSE_test\n",
              "5    0.31316  1.623543"
            ],
            "text/html": [
              "\n",
              "  <div id=\"df-788b795c-e382-470f-92d1-2421ed8f5edd\">\n",
              "    <div class=\"colab-df-container\">\n",
              "      <div>\n",
              "<style scoped>\n",
              "    .dataframe tbody tr th:only-of-type {\n",
              "        vertical-align: middle;\n",
              "    }\n",
              "\n",
              "    .dataframe tbody tr th {\n",
              "        vertical-align: top;\n",
              "    }\n",
              "\n",
              "    .dataframe thead th {\n",
              "        text-align: right;\n",
              "    }\n",
              "</style>\n",
              "<table border=\"1\" class=\"dataframe\">\n",
              "  <thead>\n",
              "    <tr style=\"text-align: right;\">\n",
              "      <th></th>\n",
              "      <th>MSE_train</th>\n",
              "      <th>MSE_test</th>\n",
              "    </tr>\n",
              "  </thead>\n",
              "  <tbody>\n",
              "    <tr>\n",
              "      <th>5</th>\n",
              "      <td>0.31316</td>\n",
              "      <td>1.623543</td>\n",
              "    </tr>\n",
              "  </tbody>\n",
              "</table>\n",
              "</div>\n",
              "      <button class=\"colab-df-convert\" onclick=\"convertToInteractive('df-788b795c-e382-470f-92d1-2421ed8f5edd')\"\n",
              "              title=\"Convert this dataframe to an interactive table.\"\n",
              "              style=\"display:none;\">\n",
              "        \n",
              "  <svg xmlns=\"http://www.w3.org/2000/svg\" height=\"24px\"viewBox=\"0 0 24 24\"\n",
              "       width=\"24px\">\n",
              "    <path d=\"M0 0h24v24H0V0z\" fill=\"none\"/>\n",
              "    <path d=\"M18.56 5.44l.94 2.06.94-2.06 2.06-.94-2.06-.94-.94-2.06-.94 2.06-2.06.94zm-11 1L8.5 8.5l.94-2.06 2.06-.94-2.06-.94L8.5 2.5l-.94 2.06-2.06.94zm10 10l.94 2.06.94-2.06 2.06-.94-2.06-.94-.94-2.06-.94 2.06-2.06.94z\"/><path d=\"M17.41 7.96l-1.37-1.37c-.4-.4-.92-.59-1.43-.59-.52 0-1.04.2-1.43.59L10.3 9.45l-7.72 7.72c-.78.78-.78 2.05 0 2.83L4 21.41c.39.39.9.59 1.41.59.51 0 1.02-.2 1.41-.59l7.78-7.78 2.81-2.81c.8-.78.8-2.07 0-2.86zM5.41 20L4 18.59l7.72-7.72 1.47 1.35L5.41 20z\"/>\n",
              "  </svg>\n",
              "      </button>\n",
              "      \n",
              "  <style>\n",
              "    .colab-df-container {\n",
              "      display:flex;\n",
              "      flex-wrap:wrap;\n",
              "      gap: 12px;\n",
              "    }\n",
              "\n",
              "    .colab-df-convert {\n",
              "      background-color: #E8F0FE;\n",
              "      border: none;\n",
              "      border-radius: 50%;\n",
              "      cursor: pointer;\n",
              "      display: none;\n",
              "      fill: #1967D2;\n",
              "      height: 32px;\n",
              "      padding: 0 0 0 0;\n",
              "      width: 32px;\n",
              "    }\n",
              "\n",
              "    .colab-df-convert:hover {\n",
              "      background-color: #E2EBFA;\n",
              "      box-shadow: 0px 1px 2px rgba(60, 64, 67, 0.3), 0px 1px 3px 1px rgba(60, 64, 67, 0.15);\n",
              "      fill: #174EA6;\n",
              "    }\n",
              "\n",
              "    [theme=dark] .colab-df-convert {\n",
              "      background-color: #3B4455;\n",
              "      fill: #D2E3FC;\n",
              "    }\n",
              "\n",
              "    [theme=dark] .colab-df-convert:hover {\n",
              "      background-color: #434B5C;\n",
              "      box-shadow: 0px 1px 3px 1px rgba(0, 0, 0, 0.15);\n",
              "      filter: drop-shadow(0px 1px 2px rgba(0, 0, 0, 0.3));\n",
              "      fill: #FFFFFF;\n",
              "    }\n",
              "  </style>\n",
              "\n",
              "      <script>\n",
              "        const buttonEl =\n",
              "          document.querySelector('#df-788b795c-e382-470f-92d1-2421ed8f5edd button.colab-df-convert');\n",
              "        buttonEl.style.display =\n",
              "          google.colab.kernel.accessAllowed ? 'block' : 'none';\n",
              "\n",
              "        async function convertToInteractive(key) {\n",
              "          const element = document.querySelector('#df-788b795c-e382-470f-92d1-2421ed8f5edd');\n",
              "          const dataTable =\n",
              "            await google.colab.kernel.invokeFunction('convertToInteractive',\n",
              "                                                     [key], {});\n",
              "          if (!dataTable) return;\n",
              "\n",
              "          const docLinkHtml = 'Like what you see? Visit the ' +\n",
              "            '<a target=\"_blank\" href=https://colab.research.google.com/notebooks/data_table.ipynb>data table notebook</a>'\n",
              "            + ' to learn more about interactive tables.';\n",
              "          element.innerHTML = '';\n",
              "          dataTable['output_type'] = 'display_data';\n",
              "          await google.colab.output.renderOutput(dataTable, element);\n",
              "          const docLink = document.createElement('div');\n",
              "          docLink.innerHTML = docLinkHtml;\n",
              "          element.appendChild(docLink);\n",
              "        }\n",
              "      </script>\n",
              "    </div>\n",
              "  </div>\n",
              "  "
            ]
          },
          "metadata": {},
          "execution_count": 20
        }
      ]
    },
    {
      "cell_type": "code",
      "source": [
        "# график изменения MSE с увеличением df\n",
        "plt.plot(MSE_all_dfs.index, MSE_all_dfs['MSE_train'], color='dimgrey', \n",
        "         marker='', label='обучение')\n",
        "plt.plot(MSE_all_dfs.index, MSE_all_dfs['MSE_test'], color='red', \n",
        "         marker='', label='тест')\n",
        "plt.plot([2, 2], [MSE_all_dfs.iloc[0]['MSE_train'], MSE_all_dfs.iloc[0]['MSE_test']],\n",
        "         ls='', marker='s', label='df=2')\n",
        "plt.plot([6, 6], [MSE_all_dfs.iloc[4]['MSE_train'], MSE_all_dfs.iloc[4]['MSE_test']],\n",
        "         ls='', marker='s', label='df=6')\n",
        "plt.plot([38, 38], [MSE_all_dfs.iloc[36]['MSE_train'], MSE_all_dfs.iloc[36]['MSE_test']],\n",
        "         ls='', marker='s', label='df=38')\n",
        "plt.hlines(1, 0, 40, linestyles='dashed', color='grey', label='Var(e)=1')\n",
        "#  подписи осей\n",
        "plt.xlabel('степени свободы (df)')\n",
        "plt.ylabel('MSE')\n",
        "# легенда\n",
        "plt.legend(loc='best')"
      ],
      "metadata": {
        "colab": {
          "base_uri": "https://localhost:8080/",
          "height": 297
        },
        "id": "loXB6zc8knDH",
        "outputId": "02907364-2211-4b9d-8c18-15c6cea09bc3"
      },
      "id": "loXB6zc8knDH",
      "execution_count": 21,
      "outputs": [
        {
          "output_type": "execute_result",
          "data": {
            "text/plain": [
              "<matplotlib.legend.Legend at 0x7f057d13d110>"
            ]
          },
          "metadata": {},
          "execution_count": 21
        },
        {
          "output_type": "display_data",
          "data": {
            "text/plain": [
              "<Figure size 432x288 with 1 Axes>"
            ],
            "image/png": "[encoded data removed]"
          },
          "metadata": {
            "needs_background": "light"
          }
        }
      ]
    },
    {
      "cell_type": "markdown",
      "source": [
        "Кривая MSE на обучающей выборке снижается (до определенного момента) с ростом узлов сплайна (до 6, далее MSE снова начинает увеличиваться). Чем больше наблюдений, через которые прошёл сплайн, тем точнее модель. Это говорит о переобучении. Лучшую модель следуют выбирать по минимуму на кривой MSE на тестовой выборке. "
      ],
      "metadata": {
        "id": "ZOwFkzx5ksY_"
      },
      "id": "ZOwFkzx5ksY_"
    },
    {
      "cell_type": "markdown",
      "source": [
        "ДЛЯ train_percent = 0.25"
      ],
      "metadata": {
        "id": "i23XJ80KlAR0"
      },
      "id": "i23XJ80KlAR0"
    },
    {
      "cell_type": "code",
      "source": [
        "# также задаем псевдорандонмные исходные данные\n",
        "# задаём ядро генератора случайных чисел (внимание: не глобально)\n",
        "np.random.seed(10111)\n",
        "\n",
        "# всего наблюдений, доля обучающей выборки\n",
        "n_all, train_percent = 60, 0.25\n",
        "\n",
        "# параметры распределения X\n",
        "x_min, x_max = 5, 105\n",
        "\n",
        "# генерируем X\n",
        "x = np.random.uniform(x_min, x_max, n_all)\n",
        "\n",
        "# генерируем случайный шум\n",
        "mu, sigma = 0, 1\n",
        "res = np.random.normal(mu, sigma, n_all)\n",
        "\n",
        "# отбираем наблюдения в обучающую выборку\n",
        "in_train = np.random.choice(np.arange(n_all), int(n_all * train_percent), \n",
        "                            replace=False)\n",
        "\n",
        "# истинная функция взаимосвязи\n",
        "def y_func (x) :\n",
        "    return(25 + 0.02*x - 0.003*(x - 45)**2 + 0.00006*(x - 54)**3)\n",
        "    \n",
        "# для графика истинной взаимосвязи\n",
        "x_line = np.linspace(x_min, x_max, n_all)\n",
        "y_line = y_func(x_line)\n",
        "\n",
        "# фактические значения y (с шумом)\n",
        "y = y_func(x) + res\n",
        "\n",
        "# создаём векторы с данными для построения графиков\n",
        "# наблюдения на обучающей выборке\n",
        "x_train = x[in_train]\n",
        "y_train = y[in_train]\n",
        "\n",
        "# наблюдения на тестовой выборке\n",
        "x_test = np.delete(x, in_train)\n",
        "y_test = np.delete(y, in_train)"
      ],
      "metadata": {
        "id": "2o8OU3HOlBXa"
      },
      "id": "2o8OU3HOlBXa",
      "execution_count": 33,
      "outputs": []
    },
    {
      "cell_type": "code",
      "source": [
        "#  обучающая выборка\n",
        "plt.scatter(x_train, y_train, color='black', label='обучение', alpha=0.6)\n",
        "#  тестовая выборка\n",
        "plt.scatter(x_test, y_test, color='red', label='тест', alpha=0.6)\n",
        "#  истинная функция взаимосвязи\n",
        "plt.plot(x_line, y_line, color='black', linestyle='dashed', label='f(X)')\n",
        "#  подписи осей\n",
        "plt.xlabel('X')\n",
        "plt.ylabel('Y')\n",
        "\n",
        "#  легенда\n",
        "plt.legend()\n",
        "plt.show()"
      ],
      "metadata": {
        "colab": {
          "base_uri": "https://localhost:8080/",
          "height": 279
        },
        "id": "VHUr7yfUlLnL",
        "outputId": "870e499c-0267-426d-98e8-eb609d0153c5"
      },
      "id": "VHUr7yfUlLnL",
      "execution_count": 34,
      "outputs": [
        {
          "output_type": "display_data",
          "data": {
            "text/plain": [
              "<Figure size 432x288 with 1 Axes>"
            ],
            "image/png": "[encoded data removed]"
          },
          "metadata": {
            "needs_background": "light"
          }
        }
      ]
    },
    {
      "cell_type": "markdown",
      "source": [
        "Точно также, как и в предыдущих пунктах, определяем наилучший выбор числа степеней свободы:"
      ],
      "metadata": {
        "id": "-DbEgilbldWu"
      },
      "id": "-DbEgilbldWu"
    },
    {
      "cell_type": "code",
      "source": [
        "# максимальное число степеней свободы для модели сплайна\n",
        "max_df = 40\n",
        "\n",
        "# фрейм данных для сохранения MSE на обучающей и на тестовой \n",
        "#  при разных степенях свободы\n",
        "MSE_all_dfs = [[0] * 2 for i in range(2, max_df+1)]\n",
        "MSE_all_dfs = DataFrame(MSE_all_dfs, columns=['MSE_train', 'MSE_test'],\n",
        "                       index=list(range(2, max_df+1)))\n",
        "\n",
        "# заполняем фрейм\n",
        "for i_df in range(2, max_df+1) :\n",
        "    \n",
        "    # обучаем модель\n",
        "    fit = r_smooth_spline(x=r_x, y=r_y, df=i_df)\n",
        "    \n",
        "    # прогноз на обучающей выборке\n",
        "    y_train_hat = np.array(robjects.r['predict'](fit, \n",
        "        robjects.FloatVector(x_train)).rx2('y'))\n",
        "    # прогноз на тестовой выборке\n",
        "    y_test_hat = np.array(robjects.r['predict'](fit, \n",
        "        robjects.FloatVector(x_test)).rx2('y'))\n",
        "    \n",
        "    # считаем MSE\n",
        "    MSE_all_dfs.loc[i_df, 'MSE_train'] = sum((y_train - y_train_hat)**2) / len(y_train_hat)\n",
        "    MSE_all_dfs.loc[i_df, 'MSE_test'] = sum((y_test - y_test_hat)**2) / len(y_test_hat)"
      ],
      "metadata": {
        "id": "WEijW80Ulmce"
      },
      "id": "WEijW80Ulmce",
      "execution_count": 35,
      "outputs": []
    },
    {
      "cell_type": "code",
      "source": [
        "MSE_all_dfs[MSE_all_dfs['MSE_test'] == min(MSE_all_dfs['MSE_test'])]"
      ],
      "metadata": {
        "colab": {
          "base_uri": "https://localhost:8080/",
          "height": 80
        },
        "id": "bG0l4wmNlpFH",
        "outputId": "e87ec4b4-1705-43c7-9de9-6beafef843f4"
      },
      "id": "bG0l4wmNlpFH",
      "execution_count": 36,
      "outputs": [
        {
          "output_type": "execute_result",
          "data": {
            "text/plain": [
              "   MSE_train  MSE_test\n",
              "5    0.27407  1.549214"
            ],
            "text/html": [
              "\n",
              "  <div id=\"df-00ccfaa7-62c4-4d74-aabc-9525677b5bd0\">\n",
              "    <div class=\"colab-df-container\">\n",
              "      <div>\n",
              "<style scoped>\n",
              "    .dataframe tbody tr th:only-of-type {\n",
              "        vertical-align: middle;\n",
              "    }\n",
              "\n",
              "    .dataframe tbody tr th {\n",
              "        vertical-align: top;\n",
              "    }\n",
              "\n",
              "    .dataframe thead th {\n",
              "        text-align: right;\n",
              "    }\n",
              "</style>\n",
              "<table border=\"1\" class=\"dataframe\">\n",
              "  <thead>\n",
              "    <tr style=\"text-align: right;\">\n",
              "      <th></th>\n",
              "      <th>MSE_train</th>\n",
              "      <th>MSE_test</th>\n",
              "    </tr>\n",
              "  </thead>\n",
              "  <tbody>\n",
              "    <tr>\n",
              "      <th>5</th>\n",
              "      <td>0.27407</td>\n",
              "      <td>1.549214</td>\n",
              "    </tr>\n",
              "  </tbody>\n",
              "</table>\n",
              "</div>\n",
              "      <button class=\"colab-df-convert\" onclick=\"convertToInteractive('df-00ccfaa7-62c4-4d74-aabc-9525677b5bd0')\"\n",
              "              title=\"Convert this dataframe to an interactive table.\"\n",
              "              style=\"display:none;\">\n",
              "        \n",
              "  <svg xmlns=\"http://www.w3.org/2000/svg\" height=\"24px\"viewBox=\"0 0 24 24\"\n",
              "       width=\"24px\">\n",
              "    <path d=\"M0 0h24v24H0V0z\" fill=\"none\"/>\n",
              "    <path d=\"M18.56 5.44l.94 2.06.94-2.06 2.06-.94-2.06-.94-.94-2.06-.94 2.06-2.06.94zm-11 1L8.5 8.5l.94-2.06 2.06-.94-2.06-.94L8.5 2.5l-.94 2.06-2.06.94zm10 10l.94 2.06.94-2.06 2.06-.94-2.06-.94-.94-2.06-.94 2.06-2.06.94z\"/><path d=\"M17.41 7.96l-1.37-1.37c-.4-.4-.92-.59-1.43-.59-.52 0-1.04.2-1.43.59L10.3 9.45l-7.72 7.72c-.78.78-.78 2.05 0 2.83L4 21.41c.39.39.9.59 1.41.59.51 0 1.02-.2 1.41-.59l7.78-7.78 2.81-2.81c.8-.78.8-2.07 0-2.86zM5.41 20L4 18.59l7.72-7.72 1.47 1.35L5.41 20z\"/>\n",
              "  </svg>\n",
              "      </button>\n",
              "      \n",
              "  <style>\n",
              "    .colab-df-container {\n",
              "      display:flex;\n",
              "      flex-wrap:wrap;\n",
              "      gap: 12px;\n",
              "    }\n",
              "\n",
              "    .colab-df-convert {\n",
              "      background-color: #E8F0FE;\n",
              "      border: none;\n",
              "      border-radius: 50%;\n",
              "      cursor: pointer;\n",
              "      display: none;\n",
              "      fill: #1967D2;\n",
              "      height: 32px;\n",
              "      padding: 0 0 0 0;\n",
              "      width: 32px;\n",
              "    }\n",
              "\n",
              "    .colab-df-convert:hover {\n",
              "      background-color: #E2EBFA;\n",
              "      box-shadow: 0px 1px 2px rgba(60, 64, 67, 0.3), 0px 1px 3px 1px rgba(60, 64, 67, 0.15);\n",
              "      fill: #174EA6;\n",
              "    }\n",
              "\n",
              "    [theme=dark] .colab-df-convert {\n",
              "      background-color: #3B4455;\n",
              "      fill: #D2E3FC;\n",
              "    }\n",
              "\n",
              "    [theme=dark] .colab-df-convert:hover {\n",
              "      background-color: #434B5C;\n",
              "      box-shadow: 0px 1px 3px 1px rgba(0, 0, 0, 0.15);\n",
              "      filter: drop-shadow(0px 1px 2px rgba(0, 0, 0, 0.3));\n",
              "      fill: #FFFFFF;\n",
              "    }\n",
              "  </style>\n",
              "\n",
              "      <script>\n",
              "        const buttonEl =\n",
              "          document.querySelector('#df-00ccfaa7-62c4-4d74-aabc-9525677b5bd0 button.colab-df-convert');\n",
              "        buttonEl.style.display =\n",
              "          google.colab.kernel.accessAllowed ? 'block' : 'none';\n",
              "\n",
              "        async function convertToInteractive(key) {\n",
              "          const element = document.querySelector('#df-00ccfaa7-62c4-4d74-aabc-9525677b5bd0');\n",
              "          const dataTable =\n",
              "            await google.colab.kernel.invokeFunction('convertToInteractive',\n",
              "                                                     [key], {});\n",
              "          if (!dataTable) return;\n",
              "\n",
              "          const docLinkHtml = 'Like what you see? Visit the ' +\n",
              "            '<a target=\"_blank\" href=https://colab.research.google.com/notebooks/data_table.ipynb>data table notebook</a>'\n",
              "            + ' to learn more about interactive tables.';\n",
              "          element.innerHTML = '';\n",
              "          dataTable['output_type'] = 'display_data';\n",
              "          await google.colab.output.renderOutput(dataTable, element);\n",
              "          const docLink = document.createElement('div');\n",
              "          docLink.innerHTML = docLinkHtml;\n",
              "          element.appendChild(docLink);\n",
              "        }\n",
              "      </script>\n",
              "    </div>\n",
              "  </div>\n",
              "  "
            ]
          },
          "metadata": {},
          "execution_count": 36
        }
      ]
    },
    {
      "cell_type": "code",
      "source": [
        "# график изменения MSE с увеличением df\n",
        "plt.plot(MSE_all_dfs.index, MSE_all_dfs['MSE_train'], color='dimgrey', \n",
        "         marker='', label='обучение')\n",
        "plt.plot(MSE_all_dfs.index, MSE_all_dfs['MSE_test'], color='red', \n",
        "         marker='', label='тест')\n",
        "plt.plot([2, 2], [MSE_all_dfs.iloc[0]['MSE_train'], MSE_all_dfs.iloc[0]['MSE_test']],\n",
        "         ls='', marker='s', label='df=2')\n",
        "plt.plot([6, 6], [MSE_all_dfs.iloc[4]['MSE_train'], MSE_all_dfs.iloc[4]['MSE_test']],\n",
        "         ls='', marker='s', label='df=6')\n",
        "plt.plot([38, 38], [MSE_all_dfs.iloc[36]['MSE_train'], MSE_all_dfs.iloc[36]['MSE_test']],\n",
        "         ls='', marker='s', label='df=38')\n",
        "plt.hlines(1, 0, 40, linestyles='dashed', color='grey', label='Var(e)=1')\n",
        "#  подписи осей\n",
        "plt.xlabel('степени свободы (df)')\n",
        "plt.ylabel('MSE')\n",
        "# легенда\n",
        "plt.legend(loc='best')"
      ],
      "metadata": {
        "colab": {
          "base_uri": "https://localhost:8080/",
          "height": 297
        },
        "id": "NhE5G_e9mwbb",
        "outputId": "52cc3dcd-ae73-46bb-f561-2d5fd4055569"
      },
      "id": "NhE5G_e9mwbb",
      "execution_count": 37,
      "outputs": [
        {
          "output_type": "execute_result",
          "data": {
            "text/plain": [
              "<matplotlib.legend.Legend at 0x7f057c74b910>"
            ]
          },
          "metadata": {},
          "execution_count": 37
        },
        {
          "output_type": "display_data",
          "data": {
            "text/plain": [
              "<Figure size 432x288 with 1 Axes>"
            ],
            "image/png": "[encoded data removed]"
          },
          "metadata": {
            "needs_background": "light"
          }
        }
      ]
    },
    {
      "cell_type": "markdown",
      "source": [
        "ДЛЯ train_percent = 0.2"
      ],
      "metadata": {
        "id": "9d6PoK85m8iE"
      },
      "id": "9d6PoK85m8iE"
    },
    {
      "cell_type": "code",
      "source": [
        "# также задаем псевдорандонмные исходные данные\n",
        "# задаём ядро генератора случайных чисел (внимание: не глобально)\n",
        "np.random.seed(10111)\n",
        "\n",
        "# всего наблюдений, доля обучающей выборки\n",
        "n_all, train_percent = 60, 0.2\n",
        "\n",
        "# параметры распределения X\n",
        "x_min, x_max = 5, 105\n",
        "\n",
        "# генерируем X\n",
        "x = np.random.uniform(x_min, x_max, n_all)\n",
        "\n",
        "# генерируем случайный шум\n",
        "mu, sigma = 0, 1\n",
        "res = np.random.normal(mu, sigma, n_all)\n",
        "\n",
        "# отбираем наблюдения в обучающую выборку\n",
        "in_train = np.random.choice(np.arange(n_all), int(n_all * train_percent), \n",
        "                            replace=False)\n",
        "\n",
        "# истинная функция взаимосвязи\n",
        "def y_func (x) :\n",
        "    return(25 + 0.02*x - 0.003*(x - 45)**2 + 0.00006*(x - 54)**3)\n",
        "    \n",
        "# для графика истинной взаимосвязи\n",
        "x_line = np.linspace(x_min, x_max, n_all)\n",
        "y_line = y_func(x_line)\n",
        "\n",
        "# фактические значения y (с шумом)\n",
        "y = y_func(x) + res\n",
        "\n",
        "# создаём векторы с данными для построения графиков\n",
        "# наблюдения на обучающей выборке\n",
        "x_train = x[in_train]\n",
        "y_train = y[in_train]\n",
        "\n",
        "# наблюдения на тестовой выборке\n",
        "x_test = np.delete(x, in_train)\n",
        "y_test = np.delete(y, in_train)"
      ],
      "metadata": {
        "id": "QJEpZmq2nHfO"
      },
      "id": "QJEpZmq2nHfO",
      "execution_count": 42,
      "outputs": []
    },
    {
      "cell_type": "code",
      "source": [
        "#  обучающая выборка\n",
        "plt.scatter(x_train, y_train, color='black', label='обучение', alpha=0.6)\n",
        "#  тестовая выборка\n",
        "plt.scatter(x_test, y_test, color='red', label='тест', alpha=0.6)\n",
        "#  истинная функция взаимосвязи\n",
        "plt.plot(x_line, y_line, color='black', linestyle='dashed', label='f(X)')\n",
        "#  подписи осей\n",
        "plt.xlabel('X')\n",
        "plt.ylabel('Y')\n",
        "\n",
        "#  легенда\n",
        "plt.legend()\n",
        "plt.show()"
      ],
      "metadata": {
        "colab": {
          "base_uri": "https://localhost:8080/",
          "height": 279
        },
        "id": "ePbXldtJnKo2",
        "outputId": "aba9431a-83b7-4f3c-a59c-1b11a26afe7f"
      },
      "id": "ePbXldtJnKo2",
      "execution_count": 43,
      "outputs": [
        {
          "output_type": "display_data",
          "data": {
            "text/plain": [
              "<Figure size 432x288 with 1 Axes>"
            ],
            "image/png": "[encoded data removed]"
          },
          "metadata": {
            "needs_background": "light"
          }
        }
      ]
    },
    {
      "cell_type": "markdown",
      "source": [
        "Точно также, как и в предыдущих пунктах, определяем наилучший выбор числа степеней свободы:"
      ],
      "metadata": {
        "id": "9Ch62R7InPMd"
      },
      "id": "9Ch62R7InPMd"
    },
    {
      "cell_type": "code",
      "source": [
        "# максимальное число степеней свободы для модели сплайна\n",
        "max_df = 40\n",
        "\n",
        "# фрейм данных для сохранения MSE на обучающей и на тестовой \n",
        "#  при разных степенях свободы\n",
        "MSE_all_dfs = [[0] * 2 for i in range(2, max_df+1)]\n",
        "MSE_all_dfs = DataFrame(MSE_all_dfs, columns=['MSE_train', 'MSE_test'],\n",
        "                       index=list(range(2, max_df+1)))\n",
        "\n",
        "# заполняем фрейм\n",
        "for i_df in range(2, max_df+1) :\n",
        "    \n",
        "    # обучаем модель\n",
        "    fit = r_smooth_spline(x=r_x, y=r_y, df=i_df)\n",
        "    \n",
        "    # прогноз на обучающей выборке\n",
        "    y_train_hat = np.array(robjects.r['predict'](fit, \n",
        "        robjects.FloatVector(x_train)).rx2('y'))\n",
        "    # прогноз на тестовой выборке\n",
        "    y_test_hat = np.array(robjects.r['predict'](fit, \n",
        "        robjects.FloatVector(x_test)).rx2('y'))\n",
        "    \n",
        "    # считаем MSE\n",
        "    MSE_all_dfs.loc[i_df, 'MSE_train'] = sum((y_train - y_train_hat)**2) / len(y_train_hat)\n",
        "    MSE_all_dfs.loc[i_df, 'MSE_test'] = sum((y_test - y_test_hat)**2) / len(y_test_hat)"
      ],
      "metadata": {
        "id": "ZF_DYb3KnS-3"
      },
      "id": "ZF_DYb3KnS-3",
      "execution_count": 44,
      "outputs": []
    },
    {
      "cell_type": "code",
      "source": [
        "MSE_all_dfs[MSE_all_dfs['MSE_test'] == min(MSE_all_dfs['MSE_test'])]"
      ],
      "metadata": {
        "colab": {
          "base_uri": "https://localhost:8080/",
          "height": 80
        },
        "id": "tBIMyiCSnV6O",
        "outputId": "08668ce8-ee70-4d85-e27a-70c35e622582"
      },
      "id": "tBIMyiCSnV6O",
      "execution_count": 45,
      "outputs": [
        {
          "output_type": "execute_result",
          "data": {
            "text/plain": [
              "   MSE_train  MSE_test\n",
              "5   0.256384  1.473939"
            ],
            "text/html": [
              "\n",
              "  <div id=\"df-94fa3330-7bee-468f-9792-3a03e3631d95\">\n",
              "    <div class=\"colab-df-container\">\n",
              "      <div>\n",
              "<style scoped>\n",
              "    .dataframe tbody tr th:only-of-type {\n",
              "        vertical-align: middle;\n",
              "    }\n",
              "\n",
              "    .dataframe tbody tr th {\n",
              "        vertical-align: top;\n",
              "    }\n",
              "\n",
              "    .dataframe thead th {\n",
              "        text-align: right;\n",
              "    }\n",
              "</style>\n",
              "<table border=\"1\" class=\"dataframe\">\n",
              "  <thead>\n",
              "    <tr style=\"text-align: right;\">\n",
              "      <th></th>\n",
              "      <th>MSE_train</th>\n",
              "      <th>MSE_test</th>\n",
              "    </tr>\n",
              "  </thead>\n",
              "  <tbody>\n",
              "    <tr>\n",
              "      <th>5</th>\n",
              "      <td>0.256384</td>\n",
              "      <td>1.473939</td>\n",
              "    </tr>\n",
              "  </tbody>\n",
              "</table>\n",
              "</div>\n",
              "      <button class=\"colab-df-convert\" onclick=\"convertToInteractive('df-94fa3330-7bee-468f-9792-3a03e3631d95')\"\n",
              "              title=\"Convert this dataframe to an interactive table.\"\n",
              "              style=\"display:none;\">\n",
              "        \n",
              "  <svg xmlns=\"http://www.w3.org/2000/svg\" height=\"24px\"viewBox=\"0 0 24 24\"\n",
              "       width=\"24px\">\n",
              "    <path d=\"M0 0h24v24H0V0z\" fill=\"none\"/>\n",
              "    <path d=\"M18.56 5.44l.94 2.06.94-2.06 2.06-.94-2.06-.94-.94-2.06-.94 2.06-2.06.94zm-11 1L8.5 8.5l.94-2.06 2.06-.94-2.06-.94L8.5 2.5l-.94 2.06-2.06.94zm10 10l.94 2.06.94-2.06 2.06-.94-2.06-.94-.94-2.06-.94 2.06-2.06.94z\"/><path d=\"M17.41 7.96l-1.37-1.37c-.4-.4-.92-.59-1.43-.59-.52 0-1.04.2-1.43.59L10.3 9.45l-7.72 7.72c-.78.78-.78 2.05 0 2.83L4 21.41c.39.39.9.59 1.41.59.51 0 1.02-.2 1.41-.59l7.78-7.78 2.81-2.81c.8-.78.8-2.07 0-2.86zM5.41 20L4 18.59l7.72-7.72 1.47 1.35L5.41 20z\"/>\n",
              "  </svg>\n",
              "      </button>\n",
              "      \n",
              "  <style>\n",
              "    .colab-df-container {\n",
              "      display:flex;\n",
              "      flex-wrap:wrap;\n",
              "      gap: 12px;\n",
              "    }\n",
              "\n",
              "    .colab-df-convert {\n",
              "      background-color: #E8F0FE;\n",
              "      border: none;\n",
              "      border-radius: 50%;\n",
              "      cursor: pointer;\n",
              "      display: none;\n",
              "      fill: #1967D2;\n",
              "      height: 32px;\n",
              "      padding: 0 0 0 0;\n",
              "      width: 32px;\n",
              "    }\n",
              "\n",
              "    .colab-df-convert:hover {\n",
              "      background-color: #E2EBFA;\n",
              "      box-shadow: 0px 1px 2px rgba(60, 64, 67, 0.3), 0px 1px 3px 1px rgba(60, 64, 67, 0.15);\n",
              "      fill: #174EA6;\n",
              "    }\n",
              "\n",
              "    [theme=dark] .colab-df-convert {\n",
              "      background-color: #3B4455;\n",
              "      fill: #D2E3FC;\n",
              "    }\n",
              "\n",
              "    [theme=dark] .colab-df-convert:hover {\n",
              "      background-color: #434B5C;\n",
              "      box-shadow: 0px 1px 3px 1px rgba(0, 0, 0, 0.15);\n",
              "      filter: drop-shadow(0px 1px 2px rgba(0, 0, 0, 0.3));\n",
              "      fill: #FFFFFF;\n",
              "    }\n",
              "  </style>\n",
              "\n",
              "      <script>\n",
              "        const buttonEl =\n",
              "          document.querySelector('#df-94fa3330-7bee-468f-9792-3a03e3631d95 button.colab-df-convert');\n",
              "        buttonEl.style.display =\n",
              "          google.colab.kernel.accessAllowed ? 'block' : 'none';\n",
              "\n",
              "        async function convertToInteractive(key) {\n",
              "          const element = document.querySelector('#df-94fa3330-7bee-468f-9792-3a03e3631d95');\n",
              "          const dataTable =\n",
              "            await google.colab.kernel.invokeFunction('convertToInteractive',\n",
              "                                                     [key], {});\n",
              "          if (!dataTable) return;\n",
              "\n",
              "          const docLinkHtml = 'Like what you see? Visit the ' +\n",
              "            '<a target=\"_blank\" href=https://colab.research.google.com/notebooks/data_table.ipynb>data table notebook</a>'\n",
              "            + ' to learn more about interactive tables.';\n",
              "          element.innerHTML = '';\n",
              "          dataTable['output_type'] = 'display_data';\n",
              "          await google.colab.output.renderOutput(dataTable, element);\n",
              "          const docLink = document.createElement('div');\n",
              "          docLink.innerHTML = docLinkHtml;\n",
              "          element.appendChild(docLink);\n",
              "        }\n",
              "      </script>\n",
              "    </div>\n",
              "  </div>\n",
              "  "
            ]
          },
          "metadata": {},
          "execution_count": 45
        }
      ]
    },
    {
      "cell_type": "code",
      "source": [
        "# график изменения MSE с увеличением df\n",
        "plt.plot(MSE_all_dfs.index, MSE_all_dfs['MSE_train'], color='dimgrey', \n",
        "         marker='', label='обучение')\n",
        "plt.plot(MSE_all_dfs.index, MSE_all_dfs['MSE_test'], color='red', \n",
        "         marker='', label='тест')\n",
        "plt.plot([2, 2], [MSE_all_dfs.iloc[0]['MSE_train'], MSE_all_dfs.iloc[0]['MSE_test']],\n",
        "         ls='', marker='s', label='df=2')\n",
        "plt.plot([6, 6], [MSE_all_dfs.iloc[4]['MSE_train'], MSE_all_dfs.iloc[4]['MSE_test']],\n",
        "         ls='', marker='s', label='df=6')\n",
        "plt.plot([38, 38], [MSE_all_dfs.iloc[36]['MSE_train'], MSE_all_dfs.iloc[36]['MSE_test']],\n",
        "         ls='', marker='s', label='df=38')\n",
        "plt.hlines(1, 0, 40, linestyles='dashed', color='grey', label='Var(e)=1')\n",
        "#  подписи осей\n",
        "plt.xlabel('степени свободы (df)')\n",
        "plt.ylabel('MSE')\n",
        "# легенда\n",
        "plt.legend(loc='best')"
      ],
      "metadata": {
        "colab": {
          "base_uri": "https://localhost:8080/",
          "height": 297
        },
        "id": "iNqm2zSUnff5",
        "outputId": "826fadb1-826d-4fab-9866-64ead9bf976f"
      },
      "id": "iNqm2zSUnff5",
      "execution_count": 46,
      "outputs": [
        {
          "output_type": "execute_result",
          "data": {
            "text/plain": [
              "<matplotlib.legend.Legend at 0x7f057c51a210>"
            ]
          },
          "metadata": {},
          "execution_count": 46
        },
        {
          "output_type": "display_data",
          "data": {
            "text/plain": [
              "<Figure size 432x288 with 1 Axes>"
            ],
            "image/png": "[encoded data removed]"
          },
          "metadata": {
            "needs_background": "light"
          }
        }
      ]
    },
    {
      "cell_type": "markdown",
      "source": [
        "Для train_percent = 0.3 и df = 5 (тк достигается наименьший показатель MSE):\n",
        "Ошибки на обучающей и тестовой выборках:\n",
        "* MSE Train = 0.31316\n",
        "* MSE Test = 1.623543\n",
        "\n",
        "\n",
        "Для train_percent = 0.25 и df = 5 (тк достигается наименьший показатель MSE):\n",
        "Ошибки на обучающей и тестовой выборках:\n",
        "* MSE Train = 0.27407\t\n",
        "* MSE Test = 1.549214  \n",
        "\n",
        "Для train_percent = 0.2 и df = 5 (тк достигается наименьший показатель MSE):\n",
        "Ошибки на обучающей и тестовой выборках:\n",
        "* MSE Train = 0.256384\t\n",
        "* MSE Test = 1.473939"
      ],
      "metadata": {
        "id": "K8Ihznmln4aS"
      },
      "id": "K8Ihznmln4aS"
    },
    {
      "cell_type": "markdown",
      "source": [
        "Выводы:\n",
        "* При увеличении значения train_percent, уменьшаются ошибки как на тренировочной выборке, так и на тестовой.\n",
        "* С ростом числа степеней свободы, ошибки на тестовых выборках моделей увеличиваются, происходит переобучение.\n",
        "* Если выбирать из этих трех моделей, то лучшая при train_percent = 0.2, т.к. в ней ошибка на тестовой выборке минимальна."
      ],
      "metadata": {
        "id": "_giCkma7oNz8"
      },
      "id": "_giCkma7oNz8"
    }
  ],
  "metadata": {
    "kernelspec": {
      "display_name": "Python 3",
      "language": "python",
      "name": "python3"
    },
    "language_info": {
      "codemirror_mode": {
        "name": "ipython",
        "version": 3
      },
      "file_extension": ".py",
      "mimetype": "text/x-python",
      "name": "python",
      "nbconvert_exporter": "python",
      "pygments_lexer": "ipython3",
      "version": "3.5.6"
    },
    "colab": {
      "provenance": [],
      "include_colab_link": true
    }
  },
  "nbformat": 4,
  "nbformat_minor": 5
}