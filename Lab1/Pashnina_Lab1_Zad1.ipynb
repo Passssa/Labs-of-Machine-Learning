{
  "nbformat": 4,
  "nbformat_minor": 0,
  "metadata": {
    "colab": {
      "provenance": [],
      "authorship_tag": "ABX9TyMb7bccZkXLbkGrvlgTEOQL",
      "include_colab_link": true
    },
    "kernelspec": {
      "name": "python3",
      "display_name": "Python 3"
    },
    "language_info": {
      "name": "python"
    }
  },
  "cells": [
    {
      "cell_type": "markdown",
      "metadata": {
        "id": "view-in-github",
        "colab_type": "text"
      },
      "source": [
        "<a href=\"https://colab.research.google.com/github/Passssa/Labs-of-Machine-Learning/blob/main/Pashnina_Lab1_Zad1.ipynb\" target=\"_parent\"><img src=\"https://colab.research.google.com/assets/colab-badge.svg\" alt=\"Open In Colab\"/></a>"
      ]
    },
    {
      "cell_type": "code",
      "execution_count": null,
      "metadata": {
        "id": "9sDUAiiRwSDi"
      },
      "outputs": [],
      "source": [
        "%matplotlib inline\n",
        "import numpy as np\n",
        "import random"
      ]
    },
    {
      "cell_type": "code",
      "source": [
        "# задаём ядро генератора случайных чисел (внимание: не глобально)\n",
        "np.random.seed(10111)\n",
        "\n",
        "# всего наблюдений, доля обучающей выборки\n",
        "n_all, train_percent = 60, 0.85\n",
        "\n",
        "# параметры распределения X\n",
        "x_min, x_max = 5, 105\n",
        "\n",
        "# генерируем X\n",
        "x = np.random.uniform(x_min, x_max, n_all)\n",
        "\n",
        "# генерируем случайный шум\n",
        "mu, sigma = 0, 1\n",
        "res = np.random.normal(mu, sigma, n_all)\n",
        "\n",
        "# отбираем наблюдения в обучающую выборку\n",
        "in_train = np.random.choice(np.arange(n_all), int(n_all * train_percent), \n",
        "                            replace=False)\n",
        "\n",
        "# истинная функция взаимосвязи\n",
        "def y_func (x) :\n",
        "    return(25 + 0.02*x - 0.003*(x - 45)**2 + 0.00006*(x - 54)**3)\n",
        "    \n",
        "# для графика истинной взаимосвязи\n",
        "x_line = np.linspace(x_min, x_max, n_all)\n",
        "y_line = y_func(x_line)\n",
        "\n",
        "# фактические значения y (с шумом)\n",
        "y = y_func(x) + res\n",
        "\n",
        "# создаём векторы с данными для построения графиков\n",
        "# наблюдения на обучающей выборке\n",
        "x_train = x[in_train]\n",
        "y_train = y[in_train]\n",
        "\n",
        "# наблюдения на тестовой выборке\n",
        "x_test = np.delete(x, in_train)\n",
        "y_test = np.delete(y, in_train)"
      ],
      "metadata": {
        "id": "hCqYlv-RMPzK"
      },
      "execution_count": null,
      "outputs": []
    },
    {
      "cell_type": "code",
      "source": [
        "# загрузка пакетов\n",
        "import matplotlib.pyplot as plt"
      ],
      "metadata": {
        "id": "eH4--S7wNcnB"
      },
      "execution_count": null,
      "outputs": []
    },
    {
      "cell_type": "code",
      "source": [
        "# график 1: исходные данные\n",
        "#  обучающая выборка\n",
        "plt.scatter(x_train, y_train, color='black', label='обучение', alpha=0.6)\n",
        "#  тестовая выборка\n",
        "plt.scatter(x_test, y_test, color='red', label='тест', alpha=0.6)\n",
        "#  истинная функция взаимосвязи\n",
        "plt.plot(x_line, y_line, color='black', linestyle='dashed', label='f(X)')\n",
        "#  подписи осей\n",
        "plt.xlabel('X')\n",
        "plt.ylabel('Y')\n",
        "\n",
        "#  легенда\n",
        "plt.legend()\n",
        "plt.show()"
      ],
      "metadata": {
        "colab": {
          "base_uri": "https://localhost:8080/",
          "height": 279
        },
        "id": "M46TDqz8Ng2v",
        "outputId": "dadbf43a-3d73-49a8-ab6b-2e6af7c416e3"
      },
      "execution_count": null,
      "outputs": [
        {
          "output_type": "display_data",
          "data": {
            "text/plain": [
              "<Figure size 432x288 with 1 Axes>"
            ],
            "image/png": "[encoded data removed]"
          },
          "metadata": {
            "needs_background": "light"
          }
        }
      ]
    },
    {
      "cell_type": "code",
      "source": [
        "# загрузка пакетов\n",
        "from pandas import DataFrame\n",
        "import rpy2.robjects as robjects"
      ],
      "metadata": {
        "id": "kRvuobnONwMm"
      },
      "execution_count": null,
      "outputs": []
    },
    {
      "cell_type": "code",
      "source": [
        "# модель натурального сплайна с заданным количеством узлов (df)\n",
        "my_df = 38\n",
        "\n",
        "# сохраняем индексы отсортированного по возрастанию x из обучающей выборки\n",
        "x_sorted_index = sorted(range(len(x_train)), key=lambda k: x_train[k])\n",
        "\n",
        "# равноотстоящие координаты по X для прорисовки сглаженной кривой\n",
        "x_train_lin = np.linspace(min(x_train), max(x_train), num=300, endpoint=True)\n",
        "\n",
        "# создаём из данных объекты, понятные R\n",
        "r_x = robjects.FloatVector(x_train)\n",
        "r_y = robjects.FloatVector(y_train)\n",
        "\n",
        "# импортируем нужную функцию из R\n",
        "r_smooth_spline = robjects.r['smooth.spline']\n",
        "\n",
        "# строим сглаживающий сплайн\n",
        "fit = r_smooth_spline(x=r_x, y=r_y, df=my_df)\n",
        "\n",
        "# делаем прогнозы\n",
        "y_hat_train = np.array(robjects.r['predict'](fit, \n",
        "    robjects.FloatVector(x_train)).rx2('y'))\n",
        "y_hat_test = np.array(robjects.r['predict'](fit, \n",
        "    robjects.FloatVector(x_test)).rx2('y'))\n",
        "y_lin_plot = np.array(robjects.r['predict'](fit, \n",
        "    robjects.FloatVector(x_train_lin)).rx2('y'))\n",
        "\n",
        "# строим график\n",
        "plt.plot(x_train, y_train, color='black', ls='', marker='.', label='обучение')\n",
        "plt.plot(x_line, y_line, color='black', ls='dashed', marker='', label='f(X)')\n",
        "plt.plot(x_train_lin, y_lin_plot, marker='', label='сплайн с df = %s' % my_df)\n",
        "plt.plot(x_test, y_test, color='red', ls='', marker='.', label='тест факт')\n",
        "plt.plot(x_test, y_hat_test, color='red', ls='', marker='+', label='тест прогноз')\n",
        "#  подписи осей\n",
        "plt.xlabel('X')\n",
        "plt.ylabel('Y')\n",
        "# легенда\n",
        "plt.legend(loc='best')\n",
        "\n",
        "# считаем MSE\n",
        "MSE_fit = [sum((y_train - y_hat_train)**2) / len(y_train),\n",
        "          sum((y_test - y_hat_test)**2) / len(y_test)]"
      ],
      "metadata": {
        "colab": {
          "base_uri": "https://localhost:8080/",
          "height": 279
        },
        "id": "y74b1kICNz8-",
        "outputId": "b1bd3147-9818-4a64-a5b7-5c8470106b6a"
      },
      "execution_count": null,
      "outputs": [
        {
          "output_type": "display_data",
          "data": {
            "text/plain": [
              "<Figure size 432x288 with 1 Axes>"
            ],
            "image/png": "[encoded data removed]"
          },
          "metadata": {
            "needs_background": "light"
          }
        }
      ]
    },
    {
      "cell_type": "code",
      "source": [
        "# выводим MSE с округлением\n",
        "np.around(MSE_fit, 2)"
      ],
      "metadata": {
        "colab": {
          "base_uri": "https://localhost:8080/"
        },
        "id": "M2TQqc54N4Ae",
        "outputId": "7d639690-39b6-46ce-c1e0-4d9000b2a92b"
      },
      "execution_count": null,
      "outputs": [
        {
          "output_type": "execute_result",
          "data": {
            "text/plain": [
              "array([0.11, 3.32])"
            ]
          },
          "metadata": {},
          "execution_count": 10
        }
      ]
    },
    {
      "cell_type": "code",
      "source": [
        "#  Теперь строим модели с df от 2 до 40 ########################################\n",
        "\n",
        "# максимальное число степеней свободы для модели сплайна\n",
        "max_df = 40\n",
        "\n",
        "# фрейм данных для сохранения MSE на обучающей и на тестовой \n",
        "#  при разных степенях свободы\n",
        "MSE_all_dfs = [[0] * 2 for i in range(2, max_df+1)]\n",
        "MSE_all_dfs = DataFrame(MSE_all_dfs, columns=['MSE_train', 'MSE_test'],\n",
        "                       index=list(range(2, max_df+1)))\n",
        "\n",
        "# заполняем фрейм\n",
        "for i_df in range(2, max_df+1) :\n",
        "    \n",
        "    # обучаем модель\n",
        "    fit = r_smooth_spline(x=r_x, y=r_y, df=i_df)\n",
        "    \n",
        "    # прогноз на обучающей выборке\n",
        "    y_train_hat = np.array(robjects.r['predict'](fit, \n",
        "        robjects.FloatVector(x_train)).rx2('y'))\n",
        "    # прогноз на тестовой выборке\n",
        "    y_test_hat = np.array(robjects.r['predict'](fit, \n",
        "        robjects.FloatVector(x_test)).rx2('y'))\n",
        "    \n",
        "    # считаем MSE\n",
        "    MSE_all_dfs.loc[i_df, 'MSE_train'] = sum((y_train - y_train_hat)**2) / len(y_train_hat)\n",
        "    MSE_all_dfs.loc[i_df, 'MSE_test'] = sum((y_test - y_test_hat)**2) / len(y_test_hat)"
      ],
      "metadata": {
        "id": "kw0IqPNhN63O"
      },
      "execution_count": null,
      "outputs": []
    },
    {
      "cell_type": "code",
      "source": [
        "# фильтруем таблицу по минимальной MSE на тестовой выборке\n",
        "MSE_all_dfs[MSE_all_dfs['MSE_test'] == min(MSE_all_dfs['MSE_test'])]"
      ],
      "metadata": {
        "colab": {
          "base_uri": "https://localhost:8080/",
          "height": 80
        },
        "id": "L0K21eQ2N65n",
        "outputId": "abefdbba-4830-4d33-daa4-3466f3777f85"
      },
      "execution_count": null,
      "outputs": [
        {
          "output_type": "execute_result",
          "data": {
            "text/plain": [
              "   MSE_train  MSE_test\n",
              "4    1.17842  1.332491"
            ],
            "text/html": [
              "\n",
              "  <div id=\"df-323c33d5-9182-466b-a8f5-cffe7230aab9\">\n",
              "    <div class=\"colab-df-container\">\n",
              "      <div>\n",
              "<style scoped>\n",
              "    .dataframe tbody tr th:only-of-type {\n",
              "        vertical-align: middle;\n",
              "    }\n",
              "\n",
              "    .dataframe tbody tr th {\n",
              "        vertical-align: top;\n",
              "    }\n",
              "\n",
              "    .dataframe thead th {\n",
              "        text-align: right;\n",
              "    }\n",
              "</style>\n",
              "<table border=\"1\" class=\"dataframe\">\n",
              "  <thead>\n",
              "    <tr style=\"text-align: right;\">\n",
              "      <th></th>\n",
              "      <th>MSE_train</th>\n",
              "      <th>MSE_test</th>\n",
              "    </tr>\n",
              "  </thead>\n",
              "  <tbody>\n",
              "    <tr>\n",
              "      <th>4</th>\n",
              "      <td>1.17842</td>\n",
              "      <td>1.332491</td>\n",
              "    </tr>\n",
              "  </tbody>\n",
              "</table>\n",
              "</div>\n",
              "      <button class=\"colab-df-convert\" onclick=\"convertToInteractive('df-323c33d5-9182-466b-a8f5-cffe7230aab9')\"\n",
              "              title=\"Convert this dataframe to an interactive table.\"\n",
              "              style=\"display:none;\">\n",
              "        \n",
              "  <svg xmlns=\"http://www.w3.org/2000/svg\" height=\"24px\"viewBox=\"0 0 24 24\"\n",
              "       width=\"24px\">\n",
              "    <path d=\"M0 0h24v24H0V0z\" fill=\"none\"/>\n",
              "    <path d=\"M18.56 5.44l.94 2.06.94-2.06 2.06-.94-2.06-.94-.94-2.06-.94 2.06-2.06.94zm-11 1L8.5 8.5l.94-2.06 2.06-.94-2.06-.94L8.5 2.5l-.94 2.06-2.06.94zm10 10l.94 2.06.94-2.06 2.06-.94-2.06-.94-.94-2.06-.94 2.06-2.06.94z\"/><path d=\"M17.41 7.96l-1.37-1.37c-.4-.4-.92-.59-1.43-.59-.52 0-1.04.2-1.43.59L10.3 9.45l-7.72 7.72c-.78.78-.78 2.05 0 2.83L4 21.41c.39.39.9.59 1.41.59.51 0 1.02-.2 1.41-.59l7.78-7.78 2.81-2.81c.8-.78.8-2.07 0-2.86zM5.41 20L4 18.59l7.72-7.72 1.47 1.35L5.41 20z\"/>\n",
              "  </svg>\n",
              "      </button>\n",
              "      \n",
              "  <style>\n",
              "    .colab-df-container {\n",
              "      display:flex;\n",
              "      flex-wrap:wrap;\n",
              "      gap: 12px;\n",
              "    }\n",
              "\n",
              "    .colab-df-convert {\n",
              "      background-color: #E8F0FE;\n",
              "      border: none;\n",
              "      border-radius: 50%;\n",
              "      cursor: pointer;\n",
              "      display: none;\n",
              "      fill: #1967D2;\n",
              "      height: 32px;\n",
              "      padding: 0 0 0 0;\n",
              "      width: 32px;\n",
              "    }\n",
              "\n",
              "    .colab-df-convert:hover {\n",
              "      background-color: #E2EBFA;\n",
              "      box-shadow: 0px 1px 2px rgba(60, 64, 67, 0.3), 0px 1px 3px 1px rgba(60, 64, 67, 0.15);\n",
              "      fill: #174EA6;\n",
              "    }\n",
              "\n",
              "    [theme=dark] .colab-df-convert {\n",
              "      background-color: #3B4455;\n",
              "      fill: #D2E3FC;\n",
              "    }\n",
              "\n",
              "    [theme=dark] .colab-df-convert:hover {\n",
              "      background-color: #434B5C;\n",
              "      box-shadow: 0px 1px 3px 1px rgba(0, 0, 0, 0.15);\n",
              "      filter: drop-shadow(0px 1px 2px rgba(0, 0, 0, 0.3));\n",
              "      fill: #FFFFFF;\n",
              "    }\n",
              "  </style>\n",
              "\n",
              "      <script>\n",
              "        const buttonEl =\n",
              "          document.querySelector('#df-323c33d5-9182-466b-a8f5-cffe7230aab9 button.colab-df-convert');\n",
              "        buttonEl.style.display =\n",
              "          google.colab.kernel.accessAllowed ? 'block' : 'none';\n",
              "\n",
              "        async function convertToInteractive(key) {\n",
              "          const element = document.querySelector('#df-323c33d5-9182-466b-a8f5-cffe7230aab9');\n",
              "          const dataTable =\n",
              "            await google.colab.kernel.invokeFunction('convertToInteractive',\n",
              "                                                     [key], {});\n",
              "          if (!dataTable) return;\n",
              "\n",
              "          const docLinkHtml = 'Like what you see? Visit the ' +\n",
              "            '<a target=\"_blank\" href=https://colab.research.google.com/notebooks/data_table.ipynb>data table notebook</a>'\n",
              "            + ' to learn more about interactive tables.';\n",
              "          element.innerHTML = '';\n",
              "          dataTable['output_type'] = 'display_data';\n",
              "          await google.colab.output.renderOutput(dataTable, element);\n",
              "          const docLink = document.createElement('div');\n",
              "          docLink.innerHTML = docLinkHtml;\n",
              "          element.appendChild(docLink);\n",
              "        }\n",
              "      </script>\n",
              "    </div>\n",
              "  </div>\n",
              "  "
            ]
          },
          "metadata": {},
          "execution_count": 12
        }
      ]
    },
    {
      "cell_type": "code",
      "source": [
        "# график изменения MSE с увеличением df\n",
        "plt.plot(MSE_all_dfs.index, MSE_all_dfs['MSE_train'], color='dimgrey', \n",
        "         marker='', label='обучение')\n",
        "plt.plot(MSE_all_dfs.index, MSE_all_dfs['MSE_test'], color='red', \n",
        "         marker='', label='тест')\n",
        "plt.plot([2, 2], [MSE_all_dfs.iloc[0]['MSE_train'], MSE_all_dfs.iloc[0]['MSE_test']],\n",
        "         ls='', marker='s', label='df=2')\n",
        "plt.plot([6, 6], [MSE_all_dfs.iloc[4]['MSE_train'], MSE_all_dfs.iloc[4]['MSE_test']],\n",
        "         ls='', marker='s', label='df=6')\n",
        "plt.plot([38, 38], [MSE_all_dfs.iloc[36]['MSE_train'], MSE_all_dfs.iloc[36]['MSE_test']],\n",
        "         ls='', marker='s', label='df=38')\n",
        "plt.hlines(1, 0, 40, linestyles='dashed', color='grey', label='Var(e)=1')\n",
        "#  подписи осей\n",
        "plt.xlabel('степени свободы (df)')\n",
        "plt.ylabel('MSE')\n",
        "# легенда\n",
        "plt.legend(loc='best')"
      ],
      "metadata": {
        "colab": {
          "base_uri": "https://localhost:8080/",
          "height": 297
        },
        "id": "rh1yPvHdN68i",
        "outputId": "506ce4b5-bba3-4154-edb8-93d64c7a0137"
      },
      "execution_count": null,
      "outputs": [
        {
          "output_type": "execute_result",
          "data": {
            "text/plain": [
              "<matplotlib.legend.Legend at 0x7fc96b3418d0>"
            ]
          },
          "metadata": {},
          "execution_count": 13
        },
        {
          "output_type": "display_data",
          "data": {
            "text/plain": [
              "<Figure size 432x288 with 1 Axes>"
            ],
            "image/png": "[encoded data removed]"
          },
          "metadata": {
            "needs_background": "light"
          }
        }
      ]
    },
    {
      "cell_type": "markdown",
      "source": [
        "Вывод к 1 задаче:\n",
        "\n",
        "Наилучшее число степеней свободы для данной модели - 2, поскольку при нем достигается минимальная ошибка на тестовой выборке."
      ],
      "metadata": {
        "id": "9b7D9R_NPDTU"
      }
    }
  ]
}