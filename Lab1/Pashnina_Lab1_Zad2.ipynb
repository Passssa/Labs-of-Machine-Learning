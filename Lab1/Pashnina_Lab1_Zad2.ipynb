{
  "nbformat": 4,
  "nbformat_minor": 0,
  "metadata": {
    "colab": {
      "provenance": [],
      "authorship_tag": "ABX9TyNvqLCi8P7DCnfkJEAr8TeC",
      "include_colab_link": true
    },
    "kernelspec": {
      "name": "python3",
      "display_name": "Python 3"
    },
    "language_info": {
      "name": "python"
    }
  },
  "cells": [
    {
      "cell_type": "markdown",
      "metadata": {
        "id": "view-in-github",
        "colab_type": "text"
      },
      "source": [
        "<a href=\"https://colab.research.google.com/github/Passssa/Labs-of-Machine-Learning/blob/main/Lab1/Pashnina_Lab1_Zad2.ipynb\" target=\"_parent\"><img src=\"https://colab.research.google.com/assets/colab-badge.svg\" alt=\"Open In Colab\"/></a>"
      ]
    },
    {
      "cell_type": "markdown",
      "source": [
        "### `Дисциплина: Методы и технологии машинного обучения`   \n",
        "`Уровень подготовки: бакалавриат`   \n",
        "`Направление подготовки: 01.03.02 Прикладная математика и информатика`   \n",
        "`Семестр: осень 2022/2023`   \n",
        "`Выполнила Пашнина Алёна` \n",
        "\n",
        "\n",
        "\n",
        "# Лабораторная работа №1: Оценка точности модели с непрерывной зависимой переменной\n",
        "\n",
        "В практических примерах ниже показано:   \n",
        "\n",
        "* как делить данные на выборки (обучающую и тестовую);  \n",
        "* как считать MSE: среднеквадратическую ошибку модели;  \n",
        "* как меняются MSE на тестовой и обучающей выборках с изменением гибкости (числа степеней свободы) модели.  \n",
        "\n",
        "*Модели*: сглаживающие сплайны.   \n",
        "*Данные*: сгенерированные.   \n",
        "\n",
        "Рассмотрим пример из лекции: как меняется поведение ошибок на тестовой и обучающей выборках при различном числе степеней свободы, если функция зависимости отклика $Y$ от единственного признака $X$ известна. Сгенерируем $X$ и $Y$:\n",
        "\n",
        "* $X \\sim U(5, 105)$   \n",
        "* $Y = f(X) + \\epsilon$, где f(X) = 25 + 0.02*x - 0.003*(x - 45)^2 + 0.00006*(x - 54)^3) \n",
        "\n",
        "\n",
        "### Генерируем исходные данные"
      ],
      "metadata": {
        "id": "Q5kS-0rtUY13"
      }
    },
    {
      "cell_type": "markdown",
      "source": [
        "ДЛЯ train_percent = 0.3"
      ],
      "metadata": {
        "id": "wWQVRJOtWrXY"
      }
    },
    {
      "cell_type": "code",
      "source": [
        "%matplotlib inline\n",
        "# загрузка пакетов\n",
        "import numpy as np\n",
        "import random"
      ],
      "metadata": {
        "id": "dkFsU_8ZUcK-"
      },
      "execution_count": 1,
      "outputs": []
    },
    {
      "cell_type": "code",
      "source": [
        "# задаём ядро генератора случайных чисел (внимание: не глобально)\n",
        "np.random.seed(10111)\n",
        "\n",
        "# всего наблюдений, доля обучающей выборки\n",
        "n_all, train_percent = 60, 0.3\n",
        "\n",
        "# параметры распределения X\n",
        "x_min, x_max = 5, 105\n",
        "\n",
        "# генерируем X\n",
        "x = np.random.uniform(x_min, x_max, n_all)\n",
        "\n",
        "# генерируем случайный шум\n",
        "mu, sigma = 0, 1\n",
        "res = np.random.normal(mu, sigma, n_all)\n",
        "\n",
        "# отбираем наблюдения в обучающую выборку\n",
        "in_train = np.random.choice(np.arange(n_all), int(n_all * train_percent), \n",
        "                            replace=False)\n",
        "\n",
        "# истинная функция взаимосвязи\n",
        "def y_func (x) :\n",
        "    return(25 + 0.02*x - 0.003*(x - 45)**2 + 0.00006*(x - 54)**3)\n",
        "    \n",
        "# для графика истинной взаимосвязи\n",
        "x_line = np.linspace(x_min, x_max, n_all)\n",
        "y_line = y_func(x_line)\n",
        "\n",
        "# фактические значения y (с шумом)\n",
        "y = y_func(x) + res\n",
        "\n",
        "# создаём векторы с данными для построения графиков\n",
        "# наблюдения на обучающей выборке\n",
        "x_train = x[in_train]\n",
        "y_train = y[in_train]\n",
        "\n",
        "# наблюдения на тестовой выборке\n",
        "x_test = np.delete(x, in_train)\n",
        "y_test = np.delete(y, in_train)"
      ],
      "metadata": {
        "id": "vsYETPqzUggd"
      },
      "execution_count": 12,
      "outputs": []
    },
    {
      "cell_type": "markdown",
      "source": [
        "\n",
        "\n",
        "### Строим графики   \n",
        "\n",
        "Изобразим исходные данные на графике.   "
      ],
      "metadata": {
        "id": "ld5k_A3dVf-z"
      }
    },
    {
      "cell_type": "code",
      "source": [
        "# загрузка пакетов\n",
        "import matplotlib.pyplot as plt"
      ],
      "metadata": {
        "id": "APNjXHVgVi88"
      },
      "execution_count": 13,
      "outputs": []
    },
    {
      "cell_type": "code",
      "source": [
        "# график 1: исходные данные\n",
        "#  обучающая выборка\n",
        "plt.scatter(x_train, y_train, color='black', label='обучение', alpha=0.6)\n",
        "#  тестовая выборка\n",
        "plt.scatter(x_test, y_test, color='red', label='тест', alpha=0.6)\n",
        "#  истинная функция взаимосвязи\n",
        "plt.plot(x_line, y_line, color='black', linestyle='dashed', label='f(X)')\n",
        "#  подписи осей\n",
        "plt.xlabel('X')\n",
        "plt.ylabel('Y')\n",
        "\n",
        "#  легенда\n",
        "plt.legend()\n",
        "plt.show()"
      ],
      "metadata": {
        "colab": {
          "base_uri": "https://localhost:8080/",
          "height": 279
        },
        "id": "vNIIqsa9Vl7a",
        "outputId": "2507f108-2322-4724-bc38-c1a6062b6607"
      },
      "execution_count": 14,
      "outputs": [
        {
          "output_type": "display_data",
          "data": {
            "text/plain": [
              "<Figure size 432x288 with 1 Axes>"
            ],
            "image/png": "[encoded data removed]"
          },
          "metadata": {
            "needs_background": "light"
          }
        }
      ]
    },
    {
      "cell_type": "markdown",
      "source": [
        "## Обучаем модели и оцениваем их точность\n",
        "\n",
        "В качестве модели используем сплайны со степенями свободы от 2 (прямая) до 40 (количество узлов равно 2/3 наблюдений). Строим модели с различным количеством степеней свободы и в каждом случае считаем среднеквадратическую ошибку модели на обучающей и тестовой выборках.    "
      ],
      "metadata": {
        "id": "iQZzyPH8VpG6"
      }
    },
    {
      "cell_type": "code",
      "source": [
        "# загрузка пакетов\n",
        "from pandas import DataFrame\n",
        "import rpy2.robjects as robjects"
      ],
      "metadata": {
        "id": "_Tr4PVgsVqrD"
      },
      "execution_count": 15,
      "outputs": []
    },
    {
      "cell_type": "code",
      "source": [
        "# модель натурального сплайна с заданным количеством узлов (df)\n",
        "my_df = 38\n",
        "\n",
        "# сохраняем индексы отсортированного по возрастанию x из обучающей выборки\n",
        "x_sorted_index = sorted(range(len(x_train)), key=lambda k: x_train[k])\n",
        "\n",
        "# равноотстоящие координаты по X для прорисовки сглаженной кривой\n",
        "x_train_lin = np.linspace(min(x_train), max(x_train), num=300, endpoint=True)\n",
        "\n",
        "# создаём из данных объекты, понятные R\n",
        "r_x = robjects.FloatVector(x_train)\n",
        "r_y = robjects.FloatVector(y_train)\n",
        "\n",
        "# импортируем нужную функцию из R\n",
        "r_smooth_spline = robjects.r['smooth.spline']\n",
        "\n",
        "# строим сглаживающий сплайн\n",
        "fit = r_smooth_spline(x=r_x, y=r_y, df=my_df)\n",
        "\n",
        "# делаем прогнозы\n",
        "y_hat_train = np.array(robjects.r['predict'](fit, \n",
        "    robjects.FloatVector(x_train)).rx2('y'))\n",
        "y_hat_test = np.array(robjects.r['predict'](fit, \n",
        "    robjects.FloatVector(x_test)).rx2('y'))\n",
        "y_lin_plot = np.array(robjects.r['predict'](fit, \n",
        "    robjects.FloatVector(x_train_lin)).rx2('y'))\n",
        "\n",
        "# строим график\n",
        "plt.plot(x_train, y_train, color='black', ls='', marker='.', label='обучение')\n",
        "plt.plot(x_line, y_line, color='black', ls='dashed', marker='', label='f(X)')\n",
        "plt.plot(x_train_lin, y_lin_plot, marker='', label='сплайн с df = %s' % my_df)\n",
        "plt.plot(x_test, y_test, color='red', ls='', marker='.', label='тест факт')\n",
        "plt.plot(x_test, y_hat_test, color='red', ls='', marker='+', label='тест прогноз')\n",
        "#  подписи осей\n",
        "plt.xlabel('X')\n",
        "plt.ylabel('Y')\n",
        "# легенда\n",
        "plt.legend(loc='best')\n",
        "\n",
        "# считаем MSE\n",
        "MSE_fit = [sum((y_train - y_hat_train)**2) / len(y_train),\n",
        "          sum((y_test - y_hat_test)**2) / len(y_test)]"
      ],
      "metadata": {
        "colab": {
          "base_uri": "https://localhost:8080/",
          "height": 279
        },
        "id": "Dpq9BHr3VulS",
        "outputId": "e324ffc2-142e-4c9e-91c5-9deb0b722a61"
      },
      "execution_count": 16,
      "outputs": [
        {
          "output_type": "display_data",
          "data": {
            "text/plain": [
              "<Figure size 432x288 with 1 Axes>"
            ],
            "image/png": "[encoded data removed]"
          },
          "metadata": {
            "needs_background": "light"
          }
        }
      ]
    },
    {
      "cell_type": "markdown",
      "source": [
        "Ошибки на обучающей и тестовой выборках составили соответственно:"
      ],
      "metadata": {
        "id": "GbWh7-q4VyvC"
      }
    },
    {
      "cell_type": "code",
      "source": [
        "# выводим MSE с округлением\n",
        "np.around(MSE_fit, 2)"
      ],
      "metadata": {
        "colab": {
          "base_uri": "https://localhost:8080/"
        },
        "id": "o0gvDM8VV1BC",
        "outputId": "382f5f27-e02d-4489-f225-9af76b371aa5"
      },
      "execution_count": 17,
      "outputs": [
        {
          "output_type": "execute_result",
          "data": {
            "text/plain": [
              "array([0.18, 1.73])"
            ]
          },
          "metadata": {},
          "execution_count": 17
        }
      ]
    },
    {
      "cell_type": "code",
      "source": [
        "#  Теперь строим модели с df от 2 до 40 ########################################\n",
        "\n",
        "# максимальное число степеней свободы для модели сплайна\n",
        "max_df = 40\n",
        "\n",
        "# фрейм данных для сохранения MSE на обучающей и на тестовой \n",
        "#  при разных степенях свободы\n",
        "MSE_all_dfs = [[0] * 2 for i in range(2, max_df+1)]\n",
        "MSE_all_dfs = DataFrame(MSE_all_dfs, columns=['MSE_train', 'MSE_test'],\n",
        "                       index=list(range(2, max_df+1)))\n",
        "\n",
        "# заполняем фрейм\n",
        "for i_df in range(2, max_df+1) :\n",
        "    \n",
        "    # обучаем модель\n",
        "    fit = r_smooth_spline(x=r_x, y=r_y, df=i_df)\n",
        "    \n",
        "    # прогноз на обучающей выборке\n",
        "    y_train_hat = np.array(robjects.r['predict'](fit, \n",
        "        robjects.FloatVector(x_train)).rx2('y'))\n",
        "    # прогноз на тестовой выборке\n",
        "    y_test_hat = np.array(robjects.r['predict'](fit, \n",
        "        robjects.FloatVector(x_test)).rx2('y'))\n",
        "    \n",
        "    # считаем MSE\n",
        "    MSE_all_dfs.loc[i_df, 'MSE_train'] = sum((y_train - y_train_hat)**2) / len(y_train_hat)\n",
        "    MSE_all_dfs.loc[i_df, 'MSE_test'] = sum((y_test - y_test_hat)**2) / len(y_test_hat)"
      ],
      "metadata": {
        "id": "PFNuHIWbWDNB"
      },
      "execution_count": 18,
      "outputs": []
    },
    {
      "cell_type": "markdown",
      "source": [
        "Минимум MSE на тестовой выборке достигается при числе степеней свободы:  "
      ],
      "metadata": {
        "id": "m7A0wjrkWFgZ"
      }
    },
    {
      "cell_type": "code",
      "source": [
        "# фильтруем таблицу по минимальной MSE на тестовой выборке\n",
        "MSE_all_dfs[MSE_all_dfs['MSE_test'] == min(MSE_all_dfs['MSE_test'])]"
      ],
      "metadata": {
        "colab": {
          "base_uri": "https://localhost:8080/",
          "height": 80
        },
        "id": "rdsaftFtWGgR",
        "outputId": "7c5d17f4-a719-463f-d816-f84898240ca7"
      },
      "execution_count": 19,
      "outputs": [
        {
          "output_type": "execute_result",
          "data": {
            "text/plain": [
              "   MSE_train  MSE_test\n",
              "5    0.31316  1.623543"
            ],
            "text/html": [
              "\n",
              "  <div id=\"df-7e6a1d8d-ad5d-4dbf-ab90-5e4d11b7f6a1\">\n",
              "    <div class=\"colab-df-container\">\n",
              "      <div>\n",
              "<style scoped>\n",
              "    .dataframe tbody tr th:only-of-type {\n",
              "        vertical-align: middle;\n",
              "    }\n",
              "\n",
              "    .dataframe tbody tr th {\n",
              "        vertical-align: top;\n",
              "    }\n",
              "\n",
              "    .dataframe thead th {\n",
              "        text-align: right;\n",
              "    }\n",
              "</style>\n",
              "<table border=\"1\" class=\"dataframe\">\n",
              "  <thead>\n",
              "    <tr style=\"text-align: right;\">\n",
              "      <th></th>\n",
              "      <th>MSE_train</th>\n",
              "      <th>MSE_test</th>\n",
              "    </tr>\n",
              "  </thead>\n",
              "  <tbody>\n",
              "    <tr>\n",
              "      <th>5</th>\n",
              "      <td>0.31316</td>\n",
              "      <td>1.623543</td>\n",
              "    </tr>\n",
              "  </tbody>\n",
              "</table>\n",
              "</div>\n",
              "      <button class=\"colab-df-convert\" onclick=\"convertToInteractive('df-7e6a1d8d-ad5d-4dbf-ab90-5e4d11b7f6a1')\"\n",
              "              title=\"Convert this dataframe to an interactive table.\"\n",
              "              style=\"display:none;\">\n",
              "        \n",
              "  <svg xmlns=\"http://www.w3.org/2000/svg\" height=\"24px\"viewBox=\"0 0 24 24\"\n",
              "       width=\"24px\">\n",
              "    <path d=\"M0 0h24v24H0V0z\" fill=\"none\"/>\n",
              "    <path d=\"M18.56 5.44l.94 2.06.94-2.06 2.06-.94-2.06-.94-.94-2.06-.94 2.06-2.06.94zm-11 1L8.5 8.5l.94-2.06 2.06-.94-2.06-.94L8.5 2.5l-.94 2.06-2.06.94zm10 10l.94 2.06.94-2.06 2.06-.94-2.06-.94-.94-2.06-.94 2.06-2.06.94z\"/><path d=\"M17.41 7.96l-1.37-1.37c-.4-.4-.92-.59-1.43-.59-.52 0-1.04.2-1.43.59L10.3 9.45l-7.72 7.72c-.78.78-.78 2.05 0 2.83L4 21.41c.39.39.9.59 1.41.59.51 0 1.02-.2 1.41-.59l7.78-7.78 2.81-2.81c.8-.78.8-2.07 0-2.86zM5.41 20L4 18.59l7.72-7.72 1.47 1.35L5.41 20z\"/>\n",
              "  </svg>\n",
              "      </button>\n",
              "      \n",
              "  <style>\n",
              "    .colab-df-container {\n",
              "      display:flex;\n",
              "      flex-wrap:wrap;\n",
              "      gap: 12px;\n",
              "    }\n",
              "\n",
              "    .colab-df-convert {\n",
              "      background-color: #E8F0FE;\n",
              "      border: none;\n",
              "      border-radius: 50%;\n",
              "      cursor: pointer;\n",
              "      display: none;\n",
              "      fill: #1967D2;\n",
              "      height: 32px;\n",
              "      padding: 0 0 0 0;\n",
              "      width: 32px;\n",
              "    }\n",
              "\n",
              "    .colab-df-convert:hover {\n",
              "      background-color: #E2EBFA;\n",
              "      box-shadow: 0px 1px 2px rgba(60, 64, 67, 0.3), 0px 1px 3px 1px rgba(60, 64, 67, 0.15);\n",
              "      fill: #174EA6;\n",
              "    }\n",
              "\n",
              "    [theme=dark] .colab-df-convert {\n",
              "      background-color: #3B4455;\n",
              "      fill: #D2E3FC;\n",
              "    }\n",
              "\n",
              "    [theme=dark] .colab-df-convert:hover {\n",
              "      background-color: #434B5C;\n",
              "      box-shadow: 0px 1px 3px 1px rgba(0, 0, 0, 0.15);\n",
              "      filter: drop-shadow(0px 1px 2px rgba(0, 0, 0, 0.3));\n",
              "      fill: #FFFFFF;\n",
              "    }\n",
              "  </style>\n",
              "\n",
              "      <script>\n",
              "        const buttonEl =\n",
              "          document.querySelector('#df-7e6a1d8d-ad5d-4dbf-ab90-5e4d11b7f6a1 button.colab-df-convert');\n",
              "        buttonEl.style.display =\n",
              "          google.colab.kernel.accessAllowed ? 'block' : 'none';\n",
              "\n",
              "        async function convertToInteractive(key) {\n",
              "          const element = document.querySelector('#df-7e6a1d8d-ad5d-4dbf-ab90-5e4d11b7f6a1');\n",
              "          const dataTable =\n",
              "            await google.colab.kernel.invokeFunction('convertToInteractive',\n",
              "                                                     [key], {});\n",
              "          if (!dataTable) return;\n",
              "\n",
              "          const docLinkHtml = 'Like what you see? Visit the ' +\n",
              "            '<a target=\"_blank\" href=https://colab.research.google.com/notebooks/data_table.ipynb>data table notebook</a>'\n",
              "            + ' to learn more about interactive tables.';\n",
              "          element.innerHTML = '';\n",
              "          dataTable['output_type'] = 'display_data';\n",
              "          await google.colab.output.renderOutput(dataTable, element);\n",
              "          const docLink = document.createElement('div');\n",
              "          docLink.innerHTML = docLinkHtml;\n",
              "          element.appendChild(docLink);\n",
              "        }\n",
              "      </script>\n",
              "    </div>\n",
              "  </div>\n",
              "  "
            ]
          },
          "metadata": {},
          "execution_count": 19
        }
      ]
    },
    {
      "cell_type": "markdown",
      "source": [
        "Изобразим на графике динамику MSE на обучающей и тестовой выборках в зависимости от степеней свободы модели. "
      ],
      "metadata": {
        "id": "USxhMoeWWLjh"
      }
    },
    {
      "cell_type": "code",
      "source": [
        "# график изменения MSE с увеличением df\n",
        "plt.plot(MSE_all_dfs.index, MSE_all_dfs['MSE_train'], color='dimgrey', \n",
        "         marker='', label='обучение')\n",
        "plt.plot(MSE_all_dfs.index, MSE_all_dfs['MSE_test'], color='red', \n",
        "         marker='', label='тест')\n",
        "plt.plot([2, 2], [MSE_all_dfs.iloc[0]['MSE_train'], MSE_all_dfs.iloc[0]['MSE_test']],\n",
        "         ls='', marker='s', label='df=2')\n",
        "plt.plot([6, 6], [MSE_all_dfs.iloc[4]['MSE_train'], MSE_all_dfs.iloc[4]['MSE_test']],\n",
        "         ls='', marker='s', label='df=6')\n",
        "plt.plot([38, 38], [MSE_all_dfs.iloc[36]['MSE_train'], MSE_all_dfs.iloc[36]['MSE_test']],\n",
        "         ls='', marker='s', label='df=38')\n",
        "plt.hlines(1, 0, 40, linestyles='dashed', color='grey', label='Var(e)=1')\n",
        "#  подписи осей\n",
        "plt.xlabel('степени свободы (df)')\n",
        "plt.ylabel('MSE')\n",
        "# легенда\n",
        "plt.legend(loc='best')"
      ],
      "metadata": {
        "colab": {
          "base_uri": "https://localhost:8080/",
          "height": 297
        },
        "id": "3oQpN3_iWMgJ",
        "outputId": "8269d469-6640-432a-a60f-81fe2542692d"
      },
      "execution_count": 20,
      "outputs": [
        {
          "output_type": "execute_result",
          "data": {
            "text/plain": [
              "<matplotlib.legend.Legend at 0x7f7d122cb690>"
            ]
          },
          "metadata": {},
          "execution_count": 20
        },
        {
          "output_type": "display_data",
          "data": {
            "text/plain": [
              "<Figure size 432x288 with 1 Axes>"
            ],
            "image/png": "[encoded data removed]"
          },
          "metadata": {
            "needs_background": "light"
          }
        }
      ]
    },
    {
      "cell_type": "markdown",
      "source": [
        "Кривая MSE на обучающей выборке стабильно снижается с ростом узлов сплайна. Чем больше наблюдений, через которые прошёл сплайн, тем точнее модель. Это говорит о переобучении. Лучшую модель следуют выбирать по минимуму на кривой MSE на тестовой выборке.  "
      ],
      "metadata": {
        "id": "xUVhSfY-WQqJ"
      }
    },
    {
      "cell_type": "markdown",
      "source": [
        "ДЛЯ train_percent = 0.25"
      ],
      "metadata": {
        "id": "lQMSorMKWzL3"
      }
    },
    {
      "cell_type": "code",
      "source": [
        "%matplotlib inline\n",
        "# загрузка пакетов\n",
        "import numpy as np\n",
        "import random"
      ],
      "metadata": {
        "id": "rAT9g3RAW1XP"
      },
      "execution_count": 22,
      "outputs": []
    },
    {
      "cell_type": "code",
      "source": [
        "# задаём ядро генератора случайных чисел (внимание: не глобально)\n",
        "np.random.seed(10111)\n",
        "\n",
        "# всего наблюдений, доля обучающей выборки\n",
        "n_all, train_percent = 60, 0.25\n",
        "\n",
        "# параметры распределения X\n",
        "x_min, x_max = 5, 105\n",
        "\n",
        "# генерируем X\n",
        "x = np.random.uniform(x_min, x_max, n_all)\n",
        "\n",
        "# генерируем случайный шум\n",
        "mu, sigma = 0, 1\n",
        "res = np.random.normal(mu, sigma, n_all)\n",
        "\n",
        "# отбираем наблюдения в обучающую выборку\n",
        "in_train = np.random.choice(np.arange(n_all), int(n_all * train_percent), \n",
        "                            replace=False)\n",
        "\n",
        "# истинная функция взаимосвязи\n",
        "def y_func (x) :\n",
        "    return(25 + 0.02*x - 0.003*(x - 45)**2 + 0.00006*(x - 54)**3)\n",
        "    \n",
        "# для графика истинной взаимосвязи\n",
        "x_line = np.linspace(x_min, x_max, n_all)\n",
        "y_line = y_func(x_line)\n",
        "\n",
        "# фактические значения y (с шумом)\n",
        "y = y_func(x) + res\n",
        "\n",
        "# создаём векторы с данными для построения графиков\n",
        "# наблюдения на обучающей выборке\n",
        "x_train = x[in_train]\n",
        "y_train = y[in_train]\n",
        "\n",
        "# наблюдения на тестовой выборке\n",
        "x_test = np.delete(x, in_train)\n",
        "y_test = np.delete(y, in_train)"
      ],
      "metadata": {
        "id": "_B4QXATAXBKq"
      },
      "execution_count": 24,
      "outputs": []
    },
    {
      "cell_type": "code",
      "source": [
        "# загрузка пакетов\n",
        "import matplotlib.pyplot as plt"
      ],
      "metadata": {
        "id": "7FUma-hfXD-f"
      },
      "execution_count": 25,
      "outputs": []
    },
    {
      "cell_type": "code",
      "source": [
        "# график 1: исходные данные\n",
        "#  обучающая выборка\n",
        "plt.scatter(x_train, y_train, color='black', label='обучение', alpha=0.6)\n",
        "#  тестовая выборка\n",
        "plt.scatter(x_test, y_test, color='red', label='тест', alpha=0.6)\n",
        "#  истинная функция взаимосвязи\n",
        "plt.plot(x_line, y_line, color='black', linestyle='dashed', label='f(X)')\n",
        "#  подписи осей\n",
        "plt.xlabel('X')\n",
        "plt.ylabel('Y')\n",
        "\n",
        "#  легенда\n",
        "plt.legend()\n",
        "plt.show()"
      ],
      "metadata": {
        "colab": {
          "base_uri": "https://localhost:8080/",
          "height": 279
        },
        "id": "CJNU5HePXIy3",
        "outputId": "9ae669e1-d67b-440d-c4dc-3c4c34d3df92"
      },
      "execution_count": 26,
      "outputs": [
        {
          "output_type": "display_data",
          "data": {
            "text/plain": [
              "<Figure size 432x288 with 1 Axes>"
            ],
            "image/png": "[encoded data removed]"
          },
          "metadata": {
            "needs_background": "light"
          }
        }
      ]
    },
    {
      "cell_type": "code",
      "source": [
        "# загрузка пакетов\n",
        "from pandas import DataFrame\n",
        "import rpy2.robjects as robjects"
      ],
      "metadata": {
        "id": "YofiVyMPXM0W"
      },
      "execution_count": 27,
      "outputs": []
    },
    {
      "cell_type": "code",
      "source": [
        "# модель натурального сплайна с заданным количеством узлов (df)\n",
        "my_df = 38\n",
        "\n",
        "# сохраняем индексы отсортированного по возрастанию x из обучающей выборки\n",
        "x_sorted_index = sorted(range(len(x_train)), key=lambda k: x_train[k])\n",
        "\n",
        "# равноотстоящие координаты по X для прорисовки сглаженной кривой\n",
        "x_train_lin = np.linspace(min(x_train), max(x_train), num=300, endpoint=True)\n",
        "\n",
        "# создаём из данных объекты, понятные R\n",
        "r_x = robjects.FloatVector(x_train)\n",
        "r_y = robjects.FloatVector(y_train)\n",
        "\n",
        "# импортируем нужную функцию из R\n",
        "r_smooth_spline = robjects.r['smooth.spline']\n",
        "\n",
        "# строим сглаживающий сплайн\n",
        "fit = r_smooth_spline(x=r_x, y=r_y, df=my_df)\n",
        "\n",
        "# делаем прогнозы\n",
        "y_hat_train = np.array(robjects.r['predict'](fit, \n",
        "    robjects.FloatVector(x_train)).rx2('y'))\n",
        "y_hat_test = np.array(robjects.r['predict'](fit, \n",
        "    robjects.FloatVector(x_test)).rx2('y'))\n",
        "y_lin_plot = np.array(robjects.r['predict'](fit, \n",
        "    robjects.FloatVector(x_train_lin)).rx2('y'))\n",
        "\n",
        "# строим график\n",
        "plt.plot(x_train, y_train, color='black', ls='', marker='.', label='обучение')\n",
        "plt.plot(x_line, y_line, color='black', ls='dashed', marker='', label='f(X)')\n",
        "plt.plot(x_train_lin, y_lin_plot, marker='', label='сплайн с df = %s' % my_df)\n",
        "plt.plot(x_test, y_test, color='red', ls='', marker='.', label='тест факт')\n",
        "plt.plot(x_test, y_hat_test, color='red', ls='', marker='+', label='тест прогноз')\n",
        "#  подписи осей\n",
        "plt.xlabel('X')\n",
        "plt.ylabel('Y')\n",
        "# легенда\n",
        "plt.legend(loc='best')\n",
        "\n",
        "# считаем MSE\n",
        "MSE_fit = [sum((y_train - y_hat_train)**2) / len(y_train),\n",
        "          sum((y_test - y_hat_test)**2) / len(y_test)]"
      ],
      "metadata": {
        "colab": {
          "base_uri": "https://localhost:8080/",
          "height": 279
        },
        "id": "bXhpaYI7XRjJ",
        "outputId": "5c49b0ac-6e10-4d8c-ffa3-d9ecf13749fc"
      },
      "execution_count": 28,
      "outputs": [
        {
          "output_type": "display_data",
          "data": {
            "text/plain": [
              "<Figure size 432x288 with 1 Axes>"
            ],
            "image/png": "[encoded data removed]"
          },
          "metadata": {
            "needs_background": "light"
          }
        }
      ]
    },
    {
      "cell_type": "code",
      "source": [
        "# выводим MSE с округлением\n",
        "np.around(MSE_fit, 2)"
      ],
      "metadata": {
        "colab": {
          "base_uri": "https://localhost:8080/"
        },
        "id": "iK6PojAkXXCQ",
        "outputId": "9594cdb8-da7e-42ab-8c03-6e415ce0d52a"
      },
      "execution_count": 29,
      "outputs": [
        {
          "output_type": "execute_result",
          "data": {
            "text/plain": [
              "array([0.2 , 1.56])"
            ]
          },
          "metadata": {},
          "execution_count": 29
        }
      ]
    },
    {
      "cell_type": "code",
      "source": [
        "#  Теперь строим модели с df от 2 до 40 ########################################\n",
        "\n",
        "# максимальное число степеней свободы для модели сплайна\n",
        "max_df = 40\n",
        "\n",
        "# фрейм данных для сохранения MSE на обучающей и на тестовой \n",
        "#  при разных степенях свободы\n",
        "MSE_all_dfs = [[0] * 2 for i in range(2, max_df+1)]\n",
        "MSE_all_dfs = DataFrame(MSE_all_dfs, columns=['MSE_train', 'MSE_test'],\n",
        "                       index=list(range(2, max_df+1)))\n",
        "\n",
        "# заполняем фрейм\n",
        "for i_df in range(2, max_df+1) :\n",
        "    \n",
        "    # обучаем модель\n",
        "    fit = r_smooth_spline(x=r_x, y=r_y, df=i_df)\n",
        "    \n",
        "    # прогноз на обучающей выборке\n",
        "    y_train_hat = np.array(robjects.r['predict'](fit, \n",
        "        robjects.FloatVector(x_train)).rx2('y'))\n",
        "    # прогноз на тестовой выборке\n",
        "    y_test_hat = np.array(robjects.r['predict'](fit, \n",
        "        robjects.FloatVector(x_test)).rx2('y'))\n",
        "    \n",
        "    # считаем MSE\n",
        "    MSE_all_dfs.loc[i_df, 'MSE_train'] = sum((y_train - y_train_hat)**2) / len(y_train_hat)\n",
        "    MSE_all_dfs.loc[i_df, 'MSE_test'] = sum((y_test - y_test_hat)**2) / len(y_test_hat)"
      ],
      "metadata": {
        "id": "Lh0FLk6aXaZw"
      },
      "execution_count": 30,
      "outputs": []
    },
    {
      "cell_type": "code",
      "source": [
        "# фильтруем таблицу по минимальной MSE на тестовой выборке\n",
        "MSE_all_dfs[MSE_all_dfs['MSE_test'] == min(MSE_all_dfs['MSE_test'])]"
      ],
      "metadata": {
        "colab": {
          "base_uri": "https://localhost:8080/",
          "height": 80
        },
        "id": "iINJRi0uXbc2",
        "outputId": "f01d14b7-d99b-4ce9-f821-01c9812778bc"
      },
      "execution_count": 31,
      "outputs": [
        {
          "output_type": "execute_result",
          "data": {
            "text/plain": [
              "   MSE_train  MSE_test\n",
              "5   0.309544   1.53962"
            ],
            "text/html": [
              "\n",
              "  <div id=\"df-0c2fc8d0-0ccf-4c25-a21f-ed35b6ed3d4a\">\n",
              "    <div class=\"colab-df-container\">\n",
              "      <div>\n",
              "<style scoped>\n",
              "    .dataframe tbody tr th:only-of-type {\n",
              "        vertical-align: middle;\n",
              "    }\n",
              "\n",
              "    .dataframe tbody tr th {\n",
              "        vertical-align: top;\n",
              "    }\n",
              "\n",
              "    .dataframe thead th {\n",
              "        text-align: right;\n",
              "    }\n",
              "</style>\n",
              "<table border=\"1\" class=\"dataframe\">\n",
              "  <thead>\n",
              "    <tr style=\"text-align: right;\">\n",
              "      <th></th>\n",
              "      <th>MSE_train</th>\n",
              "      <th>MSE_test</th>\n",
              "    </tr>\n",
              "  </thead>\n",
              "  <tbody>\n",
              "    <tr>\n",
              "      <th>5</th>\n",
              "      <td>0.309544</td>\n",
              "      <td>1.53962</td>\n",
              "    </tr>\n",
              "  </tbody>\n",
              "</table>\n",
              "</div>\n",
              "      <button class=\"colab-df-convert\" onclick=\"convertToInteractive('df-0c2fc8d0-0ccf-4c25-a21f-ed35b6ed3d4a')\"\n",
              "              title=\"Convert this dataframe to an interactive table.\"\n",
              "              style=\"display:none;\">\n",
              "        \n",
              "  <svg xmlns=\"http://www.w3.org/2000/svg\" height=\"24px\"viewBox=\"0 0 24 24\"\n",
              "       width=\"24px\">\n",
              "    <path d=\"M0 0h24v24H0V0z\" fill=\"none\"/>\n",
              "    <path d=\"M18.56 5.44l.94 2.06.94-2.06 2.06-.94-2.06-.94-.94-2.06-.94 2.06-2.06.94zm-11 1L8.5 8.5l.94-2.06 2.06-.94-2.06-.94L8.5 2.5l-.94 2.06-2.06.94zm10 10l.94 2.06.94-2.06 2.06-.94-2.06-.94-.94-2.06-.94 2.06-2.06.94z\"/><path d=\"M17.41 7.96l-1.37-1.37c-.4-.4-.92-.59-1.43-.59-.52 0-1.04.2-1.43.59L10.3 9.45l-7.72 7.72c-.78.78-.78 2.05 0 2.83L4 21.41c.39.39.9.59 1.41.59.51 0 1.02-.2 1.41-.59l7.78-7.78 2.81-2.81c.8-.78.8-2.07 0-2.86zM5.41 20L4 18.59l7.72-7.72 1.47 1.35L5.41 20z\"/>\n",
              "  </svg>\n",
              "      </button>\n",
              "      \n",
              "  <style>\n",
              "    .colab-df-container {\n",
              "      display:flex;\n",
              "      flex-wrap:wrap;\n",
              "      gap: 12px;\n",
              "    }\n",
              "\n",
              "    .colab-df-convert {\n",
              "      background-color: #E8F0FE;\n",
              "      border: none;\n",
              "      border-radius: 50%;\n",
              "      cursor: pointer;\n",
              "      display: none;\n",
              "      fill: #1967D2;\n",
              "      height: 32px;\n",
              "      padding: 0 0 0 0;\n",
              "      width: 32px;\n",
              "    }\n",
              "\n",
              "    .colab-df-convert:hover {\n",
              "      background-color: #E2EBFA;\n",
              "      box-shadow: 0px 1px 2px rgba(60, 64, 67, 0.3), 0px 1px 3px 1px rgba(60, 64, 67, 0.15);\n",
              "      fill: #174EA6;\n",
              "    }\n",
              "\n",
              "    [theme=dark] .colab-df-convert {\n",
              "      background-color: #3B4455;\n",
              "      fill: #D2E3FC;\n",
              "    }\n",
              "\n",
              "    [theme=dark] .colab-df-convert:hover {\n",
              "      background-color: #434B5C;\n",
              "      box-shadow: 0px 1px 3px 1px rgba(0, 0, 0, 0.15);\n",
              "      filter: drop-shadow(0px 1px 2px rgba(0, 0, 0, 0.3));\n",
              "      fill: #FFFFFF;\n",
              "    }\n",
              "  </style>\n",
              "\n",
              "      <script>\n",
              "        const buttonEl =\n",
              "          document.querySelector('#df-0c2fc8d0-0ccf-4c25-a21f-ed35b6ed3d4a button.colab-df-convert');\n",
              "        buttonEl.style.display =\n",
              "          google.colab.kernel.accessAllowed ? 'block' : 'none';\n",
              "\n",
              "        async function convertToInteractive(key) {\n",
              "          const element = document.querySelector('#df-0c2fc8d0-0ccf-4c25-a21f-ed35b6ed3d4a');\n",
              "          const dataTable =\n",
              "            await google.colab.kernel.invokeFunction('convertToInteractive',\n",
              "                                                     [key], {});\n",
              "          if (!dataTable) return;\n",
              "\n",
              "          const docLinkHtml = 'Like what you see? Visit the ' +\n",
              "            '<a target=\"_blank\" href=https://colab.research.google.com/notebooks/data_table.ipynb>data table notebook</a>'\n",
              "            + ' to learn more about interactive tables.';\n",
              "          element.innerHTML = '';\n",
              "          dataTable['output_type'] = 'display_data';\n",
              "          await google.colab.output.renderOutput(dataTable, element);\n",
              "          const docLink = document.createElement('div');\n",
              "          docLink.innerHTML = docLinkHtml;\n",
              "          element.appendChild(docLink);\n",
              "        }\n",
              "      </script>\n",
              "    </div>\n",
              "  </div>\n",
              "  "
            ]
          },
          "metadata": {},
          "execution_count": 31
        }
      ]
    },
    {
      "cell_type": "code",
      "source": [
        "# график изменения MSE с увеличением df\n",
        "plt.plot(MSE_all_dfs.index, MSE_all_dfs['MSE_train'], color='dimgrey', \n",
        "         marker='', label='обучение')\n",
        "plt.plot(MSE_all_dfs.index, MSE_all_dfs['MSE_test'], color='red', \n",
        "         marker='', label='тест')\n",
        "plt.plot([2, 2], [MSE_all_dfs.iloc[0]['MSE_train'], MSE_all_dfs.iloc[0]['MSE_test']],\n",
        "         ls='', marker='s', label='df=2')\n",
        "plt.plot([6, 6], [MSE_all_dfs.iloc[4]['MSE_train'], MSE_all_dfs.iloc[4]['MSE_test']],\n",
        "         ls='', marker='s', label='df=6')\n",
        "plt.plot([38, 38], [MSE_all_dfs.iloc[36]['MSE_train'], MSE_all_dfs.iloc[36]['MSE_test']],\n",
        "         ls='', marker='s', label='df=38')\n",
        "plt.hlines(1, 0, 40, linestyles='dashed', color='grey', label='Var(e)=1')\n",
        "#  подписи осей\n",
        "plt.xlabel('степени свободы (df)')\n",
        "plt.ylabel('MSE')\n",
        "# легенда\n",
        "plt.legend(loc='best')"
      ],
      "metadata": {
        "colab": {
          "base_uri": "https://localhost:8080/",
          "height": 297
        },
        "id": "KAExjKdoXeFW",
        "outputId": "d894dfdd-df6a-4eec-91ba-7045a11f16f0"
      },
      "execution_count": 32,
      "outputs": [
        {
          "output_type": "execute_result",
          "data": {
            "text/plain": [
              "<matplotlib.legend.Legend at 0x7f7d11fe4950>"
            ]
          },
          "metadata": {},
          "execution_count": 32
        },
        {
          "output_type": "display_data",
          "data": {
            "text/plain": [
              "<Figure size 432x288 with 1 Axes>"
            ],
            "image/png": "[encoded data removed]"
          },
          "metadata": {
            "needs_background": "light"
          }
        }
      ]
    },
    {
      "cell_type": "markdown",
      "source": [
        "ДЛЯ train_percent = 0.2"
      ],
      "metadata": {
        "id": "nYU-8zuLZMCA"
      }
    },
    {
      "cell_type": "code",
      "source": [
        "%matplotlib inline\n",
        "# загрузка пакетов\n",
        "import numpy as np\n",
        "import random"
      ],
      "metadata": {
        "id": "BYvDLv2KZWMn"
      },
      "execution_count": 33,
      "outputs": []
    },
    {
      "cell_type": "code",
      "source": [
        "# задаём ядро генератора случайных чисел (внимание: не глобально)\n",
        "np.random.seed(10111)\n",
        "\n",
        "# всего наблюдений, доля обучающей выборки\n",
        "n_all, train_percent = 60, 0.2\n",
        "\n",
        "# параметры распределения X\n",
        "x_min, x_max = 5, 105\n",
        "\n",
        "# генерируем X\n",
        "x = np.random.uniform(x_min, x_max, n_all)\n",
        "\n",
        "# генерируем случайный шум\n",
        "mu, sigma = 0, 1\n",
        "res = np.random.normal(mu, sigma, n_all)\n",
        "\n",
        "# отбираем наблюдения в обучающую выборку\n",
        "in_train = np.random.choice(np.arange(n_all), int(n_all * train_percent), \n",
        "                            replace=False)\n",
        "\n",
        "# истинная функция взаимосвязи\n",
        "def y_func (x) :\n",
        "    return(25 + 0.02*x - 0.003*(x - 45)**2 + 0.00006*(x - 54)**3)\n",
        "    \n",
        "# для графика истинной взаимосвязи\n",
        "x_line = np.linspace(x_min, x_max, n_all)\n",
        "y_line = y_func(x_line)\n",
        "\n",
        "# фактические значения y (с шумом)\n",
        "y = y_func(x) + res\n",
        "\n",
        "# создаём векторы с данными для построения графиков\n",
        "# наблюдения на обучающей выборке\n",
        "x_train = x[in_train]\n",
        "y_train = y[in_train]\n",
        "\n",
        "# наблюдения на тестовой выборке\n",
        "x_test = np.delete(x, in_train)\n",
        "y_test = np.delete(y, in_train)"
      ],
      "metadata": {
        "id": "_47sB_cRZZXo"
      },
      "execution_count": 42,
      "outputs": []
    },
    {
      "cell_type": "code",
      "source": [
        "# загрузка пакетов\n",
        "import matplotlib.pyplot as plt"
      ],
      "metadata": {
        "id": "rDMfCI9nZcpA"
      },
      "execution_count": 49,
      "outputs": []
    },
    {
      "cell_type": "code",
      "source": [
        "# график 1: исходные данные\n",
        "#  обучающая выборка\n",
        "plt.scatter(x_train, y_train, color='black', label='обучение', alpha=0.6)\n",
        "#  тестовая выборка\n",
        "plt.scatter(x_test, y_test, color='red', label='тест', alpha=0.6)\n",
        "#  истинная функция взаимосвязи\n",
        "plt.plot(x_line, y_line, color='black', linestyle='dashed', label='f(X)')\n",
        "#  подписи осей\n",
        "plt.xlabel('X')\n",
        "plt.ylabel('Y')\n",
        "\n",
        "#  легенда\n",
        "plt.legend()\n",
        "plt.show()"
      ],
      "metadata": {
        "colab": {
          "base_uri": "https://localhost:8080/",
          "height": 279
        },
        "id": "AnZgzfbGZfyI",
        "outputId": "ab0762ae-66c0-4978-8882-53bf2b28239d"
      },
      "execution_count": 50,
      "outputs": [
        {
          "output_type": "display_data",
          "data": {
            "text/plain": [
              "<Figure size 432x288 with 1 Axes>"
            ],
            "image/png": "[encoded data removed]"
          },
          "metadata": {
            "needs_background": "light"
          }
        }
      ]
    },
    {
      "cell_type": "code",
      "source": [
        "# модель натурального сплайна с заданным количеством узлов (df)\n",
        "my_df = 38\n",
        "\n",
        "# сохраняем индексы отсортированного по возрастанию x из обучающей выборки\n",
        "x_sorted_index = sorted(range(len(x_train)), key=lambda k: x_train[k])\n",
        "\n",
        "# равноотстоящие координаты по X для прорисовки сглаженной кривой\n",
        "x_train_lin = np.linspace(min(x_train), max(x_train), num=300, endpoint=True)\n",
        "\n",
        "# создаём из данных объекты, понятные R\n",
        "r_x = robjects.FloatVector(x_train)\n",
        "r_y = robjects.FloatVector(y_train)\n",
        "\n",
        "# импортируем нужную функцию из R\n",
        "r_smooth_spline = robjects.r['smooth.spline']\n",
        "\n",
        "# строим сглаживающий сплайн\n",
        "fit = r_smooth_spline(x=r_x, y=r_y, df=my_df)\n",
        "\n",
        "# делаем прогнозы\n",
        "y_hat_train = np.array(robjects.r['predict'](fit, \n",
        "    robjects.FloatVector(x_train)).rx2('y'))\n",
        "y_hat_test = np.array(robjects.r['predict'](fit, \n",
        "    robjects.FloatVector(x_test)).rx2('y'))\n",
        "y_lin_plot = np.array(robjects.r['predict'](fit, \n",
        "    robjects.FloatVector(x_train_lin)).rx2('y'))\n",
        "\n",
        "# строим график\n",
        "plt.plot(x_train, y_train, color='black', ls='', marker='.', label='обучение')\n",
        "plt.plot(x_line, y_line, color='black', ls='dashed', marker='', label='f(X)')\n",
        "plt.plot(x_train_lin, y_lin_plot, marker='', label='сплайн с df = %s' % my_df)\n",
        "plt.plot(x_test, y_test, color='red', ls='', marker='.', label='тест факт')\n",
        "plt.plot(x_test, y_hat_test, color='red', ls='', marker='+', label='тест прогноз')\n",
        "#  подписи осей\n",
        "plt.xlabel('X')\n",
        "plt.ylabel('Y')\n",
        "# легенда\n",
        "plt.legend(loc='best')\n",
        "\n",
        "# считаем MSE\n",
        "MSE_fit = [sum((y_train - y_hat_train)**2) / len(y_train),\n",
        "          sum((y_test - y_hat_test)**2) / len(y_test)]"
      ],
      "metadata": {
        "colab": {
          "base_uri": "https://localhost:8080/",
          "height": 279
        },
        "id": "OZHi8BAuZis4",
        "outputId": "e1b08d69-87c2-4c63-cb3a-5d9be9bc54ce"
      },
      "execution_count": 59,
      "outputs": [
        {
          "output_type": "display_data",
          "data": {
            "text/plain": [
              "<Figure size 432x288 with 1 Axes>"
            ],
            "image/png": "[encoded data removed]"
          },
          "metadata": {
            "needs_background": "light"
          }
        }
      ]
    },
    {
      "cell_type": "code",
      "source": [
        "# выводим MSE с округлением\n",
        "np.around(MSE_fit, 2)"
      ],
      "metadata": {
        "colab": {
          "base_uri": "https://localhost:8080/"
        },
        "id": "lcNsSt8BZnwx",
        "outputId": "dc51eb36-2ecd-4a8e-d3c9-c3437a3f3265"
      },
      "execution_count": 56,
      "outputs": [
        {
          "output_type": "execute_result",
          "data": {
            "text/plain": [
              "array([2.08, 3.17])"
            ]
          },
          "metadata": {},
          "execution_count": 56
        }
      ]
    },
    {
      "cell_type": "code",
      "source": [
        "#  Теперь строим модели с df от 2 до 40 ########################################\n",
        "\n",
        "# максимальное число степеней свободы для модели сплайна\n",
        "max_df = 40\n",
        "\n",
        "# фрейм данных для сохранения MSE на обучающей и на тестовой \n",
        "#  при разных степенях свободы\n",
        "MSE_all_dfs = [[0] * 2 for i in range(2, max_df+1)]\n",
        "MSE_all_dfs = DataFrame(MSE_all_dfs, columns=['MSE_train', 'MSE_test'],\n",
        "                       index=list(range(2, max_df+1)))\n",
        "\n",
        "# заполняем фрейм\n",
        "for i_df in range(2, max_df+1) :\n",
        "    \n",
        "    # обучаем модель\n",
        "    fit = r_smooth_spline(x=r_x, y=r_y, df=i_df)\n",
        "    \n",
        "    # прогноз на обучающей выборке\n",
        "    y_train_hat = np.array(robjects.r['predict'](fit, \n",
        "        robjects.FloatVector(x_train)).rx2('y'))\n",
        "    # прогноз на тестовой выборке\n",
        "    y_test_hat = np.array(robjects.r['predict'](fit, \n",
        "        robjects.FloatVector(x_test)).rx2('y'))\n",
        "    \n",
        "    # считаем MSE\n",
        "    MSE_all_dfs.loc[i_df, 'MSE_train'] = sum((y_train - y_train_hat)**2) / len(y_train_hat)\n",
        "    MSE_all_dfs.loc[i_df, 'MSE_test'] = sum((y_test - y_test_hat)**2) / len(y_test_hat)"
      ],
      "metadata": {
        "id": "BZpYRNT5Zrhi"
      },
      "execution_count": 57,
      "outputs": []
    },
    {
      "cell_type": "code",
      "source": [
        "# фильтруем таблицу по минимальной MSE на тестовой выборке\n",
        "MSE_all_dfs[MSE_all_dfs['MSE_test'] == min(MSE_all_dfs['MSE_test'])]"
      ],
      "metadata": {
        "colab": {
          "base_uri": "https://localhost:8080/",
          "height": 80
        },
        "id": "9rVdpt2tZuUA",
        "outputId": "8d0a0f09-0768-47c3-9422-a2a704fc2ff2"
      },
      "execution_count": 58,
      "outputs": [
        {
          "output_type": "execute_result",
          "data": {
            "text/plain": [
              "   MSE_train  MSE_test\n",
              "5   0.231663  1.416091"
            ],
            "text/html": [
              "\n",
              "  <div id=\"df-a6b54b41-177c-4d0e-bcba-5d2c2d3a5d83\">\n",
              "    <div class=\"colab-df-container\">\n",
              "      <div>\n",
              "<style scoped>\n",
              "    .dataframe tbody tr th:only-of-type {\n",
              "        vertical-align: middle;\n",
              "    }\n",
              "\n",
              "    .dataframe tbody tr th {\n",
              "        vertical-align: top;\n",
              "    }\n",
              "\n",
              "    .dataframe thead th {\n",
              "        text-align: right;\n",
              "    }\n",
              "</style>\n",
              "<table border=\"1\" class=\"dataframe\">\n",
              "  <thead>\n",
              "    <tr style=\"text-align: right;\">\n",
              "      <th></th>\n",
              "      <th>MSE_train</th>\n",
              "      <th>MSE_test</th>\n",
              "    </tr>\n",
              "  </thead>\n",
              "  <tbody>\n",
              "    <tr>\n",
              "      <th>5</th>\n",
              "      <td>0.231663</td>\n",
              "      <td>1.416091</td>\n",
              "    </tr>\n",
              "  </tbody>\n",
              "</table>\n",
              "</div>\n",
              "      <button class=\"colab-df-convert\" onclick=\"convertToInteractive('df-a6b54b41-177c-4d0e-bcba-5d2c2d3a5d83')\"\n",
              "              title=\"Convert this dataframe to an interactive table.\"\n",
              "              style=\"display:none;\">\n",
              "        \n",
              "  <svg xmlns=\"http://www.w3.org/2000/svg\" height=\"24px\"viewBox=\"0 0 24 24\"\n",
              "       width=\"24px\">\n",
              "    <path d=\"M0 0h24v24H0V0z\" fill=\"none\"/>\n",
              "    <path d=\"M18.56 5.44l.94 2.06.94-2.06 2.06-.94-2.06-.94-.94-2.06-.94 2.06-2.06.94zm-11 1L8.5 8.5l.94-2.06 2.06-.94-2.06-.94L8.5 2.5l-.94 2.06-2.06.94zm10 10l.94 2.06.94-2.06 2.06-.94-2.06-.94-.94-2.06-.94 2.06-2.06.94z\"/><path d=\"M17.41 7.96l-1.37-1.37c-.4-.4-.92-.59-1.43-.59-.52 0-1.04.2-1.43.59L10.3 9.45l-7.72 7.72c-.78.78-.78 2.05 0 2.83L4 21.41c.39.39.9.59 1.41.59.51 0 1.02-.2 1.41-.59l7.78-7.78 2.81-2.81c.8-.78.8-2.07 0-2.86zM5.41 20L4 18.59l7.72-7.72 1.47 1.35L5.41 20z\"/>\n",
              "  </svg>\n",
              "      </button>\n",
              "      \n",
              "  <style>\n",
              "    .colab-df-container {\n",
              "      display:flex;\n",
              "      flex-wrap:wrap;\n",
              "      gap: 12px;\n",
              "    }\n",
              "\n",
              "    .colab-df-convert {\n",
              "      background-color: #E8F0FE;\n",
              "      border: none;\n",
              "      border-radius: 50%;\n",
              "      cursor: pointer;\n",
              "      display: none;\n",
              "      fill: #1967D2;\n",
              "      height: 32px;\n",
              "      padding: 0 0 0 0;\n",
              "      width: 32px;\n",
              "    }\n",
              "\n",
              "    .colab-df-convert:hover {\n",
              "      background-color: #E2EBFA;\n",
              "      box-shadow: 0px 1px 2px rgba(60, 64, 67, 0.3), 0px 1px 3px 1px rgba(60, 64, 67, 0.15);\n",
              "      fill: #174EA6;\n",
              "    }\n",
              "\n",
              "    [theme=dark] .colab-df-convert {\n",
              "      background-color: #3B4455;\n",
              "      fill: #D2E3FC;\n",
              "    }\n",
              "\n",
              "    [theme=dark] .colab-df-convert:hover {\n",
              "      background-color: #434B5C;\n",
              "      box-shadow: 0px 1px 3px 1px rgba(0, 0, 0, 0.15);\n",
              "      filter: drop-shadow(0px 1px 2px rgba(0, 0, 0, 0.3));\n",
              "      fill: #FFFFFF;\n",
              "    }\n",
              "  </style>\n",
              "\n",
              "      <script>\n",
              "        const buttonEl =\n",
              "          document.querySelector('#df-a6b54b41-177c-4d0e-bcba-5d2c2d3a5d83 button.colab-df-convert');\n",
              "        buttonEl.style.display =\n",
              "          google.colab.kernel.accessAllowed ? 'block' : 'none';\n",
              "\n",
              "        async function convertToInteractive(key) {\n",
              "          const element = document.querySelector('#df-a6b54b41-177c-4d0e-bcba-5d2c2d3a5d83');\n",
              "          const dataTable =\n",
              "            await google.colab.kernel.invokeFunction('convertToInteractive',\n",
              "                                                     [key], {});\n",
              "          if (!dataTable) return;\n",
              "\n",
              "          const docLinkHtml = 'Like what you see? Visit the ' +\n",
              "            '<a target=\"_blank\" href=https://colab.research.google.com/notebooks/data_table.ipynb>data table notebook</a>'\n",
              "            + ' to learn more about interactive tables.';\n",
              "          element.innerHTML = '';\n",
              "          dataTable['output_type'] = 'display_data';\n",
              "          await google.colab.output.renderOutput(dataTable, element);\n",
              "          const docLink = document.createElement('div');\n",
              "          docLink.innerHTML = docLinkHtml;\n",
              "          element.appendChild(docLink);\n",
              "        }\n",
              "      </script>\n",
              "    </div>\n",
              "  </div>\n",
              "  "
            ]
          },
          "metadata": {},
          "execution_count": 58
        }
      ]
    },
    {
      "cell_type": "code",
      "source": [
        "# график изменения MSE с увеличением df\n",
        "plt.plot(MSE_all_dfs.index, MSE_all_dfs['MSE_train'], color='dimgrey', \n",
        "         marker='', label='обучение')\n",
        "plt.plot(MSE_all_dfs.index, MSE_all_dfs['MSE_test'], color='red', \n",
        "         marker='', label='тест')\n",
        "plt.plot([2, 2], [MSE_all_dfs.iloc[0]['MSE_train'], MSE_all_dfs.iloc[0]['MSE_test']],\n",
        "         ls='', marker='s', label='df=2')\n",
        "plt.plot([6, 6], [MSE_all_dfs.iloc[4]['MSE_train'], MSE_all_dfs.iloc[4]['MSE_test']],\n",
        "         ls='', marker='s', label='df=6')\n",
        "plt.plot([38, 38], [MSE_all_dfs.iloc[36]['MSE_train'], MSE_all_dfs.iloc[36]['MSE_test']],\n",
        "         ls='', marker='s', label='df=38')\n",
        "plt.hlines(1, 0, 40, linestyles='dashed', color='grey', label='Var(e)=1')\n",
        "#  подписи осей\n",
        "plt.xlabel('степени свободы (df)')\n",
        "plt.ylabel('MSE')\n",
        "# легенда\n",
        "plt.legend(loc='best')"
      ],
      "metadata": {
        "colab": {
          "base_uri": "https://localhost:8080/",
          "height": 297
        },
        "id": "kSfH02mmZxqw",
        "outputId": "22f716f7-a688-403b-e457-ef7948b6245c"
      },
      "execution_count": 41,
      "outputs": [
        {
          "output_type": "execute_result",
          "data": {
            "text/plain": [
              "<matplotlib.legend.Legend at 0x7f7d11df4990>"
            ]
          },
          "metadata": {},
          "execution_count": 41
        },
        {
          "output_type": "display_data",
          "data": {
            "text/plain": [
              "<Figure size 432x288 with 1 Axes>"
            ],
            "image/png": "[encoded data removed]"
          },
          "metadata": {
            "needs_background": "light"
          }
        }
      ]
    },
    {
      "cell_type": "markdown",
      "source": [
        "Для train_percent = 0.3 и df = 5 (тк достигается наименьший показатель MSE):\n",
        "Ошибки на обучающей и тестовой выборках:\n",
        "* MSE Train = 0.31316    \n",
        "* MSE Test = 1.623543\n",
        "\n",
        "\n",
        "Для train_percent = 0.25 и df = 5 (тк достигается наименьший показатель MSE):\n",
        "Ошибки на обучающей и тестовой выборках:\n",
        "* MSE Train = 0.309544    \n",
        "* MSE Test = 1.53962  \n",
        "\n",
        "Для train_percent = 0.2 и df = 5 (тк достигается наименьший показатель MSE):\n",
        "Ошибки на обучающей и тестовой выборках:\n",
        "* MSE Train = 0.231663  \n",
        "* MSE Test = 1.416091 "
      ],
      "metadata": {
        "id": "z5pu4GadaNIp"
      }
    },
    {
      "cell_type": "markdown",
      "source": [
        "Выводы:\n",
        "* При увеличении значения train_percent, уменьшаются ошибки как на тренировочной выборке, так и на тестовой.\n",
        "* С ростом числа степеней свободы, ошибки на тестовых выборках моделей увеличиваются, происходит переобучение.\n",
        "* Если выбирать из этих трех моделей, то лучшая при train_percent = 0.2, т.к. в ней ошибка на тестовой выборке минимальна.\n"
      ],
      "metadata": {
        "id": "HPkhwnXKaQjC"
      }
    }
  ]
}