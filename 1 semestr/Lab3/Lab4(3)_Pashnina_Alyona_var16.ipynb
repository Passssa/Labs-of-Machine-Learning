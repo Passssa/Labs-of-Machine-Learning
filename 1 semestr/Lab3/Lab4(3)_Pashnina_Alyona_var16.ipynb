{
  "cells": [
    {
      "cell_type": "markdown",
      "metadata": {
        "id": "view-in-github",
        "colab_type": "text"
      },
      "source": [
        "<a href=\"https://colab.research.google.com/github/Passssa/Labs-of-Machine-Learning/blob/main/Lab3/Lab4(3)_Pashnina_Alyona_var16.ipynb\" target=\"_parent\"><img src=\"https://colab.research.google.com/assets/colab-badge.svg\" alt=\"Open In Colab\"/></a>"
      ]
    },
    {
      "cell_type": "markdown",
      "id": "a1aef29b",
      "metadata": {
        "id": "a1aef29b"
      },
      "source": [
        "`Дисциплина: Методы и технологии машинного обучения`   \n",
        "`Уровень подготовки: бакалавриат`   \n",
        "`Направление подготовки: 01.03.02 Прикладная математика и информатика`   \n",
        "`Семестр: осень 2022/2023`   \n",
        "\n",
        "\n",
        "\n",
        "\n",
        "# Лабораторная работа №4: Методы снижения размерности. Регуляризация логистической регрессии. \n",
        "\n",
        "В практических примерах ниже показано:   \n",
        "\n",
        "* как снижать размерность пространства признаков методами главных компонент (PCR), частных наименьшах квадратов (PLS)  \n",
        "* как строить логистическую регрессию с регуляризацией параметров (методы ридж и лассо) \n",
        "\n",
        "Точность всех моделей оценивается методом перекрёстной проверки по 10 блокам.  \n",
        "\n",
        "*Модели*: множественная линейная регрессия \n",
        "*Данные*: `Wines` (источник: [репозиторий к книге С.Рашки Python и машинное обучение, глава 4](https://github.com/rasbt/python-machine-learning-book-3rd-edition/tree/master/ch04))"
      ]
    },
    {
      "cell_type": "markdown",
      "id": "61b9ab5d",
      "metadata": {
        "id": "61b9ab5d"
      },
      "source": [
        "# Указания к выполнению\n",
        "\n",
        "\n",
        "## Загружаем пакеты"
      ]
    },
    {
      "cell_type": "code",
      "execution_count": 73,
      "id": "c8fa189c",
      "metadata": {
        "id": "c8fa189c"
      },
      "outputs": [],
      "source": [
        "# загрузка пакетов: инструменты --------------------------------------------\n",
        "#  работа с массивами\n",
        "import numpy as np\n",
        "#  фреймы данных\n",
        "import pandas as pd\n",
        "#  распределение Стьюдента для проверки значимости\n",
        "from scipy.stats import t\n",
        "# подсчёт частот внутри массива\n",
        "from collections import Counter\n",
        "#  графики\n",
        "import matplotlib as mpl\n",
        "#  стили и шаблоны графиков на основе matplotlib\n",
        "import seaborn as sns\n",
        "\n",
        "# загрузка пакетов: данные -------------------------------------------------\n",
        "from sklearn import datasets\n",
        "\n",
        "# загрузка пакетов: модели -------------------------------------------------\n",
        "#  стандартизация показателей\n",
        "from sklearn.preprocessing import StandardScaler\n",
        "#  метод главных компонент\n",
        "from sklearn.decomposition import PCA\n",
        "# метод частных наименьших квадратов\n",
        "from sklearn.cross_decomposition import PLSRegression\n",
        "#  логистическая регрессия (ММП)\n",
        "from sklearn.linear_model import LogisticRegression, LogisticRegressionCV\n",
        "#  перекрёстная проверка по k блокам\n",
        "from sklearn.model_selection import KFold, cross_val_score\n",
        "#  расчёт Acc и сводка по точности классификации\n",
        "from sklearn.metrics import accuracy_score, classification_report"
      ]
    },
    {
      "cell_type": "code",
      "execution_count": 74,
      "id": "43a4a48e",
      "metadata": {
        "id": "43a4a48e"
      },
      "outputs": [],
      "source": [
        "# константы\n",
        "#  ядро для генератора случайных чисел\n",
        "my_seed = 9212\n",
        "#  создаём псевдоним для короткого обращения к графикам\n",
        "plt = mpl.pyplot\n",
        "# настройка стиля и отображения графиков\n",
        "#  примеры стилей и шаблонов графиков: \n",
        "#  http://tonysyu.github.io/raw_content/matplotlib-style-gallery/gallery.html\n",
        "mpl.style.use('seaborn-whitegrid')\n",
        "sns.set_palette(\"Set2\")\n",
        "# раскомментируйте следующую строку, чтобы посмотреть палитру\n",
        "# sns.color_palette(\"Set2\")"
      ]
    },
    {
      "cell_type": "code",
      "execution_count": 75,
      "id": "29d97f61",
      "metadata": {
        "id": "29d97f61"
      },
      "outputs": [],
      "source": [
        "# функция, которая строит график сжатия коэффициентов в ридж и лассо\n",
        "#  из репозитория к книге С.Рашки Python и машинное обучение,\n",
        "#  слегка переработанная\n",
        "def plot_coeffs_traces (X, y, class_number, penalty_name, C_opt, col_names,\n",
        "                        C_min_pow=-4, C_max_pow=3.) :\n",
        "    fig = plt.figure()\n",
        "    ax = plt.subplot(111)    \n",
        "    \n",
        "    # палитра\n",
        "    colors = sns.color_palette(\"Spectral\", len(col_names)-1)\n",
        "    \n",
        "    weights, params = [], []\n",
        "    for c in np.arange(C_min_pow, C_max_pow+1):\n",
        "        lr = LogisticRegression(penalty=penalty_name, \n",
        "                                C=10.**c, solver='liblinear', \n",
        "                                multi_class='ovr', random_state=my_seed)\n",
        "        lr.fit(X, y)\n",
        "        weights.append(lr.coef_[class_number])\n",
        "        params.append(10**c)\n",
        "\n",
        "    weights = np.array(weights)\n",
        "\n",
        "    for column, color in zip(range(weights.shape[1]), colors):\n",
        "        plt.plot(params, weights[:, column],\n",
        "                 label=col_names[column],\n",
        "                 color=color)\n",
        "\n",
        "    # отсечки по оптимальным C\n",
        "    plt.axvline(x=C_opt[class_number], color='magenta', \n",
        "                linestyle='--', linewidth=1)\n",
        "\n",
        "    plt.axhline(0, color='black', linestyle='--', linewidth=1)\n",
        "    plt.xlim([10**(C_min_pow), 10**C_max_pow])\n",
        "    plt.ylabel('weight coefficient')\n",
        "    plt.xlabel('C')\n",
        "    plt.xscale('log')\n",
        "    plt.legend(loc='upper left')\n",
        "    ax.legend(loc='upper center', \n",
        "              bbox_to_anchor=(1.38, 1.03),\n",
        "              ncol=1, fancybox=True)\n",
        "    plt.show()"
      ]
    },
    {
      "cell_type": "markdown",
      "id": "87618f1b",
      "metadata": {
        "id": "87618f1b"
      },
      "source": [
        "## Загружаем данные\n",
        "\n",
        "Набор данных `wine` можно загрузить напрямую из пакета `sklearn` (набор впервые выложен [на сайте Калифорнийского университета в Ирвине](http://archive.ics.uci.edu/ml/datasets/Wine)). Таблица содержит результаты химического анализа вин, выращенных в одном регионе Италии тремя разными производителями. Большинство столбцов таблицы отражают содержание в вине различных веществ:   \n",
        "\n",
        "* `alcohol` – алкоголь, процентное содержание;  \n",
        "* `malic_acid` – яблочная кислота (разновидность кислоты с сильной кислотностью и ароматом яблока);  \n",
        "* `ash` – зола (неорганическая соль, оказывающая влияние на вкус и придающая вину ощущение свежести);  \n",
        "* `alcalinity_of_ash` – щелочность золы;  \n",
        "* `magnesium` – магний (важный для организма слабощелочной элемент, способствующий энергетическому обмену);  \n",
        "* `total_phenols` – всего фенола (молекулы, содержащие полифенольные вещества; имеют горький вкус, также влияют на цвет, относятся к питательным веществам в вине);  \n",
        "* `flavanoids` – флаваноиды (полезный антиоксидант, даёт богатый аромат и горький вкус);  \n",
        "* `nonflavanoid_phenols` – фенолы нефлаваноидные (специальный ароматический газ, устойчивый к окислению);  \n",
        "* `proanthocyanins` – проантоцианы (биофлавоноидное соединение, которое также является природным антиоксидантом с легким горьковатым запахом); \n",
        "* `color_intensity` – интенсивность цвета; \n",
        "* `hue` – оттенок (мера яркости цвета, используется в т.ч. для измерения возраста вина); \n",
        "* `od280/od315_of_diluted_wines` – OD280/OD315 разбавленных вин (метод определения концентрации белка); \n",
        "* `proline` – пролин (основная аминокислота в красном вине, важный фактор вкуса и аромата); \n",
        "* `target` – целевая переменная: класс вина.   \n",
        "\n",
        "Загружаем данные во фрейм и выясняем их размерность.  "
      ]
    },
    {
      "cell_type": "code",
      "execution_count": 76,
      "id": "a7e42f2c",
      "metadata": {
        "colab": {
          "base_uri": "https://localhost:8080/"
        },
        "id": "a7e42f2c",
        "outputId": "bd4b9140-2f9d-46a4-8157-eefdf5f24b5d"
      },
      "outputs": [
        {
          "output_type": "stream",
          "name": "stdout",
          "text": [
            "Число строк и столбцов в наборе данных:\n",
            " (30000, 24)\n"
          ]
        }
      ],
      "source": [
        "# загружаем таблицу и превращаем её во фрейм\n",
        "DF_all = pd.read_csv('https://raw.githubusercontent.com/ania607/ML/main/data/default_of_credit_card_clients.csv')\n",
        "\n",
        "# выясняем размерность фрейма\n",
        "print('Число строк и столбцов в наборе данных:\\n', DF_all.shape)"
      ]
    },
    {
      "cell_type": "markdown",
      "id": "5ce7ffd1",
      "metadata": {
        "id": "5ce7ffd1"
      },
      "source": [
        "Отложим 10% наблюдений для прогноза.  "
      ]
    },
    {
      "cell_type": "markdown",
      "source": [],
      "metadata": {
        "id": "hJNbrGT6XoFE"
      },
      "id": "hJNbrGT6XoFE"
    },
    {
      "cell_type": "code",
      "source": [
        "DF_all = DF_all.drop(['PAY_4', 'PAY_5', 'PAY_6', 'BILL_AMT4', 'BILL_AMT5', 'BILL_AMT6',\\\n",
        "                      'PAY_AMT4', 'PAY_AMT5', 'PAY_AMT6'],axis = 1)"
      ],
      "metadata": {
        "id": "p5bbFQRgXoWu"
      },
      "id": "p5bbFQRgXoWu",
      "execution_count": 77,
      "outputs": []
    },
    {
      "cell_type": "code",
      "execution_count": 78,
      "id": "13f9300b",
      "metadata": {
        "id": "13f9300b"
      },
      "outputs": [],
      "source": [
        "# наблюдения для моделирования\n",
        "DF = DF_all.sample(frac=0.85, random_state=my_seed)\n",
        "# отложенные наблюдения\n",
        "DF_predict = DF_all.drop(DF.index)"
      ]
    },
    {
      "cell_type": "code",
      "execution_count": 79,
      "id": "2c2eedc8",
      "metadata": {
        "colab": {
          "base_uri": "https://localhost:8080/",
          "height": 0
        },
        "id": "2c2eedc8",
        "outputId": "1d62f66b-8d34-4d34-bc80-048d8d8b52ae"
      },
      "outputs": [
        {
          "output_type": "execute_result",
          "data": {
            "text/plain": [
              "       LIMIT_BAL  SEX  EDUCATION  MARRIAGE  AGE  PAY_0  PAY_2\n",
              "23739      80000    2          2         2   51      0      0\n",
              "2303      180000    1          2         2   32      1      2\n",
              "8847      200000    1          1         2   33     -1     -1\n",
              "6634       10000    2          2         2   37     -1      0\n",
              "17316      50000    2          3         2   39      2      2"
            ],
            "text/html": [
              "\n",
              "  <div id=\"df-f19ce7e3-32b8-4d1a-af03-8feca53aad3b\">\n",
              "    <div class=\"colab-df-container\">\n",
              "      <div>\n",
              "<style scoped>\n",
              "    .dataframe tbody tr th:only-of-type {\n",
              "        vertical-align: middle;\n",
              "    }\n",
              "\n",
              "    .dataframe tbody tr th {\n",
              "        vertical-align: top;\n",
              "    }\n",
              "\n",
              "    .dataframe thead th {\n",
              "        text-align: right;\n",
              "    }\n",
              "</style>\n",
              "<table border=\"1\" class=\"dataframe\">\n",
              "  <thead>\n",
              "    <tr style=\"text-align: right;\">\n",
              "      <th></th>\n",
              "      <th>LIMIT_BAL</th>\n",
              "      <th>SEX</th>\n",
              "      <th>EDUCATION</th>\n",
              "      <th>MARRIAGE</th>\n",
              "      <th>AGE</th>\n",
              "      <th>PAY_0</th>\n",
              "      <th>PAY_2</th>\n",
              "    </tr>\n",
              "  </thead>\n",
              "  <tbody>\n",
              "    <tr>\n",
              "      <th>23739</th>\n",
              "      <td>80000</td>\n",
              "      <td>2</td>\n",
              "      <td>2</td>\n",
              "      <td>2</td>\n",
              "      <td>51</td>\n",
              "      <td>0</td>\n",
              "      <td>0</td>\n",
              "    </tr>\n",
              "    <tr>\n",
              "      <th>2303</th>\n",
              "      <td>180000</td>\n",
              "      <td>1</td>\n",
              "      <td>2</td>\n",
              "      <td>2</td>\n",
              "      <td>32</td>\n",
              "      <td>1</td>\n",
              "      <td>2</td>\n",
              "    </tr>\n",
              "    <tr>\n",
              "      <th>8847</th>\n",
              "      <td>200000</td>\n",
              "      <td>1</td>\n",
              "      <td>1</td>\n",
              "      <td>2</td>\n",
              "      <td>33</td>\n",
              "      <td>-1</td>\n",
              "      <td>-1</td>\n",
              "    </tr>\n",
              "    <tr>\n",
              "      <th>6634</th>\n",
              "      <td>10000</td>\n",
              "      <td>2</td>\n",
              "      <td>2</td>\n",
              "      <td>2</td>\n",
              "      <td>37</td>\n",
              "      <td>-1</td>\n",
              "      <td>0</td>\n",
              "    </tr>\n",
              "    <tr>\n",
              "      <th>17316</th>\n",
              "      <td>50000</td>\n",
              "      <td>2</td>\n",
              "      <td>3</td>\n",
              "      <td>2</td>\n",
              "      <td>39</td>\n",
              "      <td>2</td>\n",
              "      <td>2</td>\n",
              "    </tr>\n",
              "  </tbody>\n",
              "</table>\n",
              "</div>\n",
              "      <button class=\"colab-df-convert\" onclick=\"convertToInteractive('df-f19ce7e3-32b8-4d1a-af03-8feca53aad3b')\"\n",
              "              title=\"Convert this dataframe to an interactive table.\"\n",
              "              style=\"display:none;\">\n",
              "        \n",
              "  <svg xmlns=\"http://www.w3.org/2000/svg\" height=\"24px\"viewBox=\"0 0 24 24\"\n",
              "       width=\"24px\">\n",
              "    <path d=\"M0 0h24v24H0V0z\" fill=\"none\"/>\n",
              "    <path d=\"M18.56 5.44l.94 2.06.94-2.06 2.06-.94-2.06-.94-.94-2.06-.94 2.06-2.06.94zm-11 1L8.5 8.5l.94-2.06 2.06-.94-2.06-.94L8.5 2.5l-.94 2.06-2.06.94zm10 10l.94 2.06.94-2.06 2.06-.94-2.06-.94-.94-2.06-.94 2.06-2.06.94z\"/><path d=\"M17.41 7.96l-1.37-1.37c-.4-.4-.92-.59-1.43-.59-.52 0-1.04.2-1.43.59L10.3 9.45l-7.72 7.72c-.78.78-.78 2.05 0 2.83L4 21.41c.39.39.9.59 1.41.59.51 0 1.02-.2 1.41-.59l7.78-7.78 2.81-2.81c.8-.78.8-2.07 0-2.86zM5.41 20L4 18.59l7.72-7.72 1.47 1.35L5.41 20z\"/>\n",
              "  </svg>\n",
              "      </button>\n",
              "      \n",
              "  <style>\n",
              "    .colab-df-container {\n",
              "      display:flex;\n",
              "      flex-wrap:wrap;\n",
              "      gap: 12px;\n",
              "    }\n",
              "\n",
              "    .colab-df-convert {\n",
              "      background-color: #E8F0FE;\n",
              "      border: none;\n",
              "      border-radius: 50%;\n",
              "      cursor: pointer;\n",
              "      display: none;\n",
              "      fill: #1967D2;\n",
              "      height: 32px;\n",
              "      padding: 0 0 0 0;\n",
              "      width: 32px;\n",
              "    }\n",
              "\n",
              "    .colab-df-convert:hover {\n",
              "      background-color: #E2EBFA;\n",
              "      box-shadow: 0px 1px 2px rgba(60, 64, 67, 0.3), 0px 1px 3px 1px rgba(60, 64, 67, 0.15);\n",
              "      fill: #174EA6;\n",
              "    }\n",
              "\n",
              "    [theme=dark] .colab-df-convert {\n",
              "      background-color: #3B4455;\n",
              "      fill: #D2E3FC;\n",
              "    }\n",
              "\n",
              "    [theme=dark] .colab-df-convert:hover {\n",
              "      background-color: #434B5C;\n",
              "      box-shadow: 0px 1px 3px 1px rgba(0, 0, 0, 0.15);\n",
              "      filter: drop-shadow(0px 1px 2px rgba(0, 0, 0, 0.3));\n",
              "      fill: #FFFFFF;\n",
              "    }\n",
              "  </style>\n",
              "\n",
              "      <script>\n",
              "        const buttonEl =\n",
              "          document.querySelector('#df-f19ce7e3-32b8-4d1a-af03-8feca53aad3b button.colab-df-convert');\n",
              "        buttonEl.style.display =\n",
              "          google.colab.kernel.accessAllowed ? 'block' : 'none';\n",
              "\n",
              "        async function convertToInteractive(key) {\n",
              "          const element = document.querySelector('#df-f19ce7e3-32b8-4d1a-af03-8feca53aad3b');\n",
              "          const dataTable =\n",
              "            await google.colab.kernel.invokeFunction('convertToInteractive',\n",
              "                                                     [key], {});\n",
              "          if (!dataTable) return;\n",
              "\n",
              "          const docLinkHtml = 'Like what you see? Visit the ' +\n",
              "            '<a target=\"_blank\" href=https://colab.research.google.com/notebooks/data_table.ipynb>data table notebook</a>'\n",
              "            + ' to learn more about interactive tables.';\n",
              "          element.innerHTML = '';\n",
              "          dataTable['output_type'] = 'display_data';\n",
              "          await google.colab.output.renderOutput(dataTable, element);\n",
              "          const docLink = document.createElement('div');\n",
              "          docLink.innerHTML = docLinkHtml;\n",
              "          element.appendChild(docLink);\n",
              "        }\n",
              "      </script>\n",
              "    </div>\n",
              "  </div>\n",
              "  "
            ]
          },
          "metadata": {},
          "execution_count": 79
        }
      ],
      "source": [
        "# первые 5 строк фрейма у первых 7 столбцов\n",
        "DF.iloc[:, :7].head(5)"
      ]
    },
    {
      "cell_type": "code",
      "execution_count": 80,
      "id": "e98ca5c5",
      "metadata": {
        "colab": {
          "base_uri": "https://localhost:8080/",
          "height": 0
        },
        "id": "e98ca5c5",
        "outputId": "2bd68791-3046-4f5a-ab11-3eb29d94b7de"
      },
      "outputs": [
        {
          "output_type": "execute_result",
          "data": {
            "text/plain": [
              "       PAY_3  BILL_AMT1  BILL_AMT2  BILL_AMT3\n",
              "23739      0      80106      43289      21017\n",
              "2303       2     172842     177065     163930\n",
              "8847      -2       3557        -60        -60\n",
              "6634       0       7841       7400       6770\n",
              "17316      0      20039      19369      16586"
            ],
            "text/html": [
              "\n",
              "  <div id=\"df-147e284f-114f-40cd-859e-3e19a098190f\">\n",
              "    <div class=\"colab-df-container\">\n",
              "      <div>\n",
              "<style scoped>\n",
              "    .dataframe tbody tr th:only-of-type {\n",
              "        vertical-align: middle;\n",
              "    }\n",
              "\n",
              "    .dataframe tbody tr th {\n",
              "        vertical-align: top;\n",
              "    }\n",
              "\n",
              "    .dataframe thead th {\n",
              "        text-align: right;\n",
              "    }\n",
              "</style>\n",
              "<table border=\"1\" class=\"dataframe\">\n",
              "  <thead>\n",
              "    <tr style=\"text-align: right;\">\n",
              "      <th></th>\n",
              "      <th>PAY_3</th>\n",
              "      <th>BILL_AMT1</th>\n",
              "      <th>BILL_AMT2</th>\n",
              "      <th>BILL_AMT3</th>\n",
              "    </tr>\n",
              "  </thead>\n",
              "  <tbody>\n",
              "    <tr>\n",
              "      <th>23739</th>\n",
              "      <td>0</td>\n",
              "      <td>80106</td>\n",
              "      <td>43289</td>\n",
              "      <td>21017</td>\n",
              "    </tr>\n",
              "    <tr>\n",
              "      <th>2303</th>\n",
              "      <td>2</td>\n",
              "      <td>172842</td>\n",
              "      <td>177065</td>\n",
              "      <td>163930</td>\n",
              "    </tr>\n",
              "    <tr>\n",
              "      <th>8847</th>\n",
              "      <td>-2</td>\n",
              "      <td>3557</td>\n",
              "      <td>-60</td>\n",
              "      <td>-60</td>\n",
              "    </tr>\n",
              "    <tr>\n",
              "      <th>6634</th>\n",
              "      <td>0</td>\n",
              "      <td>7841</td>\n",
              "      <td>7400</td>\n",
              "      <td>6770</td>\n",
              "    </tr>\n",
              "    <tr>\n",
              "      <th>17316</th>\n",
              "      <td>0</td>\n",
              "      <td>20039</td>\n",
              "      <td>19369</td>\n",
              "      <td>16586</td>\n",
              "    </tr>\n",
              "  </tbody>\n",
              "</table>\n",
              "</div>\n",
              "      <button class=\"colab-df-convert\" onclick=\"convertToInteractive('df-147e284f-114f-40cd-859e-3e19a098190f')\"\n",
              "              title=\"Convert this dataframe to an interactive table.\"\n",
              "              style=\"display:none;\">\n",
              "        \n",
              "  <svg xmlns=\"http://www.w3.org/2000/svg\" height=\"24px\"viewBox=\"0 0 24 24\"\n",
              "       width=\"24px\">\n",
              "    <path d=\"M0 0h24v24H0V0z\" fill=\"none\"/>\n",
              "    <path d=\"M18.56 5.44l.94 2.06.94-2.06 2.06-.94-2.06-.94-.94-2.06-.94 2.06-2.06.94zm-11 1L8.5 8.5l.94-2.06 2.06-.94-2.06-.94L8.5 2.5l-.94 2.06-2.06.94zm10 10l.94 2.06.94-2.06 2.06-.94-2.06-.94-.94-2.06-.94 2.06-2.06.94z\"/><path d=\"M17.41 7.96l-1.37-1.37c-.4-.4-.92-.59-1.43-.59-.52 0-1.04.2-1.43.59L10.3 9.45l-7.72 7.72c-.78.78-.78 2.05 0 2.83L4 21.41c.39.39.9.59 1.41.59.51 0 1.02-.2 1.41-.59l7.78-7.78 2.81-2.81c.8-.78.8-2.07 0-2.86zM5.41 20L4 18.59l7.72-7.72 1.47 1.35L5.41 20z\"/>\n",
              "  </svg>\n",
              "      </button>\n",
              "      \n",
              "  <style>\n",
              "    .colab-df-container {\n",
              "      display:flex;\n",
              "      flex-wrap:wrap;\n",
              "      gap: 12px;\n",
              "    }\n",
              "\n",
              "    .colab-df-convert {\n",
              "      background-color: #E8F0FE;\n",
              "      border: none;\n",
              "      border-radius: 50%;\n",
              "      cursor: pointer;\n",
              "      display: none;\n",
              "      fill: #1967D2;\n",
              "      height: 32px;\n",
              "      padding: 0 0 0 0;\n",
              "      width: 32px;\n",
              "    }\n",
              "\n",
              "    .colab-df-convert:hover {\n",
              "      background-color: #E2EBFA;\n",
              "      box-shadow: 0px 1px 2px rgba(60, 64, 67, 0.3), 0px 1px 3px 1px rgba(60, 64, 67, 0.15);\n",
              "      fill: #174EA6;\n",
              "    }\n",
              "\n",
              "    [theme=dark] .colab-df-convert {\n",
              "      background-color: #3B4455;\n",
              "      fill: #D2E3FC;\n",
              "    }\n",
              "\n",
              "    [theme=dark] .colab-df-convert:hover {\n",
              "      background-color: #434B5C;\n",
              "      box-shadow: 0px 1px 3px 1px rgba(0, 0, 0, 0.15);\n",
              "      filter: drop-shadow(0px 1px 2px rgba(0, 0, 0, 0.3));\n",
              "      fill: #FFFFFF;\n",
              "    }\n",
              "  </style>\n",
              "\n",
              "      <script>\n",
              "        const buttonEl =\n",
              "          document.querySelector('#df-147e284f-114f-40cd-859e-3e19a098190f button.colab-df-convert');\n",
              "        buttonEl.style.display =\n",
              "          google.colab.kernel.accessAllowed ? 'block' : 'none';\n",
              "\n",
              "        async function convertToInteractive(key) {\n",
              "          const element = document.querySelector('#df-147e284f-114f-40cd-859e-3e19a098190f');\n",
              "          const dataTable =\n",
              "            await google.colab.kernel.invokeFunction('convertToInteractive',\n",
              "                                                     [key], {});\n",
              "          if (!dataTable) return;\n",
              "\n",
              "          const docLinkHtml = 'Like what you see? Visit the ' +\n",
              "            '<a target=\"_blank\" href=https://colab.research.google.com/notebooks/data_table.ipynb>data table notebook</a>'\n",
              "            + ' to learn more about interactive tables.';\n",
              "          element.innerHTML = '';\n",
              "          dataTable['output_type'] = 'display_data';\n",
              "          await google.colab.output.renderOutput(dataTable, element);\n",
              "          const docLink = document.createElement('div');\n",
              "          docLink.innerHTML = docLinkHtml;\n",
              "          element.appendChild(docLink);\n",
              "        }\n",
              "      </script>\n",
              "    </div>\n",
              "  </div>\n",
              "  "
            ]
          },
          "metadata": {},
          "execution_count": 80
        }
      ],
      "source": [
        "# первые 5 строк фрейма у столбцов 8-11\n",
        "DF.iloc[:, 7:11].head(5)"
      ]
    },
    {
      "cell_type": "code",
      "execution_count": 81,
      "id": "7db6da00",
      "metadata": {
        "colab": {
          "base_uri": "https://localhost:8080/",
          "height": 0
        },
        "id": "7db6da00",
        "outputId": "92d80b6a-937b-4b36-c5ca-80da21c58acf"
      },
      "outputs": [
        {
          "output_type": "execute_result",
          "data": {
            "text/plain": [
              "       PAY_AMT1  PAY_AMT2  PAY_AMT3  Y\n",
              "23739      1400      1500      1000  1\n",
              "2303       8500         0      7000  1\n",
              "8847          0         0      1800  0\n",
              "6634       1157      1000       103  0\n",
              "17316         0      1280      2390  1"
            ],
            "text/html": [
              "\n",
              "  <div id=\"df-d190b978-0a48-400d-831d-5b1b36a6d7e2\">\n",
              "    <div class=\"colab-df-container\">\n",
              "      <div>\n",
              "<style scoped>\n",
              "    .dataframe tbody tr th:only-of-type {\n",
              "        vertical-align: middle;\n",
              "    }\n",
              "\n",
              "    .dataframe tbody tr th {\n",
              "        vertical-align: top;\n",
              "    }\n",
              "\n",
              "    .dataframe thead th {\n",
              "        text-align: right;\n",
              "    }\n",
              "</style>\n",
              "<table border=\"1\" class=\"dataframe\">\n",
              "  <thead>\n",
              "    <tr style=\"text-align: right;\">\n",
              "      <th></th>\n",
              "      <th>PAY_AMT1</th>\n",
              "      <th>PAY_AMT2</th>\n",
              "      <th>PAY_AMT3</th>\n",
              "      <th>Y</th>\n",
              "    </tr>\n",
              "  </thead>\n",
              "  <tbody>\n",
              "    <tr>\n",
              "      <th>23739</th>\n",
              "      <td>1400</td>\n",
              "      <td>1500</td>\n",
              "      <td>1000</td>\n",
              "      <td>1</td>\n",
              "    </tr>\n",
              "    <tr>\n",
              "      <th>2303</th>\n",
              "      <td>8500</td>\n",
              "      <td>0</td>\n",
              "      <td>7000</td>\n",
              "      <td>1</td>\n",
              "    </tr>\n",
              "    <tr>\n",
              "      <th>8847</th>\n",
              "      <td>0</td>\n",
              "      <td>0</td>\n",
              "      <td>1800</td>\n",
              "      <td>0</td>\n",
              "    </tr>\n",
              "    <tr>\n",
              "      <th>6634</th>\n",
              "      <td>1157</td>\n",
              "      <td>1000</td>\n",
              "      <td>103</td>\n",
              "      <td>0</td>\n",
              "    </tr>\n",
              "    <tr>\n",
              "      <th>17316</th>\n",
              "      <td>0</td>\n",
              "      <td>1280</td>\n",
              "      <td>2390</td>\n",
              "      <td>1</td>\n",
              "    </tr>\n",
              "  </tbody>\n",
              "</table>\n",
              "</div>\n",
              "      <button class=\"colab-df-convert\" onclick=\"convertToInteractive('df-d190b978-0a48-400d-831d-5b1b36a6d7e2')\"\n",
              "              title=\"Convert this dataframe to an interactive table.\"\n",
              "              style=\"display:none;\">\n",
              "        \n",
              "  <svg xmlns=\"http://www.w3.org/2000/svg\" height=\"24px\"viewBox=\"0 0 24 24\"\n",
              "       width=\"24px\">\n",
              "    <path d=\"M0 0h24v24H0V0z\" fill=\"none\"/>\n",
              "    <path d=\"M18.56 5.44l.94 2.06.94-2.06 2.06-.94-2.06-.94-.94-2.06-.94 2.06-2.06.94zm-11 1L8.5 8.5l.94-2.06 2.06-.94-2.06-.94L8.5 2.5l-.94 2.06-2.06.94zm10 10l.94 2.06.94-2.06 2.06-.94-2.06-.94-.94-2.06-.94 2.06-2.06.94z\"/><path d=\"M17.41 7.96l-1.37-1.37c-.4-.4-.92-.59-1.43-.59-.52 0-1.04.2-1.43.59L10.3 9.45l-7.72 7.72c-.78.78-.78 2.05 0 2.83L4 21.41c.39.39.9.59 1.41.59.51 0 1.02-.2 1.41-.59l7.78-7.78 2.81-2.81c.8-.78.8-2.07 0-2.86zM5.41 20L4 18.59l7.72-7.72 1.47 1.35L5.41 20z\"/>\n",
              "  </svg>\n",
              "      </button>\n",
              "      \n",
              "  <style>\n",
              "    .colab-df-container {\n",
              "      display:flex;\n",
              "      flex-wrap:wrap;\n",
              "      gap: 12px;\n",
              "    }\n",
              "\n",
              "    .colab-df-convert {\n",
              "      background-color: #E8F0FE;\n",
              "      border: none;\n",
              "      border-radius: 50%;\n",
              "      cursor: pointer;\n",
              "      display: none;\n",
              "      fill: #1967D2;\n",
              "      height: 32px;\n",
              "      padding: 0 0 0 0;\n",
              "      width: 32px;\n",
              "    }\n",
              "\n",
              "    .colab-df-convert:hover {\n",
              "      background-color: #E2EBFA;\n",
              "      box-shadow: 0px 1px 2px rgba(60, 64, 67, 0.3), 0px 1px 3px 1px rgba(60, 64, 67, 0.15);\n",
              "      fill: #174EA6;\n",
              "    }\n",
              "\n",
              "    [theme=dark] .colab-df-convert {\n",
              "      background-color: #3B4455;\n",
              "      fill: #D2E3FC;\n",
              "    }\n",
              "\n",
              "    [theme=dark] .colab-df-convert:hover {\n",
              "      background-color: #434B5C;\n",
              "      box-shadow: 0px 1px 3px 1px rgba(0, 0, 0, 0.15);\n",
              "      filter: drop-shadow(0px 1px 2px rgba(0, 0, 0, 0.3));\n",
              "      fill: #FFFFFF;\n",
              "    }\n",
              "  </style>\n",
              "\n",
              "      <script>\n",
              "        const buttonEl =\n",
              "          document.querySelector('#df-d190b978-0a48-400d-831d-5b1b36a6d7e2 button.colab-df-convert');\n",
              "        buttonEl.style.display =\n",
              "          google.colab.kernel.accessAllowed ? 'block' : 'none';\n",
              "\n",
              "        async function convertToInteractive(key) {\n",
              "          const element = document.querySelector('#df-d190b978-0a48-400d-831d-5b1b36a6d7e2');\n",
              "          const dataTable =\n",
              "            await google.colab.kernel.invokeFunction('convertToInteractive',\n",
              "                                                     [key], {});\n",
              "          if (!dataTable) return;\n",
              "\n",
              "          const docLinkHtml = 'Like what you see? Visit the ' +\n",
              "            '<a target=\"_blank\" href=https://colab.research.google.com/notebooks/data_table.ipynb>data table notebook</a>'\n",
              "            + ' to learn more about interactive tables.';\n",
              "          element.innerHTML = '';\n",
              "          dataTable['output_type'] = 'display_data';\n",
              "          await google.colab.output.renderOutput(dataTable, element);\n",
              "          const docLink = document.createElement('div');\n",
              "          docLink.innerHTML = docLinkHtml;\n",
              "          element.appendChild(docLink);\n",
              "        }\n",
              "      </script>\n",
              "    </div>\n",
              "  </div>\n",
              "  "
            ]
          },
          "metadata": {},
          "execution_count": 81
        }
      ],
      "source": [
        "# первые 5 строк фрейма у столбцов 12-14\n",
        "DF.iloc[:, 11:].head(5)"
      ]
    },
    {
      "cell_type": "code",
      "execution_count": 82,
      "id": "1e97a472",
      "metadata": {
        "colab": {
          "base_uri": "https://localhost:8080/"
        },
        "id": "1e97a472",
        "outputId": "4e0d3907-a4c9-4662-b774-acefe0b9bbc9"
      },
      "outputs": [
        {
          "output_type": "execute_result",
          "data": {
            "text/plain": [
              "LIMIT_BAL    int64\n",
              "SEX          int64\n",
              "EDUCATION    int64\n",
              "MARRIAGE     int64\n",
              "AGE          int64\n",
              "PAY_0        int64\n",
              "PAY_2        int64\n",
              "PAY_3        int64\n",
              "BILL_AMT1    int64\n",
              "BILL_AMT2    int64\n",
              "BILL_AMT3    int64\n",
              "PAY_AMT1     int64\n",
              "PAY_AMT2     int64\n",
              "PAY_AMT3     int64\n",
              "Y            int64\n",
              "dtype: object"
            ]
          },
          "metadata": {},
          "execution_count": 82
        }
      ],
      "source": [
        "# типы столбцов фрейма\n",
        "DF.dtypes"
      ]
    },
    {
      "cell_type": "markdown",
      "id": "d4a540a2",
      "metadata": {
        "id": "d4a540a2"
      },
      "source": [
        "Проверим, нет ли в таблице пропусков.  "
      ]
    },
    {
      "cell_type": "code",
      "execution_count": 83,
      "id": "42a96cd9",
      "metadata": {
        "colab": {
          "base_uri": "https://localhost:8080/"
        },
        "id": "42a96cd9",
        "outputId": "baeb53e3-4a54-447e-963d-0a7d6b028bf3"
      },
      "outputs": [
        {
          "output_type": "execute_result",
          "data": {
            "text/plain": [
              "LIMIT_BAL    0\n",
              "SEX          0\n",
              "EDUCATION    0\n",
              "MARRIAGE     0\n",
              "AGE          0\n",
              "PAY_0        0\n",
              "PAY_2        0\n",
              "PAY_3        0\n",
              "BILL_AMT1    0\n",
              "BILL_AMT2    0\n",
              "BILL_AMT3    0\n",
              "PAY_AMT1     0\n",
              "PAY_AMT2     0\n",
              "PAY_AMT3     0\n",
              "Y            0\n",
              "dtype: int64"
            ]
          },
          "metadata": {},
          "execution_count": 83
        }
      ],
      "source": [
        "# считаем пропуски в каждом столбце\n",
        "DF.isnull().sum()"
      ]
    },
    {
      "cell_type": "markdown",
      "source": [
        "Пропусков не обнаружено.  "
      ],
      "metadata": {
        "id": "uBjfVQbGWOl3"
      },
      "id": "uBjfVQbGWOl3"
    },
    {
      "cell_type": "code",
      "source": [
        "DF.count()"
      ],
      "metadata": {
        "colab": {
          "base_uri": "https://localhost:8080/"
        },
        "id": "E-sJJBw9WPdW",
        "outputId": "6baeacf4-9c26-4b4e-afab-4c28e6dad50d"
      },
      "id": "E-sJJBw9WPdW",
      "execution_count": 84,
      "outputs": [
        {
          "output_type": "execute_result",
          "data": {
            "text/plain": [
              "LIMIT_BAL    25500\n",
              "SEX          25500\n",
              "EDUCATION    25500\n",
              "MARRIAGE     25500\n",
              "AGE          25500\n",
              "PAY_0        25500\n",
              "PAY_2        25500\n",
              "PAY_3        25500\n",
              "BILL_AMT1    25500\n",
              "BILL_AMT2    25500\n",
              "BILL_AMT3    25500\n",
              "PAY_AMT1     25500\n",
              "PAY_AMT2     25500\n",
              "PAY_AMT3     25500\n",
              "Y            25500\n",
              "dtype: int64"
            ]
          },
          "metadata": {},
          "execution_count": 84
        }
      ]
    },
    {
      "cell_type": "markdown",
      "source": [
        "И количество записей в нашей таблице одинаковое"
      ],
      "metadata": {
        "id": "QuQ6IPqBWWM4"
      },
      "id": "QuQ6IPqBWWM4"
    },
    {
      "cell_type": "markdown",
      "id": "2941191c",
      "metadata": {
        "id": "2941191c"
      },
      "source": [
        "\n",
        "# Предварительный анализ данных  \n",
        "\n",
        "## Описательные статистики  \n",
        "\n",
        "Считаем доли классов целевой переменной `target`.  "
      ]
    },
    {
      "cell_type": "code",
      "execution_count": 85,
      "id": "ad9c9120",
      "metadata": {
        "colab": {
          "base_uri": "https://localhost:8080/"
        },
        "id": "ad9c9120",
        "outputId": "17ac3e96-1a63-43a9-d612-0fdc7b4fc848"
      },
      "outputs": [
        {
          "output_type": "execute_result",
          "data": {
            "text/plain": [
              "array([1, 0])"
            ]
          },
          "metadata": {},
          "execution_count": 85
        }
      ],
      "source": [
        "# метки классов\n",
        "DF.Y.unique()"
      ]
    },
    {
      "cell_type": "code",
      "execution_count": 86,
      "id": "1807f21e",
      "metadata": {
        "colab": {
          "base_uri": "https://localhost:8080/"
        },
        "id": "1807f21e",
        "outputId": "bb0e8e2e-e537-4322-97c4-8b2353389a6c"
      },
      "outputs": [
        {
          "output_type": "execute_result",
          "data": {
            "text/plain": [
              "0    0.778\n",
              "1    0.222\n",
              "Name: Y, dtype: float64"
            ]
          },
          "metadata": {},
          "execution_count": 86
        }
      ],
      "source": [
        "# доли классов\n",
        "np.around(DF.Y.value_counts() / len(DF.index), 3)"
      ]
    },
    {
      "cell_type": "markdown",
      "id": "e3216487",
      "metadata": {
        "id": "e3216487"
      },
      "source": [
        "Все объясняющие переменные набора данных непрерывные. Рассчитаем для них описательные статистики.  "
      ]
    },
    {
      "cell_type": "code",
      "execution_count": 87,
      "id": "c7df0768",
      "metadata": {
        "colab": {
          "base_uri": "https://localhost:8080/",
          "height": 0
        },
        "id": "c7df0768",
        "outputId": "ddb8a5e3-397a-4612-978e-a218554f1242"
      },
      "outputs": [
        {
          "output_type": "execute_result",
          "data": {
            "text/plain": [
              "            LIMIT_BAL           SEX     EDUCATION      MARRIAGE           AGE  \\\n",
              "count    25500.000000  25500.000000  25500.000000  25500.000000  25500.000000   \n",
              "mean    167239.595294      1.602157      1.855529      1.552078     35.507804   \n",
              "std     129645.337798      0.489462      0.792227      0.522142      9.211413   \n",
              "min      10000.000000      1.000000      0.000000      0.000000     21.000000   \n",
              "25%      50000.000000      1.000000      1.000000      1.000000     28.000000   \n",
              "50%     140000.000000      2.000000      2.000000      2.000000     34.000000   \n",
              "75%     240000.000000      2.000000      2.000000      2.000000     41.000000   \n",
              "max    1000000.000000      2.000000      6.000000      3.000000     79.000000   \n",
              "\n",
              "              PAY_0  \n",
              "count  25500.000000  \n",
              "mean      -0.018784  \n",
              "std        1.118459  \n",
              "min       -2.000000  \n",
              "25%       -1.000000  \n",
              "50%        0.000000  \n",
              "75%        0.000000  \n",
              "max        8.000000  "
            ],
            "text/html": [
              "\n",
              "  <div id=\"df-20b34c3a-9242-4903-a8cf-d4d9c5bdb9a1\">\n",
              "    <div class=\"colab-df-container\">\n",
              "      <div>\n",
              "<style scoped>\n",
              "    .dataframe tbody tr th:only-of-type {\n",
              "        vertical-align: middle;\n",
              "    }\n",
              "\n",
              "    .dataframe tbody tr th {\n",
              "        vertical-align: top;\n",
              "    }\n",
              "\n",
              "    .dataframe thead th {\n",
              "        text-align: right;\n",
              "    }\n",
              "</style>\n",
              "<table border=\"1\" class=\"dataframe\">\n",
              "  <thead>\n",
              "    <tr style=\"text-align: right;\">\n",
              "      <th></th>\n",
              "      <th>LIMIT_BAL</th>\n",
              "      <th>SEX</th>\n",
              "      <th>EDUCATION</th>\n",
              "      <th>MARRIAGE</th>\n",
              "      <th>AGE</th>\n",
              "      <th>PAY_0</th>\n",
              "    </tr>\n",
              "  </thead>\n",
              "  <tbody>\n",
              "    <tr>\n",
              "      <th>count</th>\n",
              "      <td>25500.000000</td>\n",
              "      <td>25500.000000</td>\n",
              "      <td>25500.000000</td>\n",
              "      <td>25500.000000</td>\n",
              "      <td>25500.000000</td>\n",
              "      <td>25500.000000</td>\n",
              "    </tr>\n",
              "    <tr>\n",
              "      <th>mean</th>\n",
              "      <td>167239.595294</td>\n",
              "      <td>1.602157</td>\n",
              "      <td>1.855529</td>\n",
              "      <td>1.552078</td>\n",
              "      <td>35.507804</td>\n",
              "      <td>-0.018784</td>\n",
              "    </tr>\n",
              "    <tr>\n",
              "      <th>std</th>\n",
              "      <td>129645.337798</td>\n",
              "      <td>0.489462</td>\n",
              "      <td>0.792227</td>\n",
              "      <td>0.522142</td>\n",
              "      <td>9.211413</td>\n",
              "      <td>1.118459</td>\n",
              "    </tr>\n",
              "    <tr>\n",
              "      <th>min</th>\n",
              "      <td>10000.000000</td>\n",
              "      <td>1.000000</td>\n",
              "      <td>0.000000</td>\n",
              "      <td>0.000000</td>\n",
              "      <td>21.000000</td>\n",
              "      <td>-2.000000</td>\n",
              "    </tr>\n",
              "    <tr>\n",
              "      <th>25%</th>\n",
              "      <td>50000.000000</td>\n",
              "      <td>1.000000</td>\n",
              "      <td>1.000000</td>\n",
              "      <td>1.000000</td>\n",
              "      <td>28.000000</td>\n",
              "      <td>-1.000000</td>\n",
              "    </tr>\n",
              "    <tr>\n",
              "      <th>50%</th>\n",
              "      <td>140000.000000</td>\n",
              "      <td>2.000000</td>\n",
              "      <td>2.000000</td>\n",
              "      <td>2.000000</td>\n",
              "      <td>34.000000</td>\n",
              "      <td>0.000000</td>\n",
              "    </tr>\n",
              "    <tr>\n",
              "      <th>75%</th>\n",
              "      <td>240000.000000</td>\n",
              "      <td>2.000000</td>\n",
              "      <td>2.000000</td>\n",
              "      <td>2.000000</td>\n",
              "      <td>41.000000</td>\n",
              "      <td>0.000000</td>\n",
              "    </tr>\n",
              "    <tr>\n",
              "      <th>max</th>\n",
              "      <td>1000000.000000</td>\n",
              "      <td>2.000000</td>\n",
              "      <td>6.000000</td>\n",
              "      <td>3.000000</td>\n",
              "      <td>79.000000</td>\n",
              "      <td>8.000000</td>\n",
              "    </tr>\n",
              "  </tbody>\n",
              "</table>\n",
              "</div>\n",
              "      <button class=\"colab-df-convert\" onclick=\"convertToInteractive('df-20b34c3a-9242-4903-a8cf-d4d9c5bdb9a1')\"\n",
              "              title=\"Convert this dataframe to an interactive table.\"\n",
              "              style=\"display:none;\">\n",
              "        \n",
              "  <svg xmlns=\"http://www.w3.org/2000/svg\" height=\"24px\"viewBox=\"0 0 24 24\"\n",
              "       width=\"24px\">\n",
              "    <path d=\"M0 0h24v24H0V0z\" fill=\"none\"/>\n",
              "    <path d=\"M18.56 5.44l.94 2.06.94-2.06 2.06-.94-2.06-.94-.94-2.06-.94 2.06-2.06.94zm-11 1L8.5 8.5l.94-2.06 2.06-.94-2.06-.94L8.5 2.5l-.94 2.06-2.06.94zm10 10l.94 2.06.94-2.06 2.06-.94-2.06-.94-.94-2.06-.94 2.06-2.06.94z\"/><path d=\"M17.41 7.96l-1.37-1.37c-.4-.4-.92-.59-1.43-.59-.52 0-1.04.2-1.43.59L10.3 9.45l-7.72 7.72c-.78.78-.78 2.05 0 2.83L4 21.41c.39.39.9.59 1.41.59.51 0 1.02-.2 1.41-.59l7.78-7.78 2.81-2.81c.8-.78.8-2.07 0-2.86zM5.41 20L4 18.59l7.72-7.72 1.47 1.35L5.41 20z\"/>\n",
              "  </svg>\n",
              "      </button>\n",
              "      \n",
              "  <style>\n",
              "    .colab-df-container {\n",
              "      display:flex;\n",
              "      flex-wrap:wrap;\n",
              "      gap: 12px;\n",
              "    }\n",
              "\n",
              "    .colab-df-convert {\n",
              "      background-color: #E8F0FE;\n",
              "      border: none;\n",
              "      border-radius: 50%;\n",
              "      cursor: pointer;\n",
              "      display: none;\n",
              "      fill: #1967D2;\n",
              "      height: 32px;\n",
              "      padding: 0 0 0 0;\n",
              "      width: 32px;\n",
              "    }\n",
              "\n",
              "    .colab-df-convert:hover {\n",
              "      background-color: #E2EBFA;\n",
              "      box-shadow: 0px 1px 2px rgba(60, 64, 67, 0.3), 0px 1px 3px 1px rgba(60, 64, 67, 0.15);\n",
              "      fill: #174EA6;\n",
              "    }\n",
              "\n",
              "    [theme=dark] .colab-df-convert {\n",
              "      background-color: #3B4455;\n",
              "      fill: #D2E3FC;\n",
              "    }\n",
              "\n",
              "    [theme=dark] .colab-df-convert:hover {\n",
              "      background-color: #434B5C;\n",
              "      box-shadow: 0px 1px 3px 1px rgba(0, 0, 0, 0.15);\n",
              "      filter: drop-shadow(0px 1px 2px rgba(0, 0, 0, 0.3));\n",
              "      fill: #FFFFFF;\n",
              "    }\n",
              "  </style>\n",
              "\n",
              "      <script>\n",
              "        const buttonEl =\n",
              "          document.querySelector('#df-20b34c3a-9242-4903-a8cf-d4d9c5bdb9a1 button.colab-df-convert');\n",
              "        buttonEl.style.display =\n",
              "          google.colab.kernel.accessAllowed ? 'block' : 'none';\n",
              "\n",
              "        async function convertToInteractive(key) {\n",
              "          const element = document.querySelector('#df-20b34c3a-9242-4903-a8cf-d4d9c5bdb9a1');\n",
              "          const dataTable =\n",
              "            await google.colab.kernel.invokeFunction('convertToInteractive',\n",
              "                                                     [key], {});\n",
              "          if (!dataTable) return;\n",
              "\n",
              "          const docLinkHtml = 'Like what you see? Visit the ' +\n",
              "            '<a target=\"_blank\" href=https://colab.research.google.com/notebooks/data_table.ipynb>data table notebook</a>'\n",
              "            + ' to learn more about interactive tables.';\n",
              "          element.innerHTML = '';\n",
              "          dataTable['output_type'] = 'display_data';\n",
              "          await google.colab.output.renderOutput(dataTable, element);\n",
              "          const docLink = document.createElement('div');\n",
              "          docLink.innerHTML = docLinkHtml;\n",
              "          element.appendChild(docLink);\n",
              "        }\n",
              "      </script>\n",
              "    </div>\n",
              "  </div>\n",
              "  "
            ]
          },
          "metadata": {},
          "execution_count": 87
        }
      ],
      "source": [
        "# описательные статистики\n",
        "DF.iloc[:, :6].describe()"
      ]
    },
    {
      "cell_type": "code",
      "execution_count": 88,
      "id": "068ba2f9",
      "metadata": {
        "colab": {
          "base_uri": "https://localhost:8080/",
          "height": 0
        },
        "id": "068ba2f9",
        "outputId": "bddce6e1-b827-4654-ed0b-999f075c0b03"
      },
      "outputs": [
        {
          "output_type": "execute_result",
          "data": {
            "text/plain": [
              "              PAY_2         PAY_3      BILL_AMT1      BILL_AMT2      BILL_AMT3\n",
              "count  25500.000000  25500.000000   25500.000000   25500.000000   25500.000000\n",
              "mean      -0.137490     -0.171020   51168.967686   49108.259961   46937.951020\n",
              "std        1.193239      1.190034   73363.717933   71082.158481   68694.470599\n",
              "min       -2.000000     -2.000000 -165580.000000  -69777.000000 -157264.000000\n",
              "25%       -1.000000     -1.000000    3508.250000    2936.750000    2688.000000\n",
              "50%        0.000000      0.000000   22288.000000   21052.500000   20050.000000\n",
              "75%        0.000000      0.000000   67384.000000   64129.750000   60164.750000\n",
              "max        8.000000      8.000000  964511.000000  983931.000000  855086.000000"
            ],
            "text/html": [
              "\n",
              "  <div id=\"df-fa0a15ea-6353-484a-b971-098d614a4ccf\">\n",
              "    <div class=\"colab-df-container\">\n",
              "      <div>\n",
              "<style scoped>\n",
              "    .dataframe tbody tr th:only-of-type {\n",
              "        vertical-align: middle;\n",
              "    }\n",
              "\n",
              "    .dataframe tbody tr th {\n",
              "        vertical-align: top;\n",
              "    }\n",
              "\n",
              "    .dataframe thead th {\n",
              "        text-align: right;\n",
              "    }\n",
              "</style>\n",
              "<table border=\"1\" class=\"dataframe\">\n",
              "  <thead>\n",
              "    <tr style=\"text-align: right;\">\n",
              "      <th></th>\n",
              "      <th>PAY_2</th>\n",
              "      <th>PAY_3</th>\n",
              "      <th>BILL_AMT1</th>\n",
              "      <th>BILL_AMT2</th>\n",
              "      <th>BILL_AMT3</th>\n",
              "    </tr>\n",
              "  </thead>\n",
              "  <tbody>\n",
              "    <tr>\n",
              "      <th>count</th>\n",
              "      <td>25500.000000</td>\n",
              "      <td>25500.000000</td>\n",
              "      <td>25500.000000</td>\n",
              "      <td>25500.000000</td>\n",
              "      <td>25500.000000</td>\n",
              "    </tr>\n",
              "    <tr>\n",
              "      <th>mean</th>\n",
              "      <td>-0.137490</td>\n",
              "      <td>-0.171020</td>\n",
              "      <td>51168.967686</td>\n",
              "      <td>49108.259961</td>\n",
              "      <td>46937.951020</td>\n",
              "    </tr>\n",
              "    <tr>\n",
              "      <th>std</th>\n",
              "      <td>1.193239</td>\n",
              "      <td>1.190034</td>\n",
              "      <td>73363.717933</td>\n",
              "      <td>71082.158481</td>\n",
              "      <td>68694.470599</td>\n",
              "    </tr>\n",
              "    <tr>\n",
              "      <th>min</th>\n",
              "      <td>-2.000000</td>\n",
              "      <td>-2.000000</td>\n",
              "      <td>-165580.000000</td>\n",
              "      <td>-69777.000000</td>\n",
              "      <td>-157264.000000</td>\n",
              "    </tr>\n",
              "    <tr>\n",
              "      <th>25%</th>\n",
              "      <td>-1.000000</td>\n",
              "      <td>-1.000000</td>\n",
              "      <td>3508.250000</td>\n",
              "      <td>2936.750000</td>\n",
              "      <td>2688.000000</td>\n",
              "    </tr>\n",
              "    <tr>\n",
              "      <th>50%</th>\n",
              "      <td>0.000000</td>\n",
              "      <td>0.000000</td>\n",
              "      <td>22288.000000</td>\n",
              "      <td>21052.500000</td>\n",
              "      <td>20050.000000</td>\n",
              "    </tr>\n",
              "    <tr>\n",
              "      <th>75%</th>\n",
              "      <td>0.000000</td>\n",
              "      <td>0.000000</td>\n",
              "      <td>67384.000000</td>\n",
              "      <td>64129.750000</td>\n",
              "      <td>60164.750000</td>\n",
              "    </tr>\n",
              "    <tr>\n",
              "      <th>max</th>\n",
              "      <td>8.000000</td>\n",
              "      <td>8.000000</td>\n",
              "      <td>964511.000000</td>\n",
              "      <td>983931.000000</td>\n",
              "      <td>855086.000000</td>\n",
              "    </tr>\n",
              "  </tbody>\n",
              "</table>\n",
              "</div>\n",
              "      <button class=\"colab-df-convert\" onclick=\"convertToInteractive('df-fa0a15ea-6353-484a-b971-098d614a4ccf')\"\n",
              "              title=\"Convert this dataframe to an interactive table.\"\n",
              "              style=\"display:none;\">\n",
              "        \n",
              "  <svg xmlns=\"http://www.w3.org/2000/svg\" height=\"24px\"viewBox=\"0 0 24 24\"\n",
              "       width=\"24px\">\n",
              "    <path d=\"M0 0h24v24H0V0z\" fill=\"none\"/>\n",
              "    <path d=\"M18.56 5.44l.94 2.06.94-2.06 2.06-.94-2.06-.94-.94-2.06-.94 2.06-2.06.94zm-11 1L8.5 8.5l.94-2.06 2.06-.94-2.06-.94L8.5 2.5l-.94 2.06-2.06.94zm10 10l.94 2.06.94-2.06 2.06-.94-2.06-.94-.94-2.06-.94 2.06-2.06.94z\"/><path d=\"M17.41 7.96l-1.37-1.37c-.4-.4-.92-.59-1.43-.59-.52 0-1.04.2-1.43.59L10.3 9.45l-7.72 7.72c-.78.78-.78 2.05 0 2.83L4 21.41c.39.39.9.59 1.41.59.51 0 1.02-.2 1.41-.59l7.78-7.78 2.81-2.81c.8-.78.8-2.07 0-2.86zM5.41 20L4 18.59l7.72-7.72 1.47 1.35L5.41 20z\"/>\n",
              "  </svg>\n",
              "      </button>\n",
              "      \n",
              "  <style>\n",
              "    .colab-df-container {\n",
              "      display:flex;\n",
              "      flex-wrap:wrap;\n",
              "      gap: 12px;\n",
              "    }\n",
              "\n",
              "    .colab-df-convert {\n",
              "      background-color: #E8F0FE;\n",
              "      border: none;\n",
              "      border-radius: 50%;\n",
              "      cursor: pointer;\n",
              "      display: none;\n",
              "      fill: #1967D2;\n",
              "      height: 32px;\n",
              "      padding: 0 0 0 0;\n",
              "      width: 32px;\n",
              "    }\n",
              "\n",
              "    .colab-df-convert:hover {\n",
              "      background-color: #E2EBFA;\n",
              "      box-shadow: 0px 1px 2px rgba(60, 64, 67, 0.3), 0px 1px 3px 1px rgba(60, 64, 67, 0.15);\n",
              "      fill: #174EA6;\n",
              "    }\n",
              "\n",
              "    [theme=dark] .colab-df-convert {\n",
              "      background-color: #3B4455;\n",
              "      fill: #D2E3FC;\n",
              "    }\n",
              "\n",
              "    [theme=dark] .colab-df-convert:hover {\n",
              "      background-color: #434B5C;\n",
              "      box-shadow: 0px 1px 3px 1px rgba(0, 0, 0, 0.15);\n",
              "      filter: drop-shadow(0px 1px 2px rgba(0, 0, 0, 0.3));\n",
              "      fill: #FFFFFF;\n",
              "    }\n",
              "  </style>\n",
              "\n",
              "      <script>\n",
              "        const buttonEl =\n",
              "          document.querySelector('#df-fa0a15ea-6353-484a-b971-098d614a4ccf button.colab-df-convert');\n",
              "        buttonEl.style.display =\n",
              "          google.colab.kernel.accessAllowed ? 'block' : 'none';\n",
              "\n",
              "        async function convertToInteractive(key) {\n",
              "          const element = document.querySelector('#df-fa0a15ea-6353-484a-b971-098d614a4ccf');\n",
              "          const dataTable =\n",
              "            await google.colab.kernel.invokeFunction('convertToInteractive',\n",
              "                                                     [key], {});\n",
              "          if (!dataTable) return;\n",
              "\n",
              "          const docLinkHtml = 'Like what you see? Visit the ' +\n",
              "            '<a target=\"_blank\" href=https://colab.research.google.com/notebooks/data_table.ipynb>data table notebook</a>'\n",
              "            + ' to learn more about interactive tables.';\n",
              "          element.innerHTML = '';\n",
              "          dataTable['output_type'] = 'display_data';\n",
              "          await google.colab.output.renderOutput(dataTable, element);\n",
              "          const docLink = document.createElement('div');\n",
              "          docLink.innerHTML = docLinkHtml;\n",
              "          element.appendChild(docLink);\n",
              "        }\n",
              "      </script>\n",
              "    </div>\n",
              "  </div>\n",
              "  "
            ]
          },
          "metadata": {},
          "execution_count": 88
        }
      ],
      "source": [
        "# описательные статистики\n",
        "DF.iloc[:, 6:11].describe()"
      ]
    },
    {
      "cell_type": "code",
      "execution_count": 89,
      "id": "6d4d7774",
      "metadata": {
        "colab": {
          "base_uri": "https://localhost:8080/",
          "height": 0
        },
        "id": "6d4d7774",
        "outputId": "844a2588-4475-4792-8edf-84fb6994bc27"
      },
      "outputs": [
        {
          "output_type": "execute_result",
          "data": {
            "text/plain": [
              "            PAY_AMT1      PAY_AMT2\n",
              "count   25500.000000  2.550000e+04\n",
              "mean     5600.972510  5.943238e+03\n",
              "std     16425.394315  2.181456e+04\n",
              "min         0.000000  0.000000e+00\n",
              "25%      1000.000000  8.345000e+02\n",
              "50%      2106.000000  2.010000e+03\n",
              "75%      5007.000000  5.000000e+03\n",
              "max    873552.000000  1.227082e+06"
            ],
            "text/html": [
              "\n",
              "  <div id=\"df-0b235785-104a-484d-be11-6af21b8ac994\">\n",
              "    <div class=\"colab-df-container\">\n",
              "      <div>\n",
              "<style scoped>\n",
              "    .dataframe tbody tr th:only-of-type {\n",
              "        vertical-align: middle;\n",
              "    }\n",
              "\n",
              "    .dataframe tbody tr th {\n",
              "        vertical-align: top;\n",
              "    }\n",
              "\n",
              "    .dataframe thead th {\n",
              "        text-align: right;\n",
              "    }\n",
              "</style>\n",
              "<table border=\"1\" class=\"dataframe\">\n",
              "  <thead>\n",
              "    <tr style=\"text-align: right;\">\n",
              "      <th></th>\n",
              "      <th>PAY_AMT1</th>\n",
              "      <th>PAY_AMT2</th>\n",
              "    </tr>\n",
              "  </thead>\n",
              "  <tbody>\n",
              "    <tr>\n",
              "      <th>count</th>\n",
              "      <td>25500.000000</td>\n",
              "      <td>2.550000e+04</td>\n",
              "    </tr>\n",
              "    <tr>\n",
              "      <th>mean</th>\n",
              "      <td>5600.972510</td>\n",
              "      <td>5.943238e+03</td>\n",
              "    </tr>\n",
              "    <tr>\n",
              "      <th>std</th>\n",
              "      <td>16425.394315</td>\n",
              "      <td>2.181456e+04</td>\n",
              "    </tr>\n",
              "    <tr>\n",
              "      <th>min</th>\n",
              "      <td>0.000000</td>\n",
              "      <td>0.000000e+00</td>\n",
              "    </tr>\n",
              "    <tr>\n",
              "      <th>25%</th>\n",
              "      <td>1000.000000</td>\n",
              "      <td>8.345000e+02</td>\n",
              "    </tr>\n",
              "    <tr>\n",
              "      <th>50%</th>\n",
              "      <td>2106.000000</td>\n",
              "      <td>2.010000e+03</td>\n",
              "    </tr>\n",
              "    <tr>\n",
              "      <th>75%</th>\n",
              "      <td>5007.000000</td>\n",
              "      <td>5.000000e+03</td>\n",
              "    </tr>\n",
              "    <tr>\n",
              "      <th>max</th>\n",
              "      <td>873552.000000</td>\n",
              "      <td>1.227082e+06</td>\n",
              "    </tr>\n",
              "  </tbody>\n",
              "</table>\n",
              "</div>\n",
              "      <button class=\"colab-df-convert\" onclick=\"convertToInteractive('df-0b235785-104a-484d-be11-6af21b8ac994')\"\n",
              "              title=\"Convert this dataframe to an interactive table.\"\n",
              "              style=\"display:none;\">\n",
              "        \n",
              "  <svg xmlns=\"http://www.w3.org/2000/svg\" height=\"24px\"viewBox=\"0 0 24 24\"\n",
              "       width=\"24px\">\n",
              "    <path d=\"M0 0h24v24H0V0z\" fill=\"none\"/>\n",
              "    <path d=\"M18.56 5.44l.94 2.06.94-2.06 2.06-.94-2.06-.94-.94-2.06-.94 2.06-2.06.94zm-11 1L8.5 8.5l.94-2.06 2.06-.94-2.06-.94L8.5 2.5l-.94 2.06-2.06.94zm10 10l.94 2.06.94-2.06 2.06-.94-2.06-.94-.94-2.06-.94 2.06-2.06.94z\"/><path d=\"M17.41 7.96l-1.37-1.37c-.4-.4-.92-.59-1.43-.59-.52 0-1.04.2-1.43.59L10.3 9.45l-7.72 7.72c-.78.78-.78 2.05 0 2.83L4 21.41c.39.39.9.59 1.41.59.51 0 1.02-.2 1.41-.59l7.78-7.78 2.81-2.81c.8-.78.8-2.07 0-2.86zM5.41 20L4 18.59l7.72-7.72 1.47 1.35L5.41 20z\"/>\n",
              "  </svg>\n",
              "      </button>\n",
              "      \n",
              "  <style>\n",
              "    .colab-df-container {\n",
              "      display:flex;\n",
              "      flex-wrap:wrap;\n",
              "      gap: 12px;\n",
              "    }\n",
              "\n",
              "    .colab-df-convert {\n",
              "      background-color: #E8F0FE;\n",
              "      border: none;\n",
              "      border-radius: 50%;\n",
              "      cursor: pointer;\n",
              "      display: none;\n",
              "      fill: #1967D2;\n",
              "      height: 32px;\n",
              "      padding: 0 0 0 0;\n",
              "      width: 32px;\n",
              "    }\n",
              "\n",
              "    .colab-df-convert:hover {\n",
              "      background-color: #E2EBFA;\n",
              "      box-shadow: 0px 1px 2px rgba(60, 64, 67, 0.3), 0px 1px 3px 1px rgba(60, 64, 67, 0.15);\n",
              "      fill: #174EA6;\n",
              "    }\n",
              "\n",
              "    [theme=dark] .colab-df-convert {\n",
              "      background-color: #3B4455;\n",
              "      fill: #D2E3FC;\n",
              "    }\n",
              "\n",
              "    [theme=dark] .colab-df-convert:hover {\n",
              "      background-color: #434B5C;\n",
              "      box-shadow: 0px 1px 3px 1px rgba(0, 0, 0, 0.15);\n",
              "      filter: drop-shadow(0px 1px 2px rgba(0, 0, 0, 0.3));\n",
              "      fill: #FFFFFF;\n",
              "    }\n",
              "  </style>\n",
              "\n",
              "      <script>\n",
              "        const buttonEl =\n",
              "          document.querySelector('#df-0b235785-104a-484d-be11-6af21b8ac994 button.colab-df-convert');\n",
              "        buttonEl.style.display =\n",
              "          google.colab.kernel.accessAllowed ? 'block' : 'none';\n",
              "\n",
              "        async function convertToInteractive(key) {\n",
              "          const element = document.querySelector('#df-0b235785-104a-484d-be11-6af21b8ac994');\n",
              "          const dataTable =\n",
              "            await google.colab.kernel.invokeFunction('convertToInteractive',\n",
              "                                                     [key], {});\n",
              "          if (!dataTable) return;\n",
              "\n",
              "          const docLinkHtml = 'Like what you see? Visit the ' +\n",
              "            '<a target=\"_blank\" href=https://colab.research.google.com/notebooks/data_table.ipynb>data table notebook</a>'\n",
              "            + ' to learn more about interactive tables.';\n",
              "          element.innerHTML = '';\n",
              "          dataTable['output_type'] = 'display_data';\n",
              "          await google.colab.output.renderOutput(dataTable, element);\n",
              "          const docLink = document.createElement('div');\n",
              "          docLink.innerHTML = docLinkHtml;\n",
              "          element.appendChild(docLink);\n",
              "        }\n",
              "      </script>\n",
              "    </div>\n",
              "  </div>\n",
              "  "
            ]
          },
          "metadata": {},
          "execution_count": 89
        }
      ],
      "source": [
        "# описательные статистики\n",
        "DF.iloc[:, 11:13].describe()"
      ]
    },
    {
      "cell_type": "markdown",
      "id": "8fe7bbef",
      "metadata": {
        "id": "8fe7bbef"
      },
      "source": [
        "Выводы по описательным статистикам: значения объясняющих переменных положительные, масштабы измерения отличаются. Для работы с методами снижения размерности и регуляризации понадобится стандартизация значений.   \n",
        "\n",
        "## Визуализация разброса переменных внутри классов  \n",
        "\n",
        "Поскольку в наборе данных 13 объясняющих переменных, и все они непрерывные, анализ матричного графика разброса будет затруднительным. Построим коробчатые диаграммы для объясняющих переменных, чтобы сравнить средние уровни и разброс по классам.  "
      ]
    },
    {
      "cell_type": "code",
      "execution_count": 90,
      "id": "d4ee5069",
      "metadata": {
        "colab": {
          "base_uri": "https://localhost:8080/",
          "height": 0
        },
        "id": "d4ee5069",
        "outputId": "30412f5a-cc05-40a2-aebc-a28f2e51ab8f"
      },
      "outputs": [
        {
          "output_type": "display_data",
          "data": {
            "text/plain": [
              "<Figure size 864x360 with 5 Axes>"
            ],
            "image/png": "[encoded data removed]"
          },
          "metadata": {}
        }
      ],
      "source": [
        "# создаём полотно и делим его на четыре части\n",
        "fig = plt.figure(figsize=(12, 5))\n",
        "gs = mpl.gridspec.GridSpec(1, 5)\n",
        "ax1 = plt.subplot(gs[0, 0])\n",
        "ax2 = plt.subplot(gs[0, 1])\n",
        "ax3 = plt.subplot(gs[0, 2])\n",
        "ax4 = plt.subplot(gs[0, 3])\n",
        "ax5 = plt.subplot(gs[0, 4])\n",
        "\n",
        "axs = [ax1, ax2, ax3, ax4, ax5]\n",
        "\n",
        "cols_loop = list(DF.columns[:5].values)\n",
        "for col_name in cols_loop :\n",
        "    i = cols_loop.index(col_name)\n",
        "    sns.boxplot(x='Y', y=col_name, data=DF, ax=axs[i])\n",
        "    axs[i].set_ylabel(col_name)\n",
        "    axs[i].set_title(col_name)\n",
        "\n",
        "# корректируем расположение графиков на полотне\n",
        "gs.tight_layout(plt.gcf())\n",
        "plt.show()"
      ]
    },
    {
      "cell_type": "code",
      "execution_count": 91,
      "id": "af48928a",
      "metadata": {
        "colab": {
          "base_uri": "https://localhost:8080/",
          "height": 0
        },
        "id": "af48928a",
        "outputId": "a6b6aa1b-7c20-49ea-a4cd-bcb66328fb1b"
      },
      "outputs": [
        {
          "output_type": "display_data",
          "data": {
            "text/plain": [
              "<Figure size 864x360 with 5 Axes>"
            ],
            "image/png": "[encoded data removed]"
          },
          "metadata": {}
        }
      ],
      "source": [
        "# создаём полотно и делим его на четыре части\n",
        "fig = plt.figure(figsize=(12, 5))\n",
        "gs = mpl.gridspec.GridSpec(1, 5)\n",
        "ax1 = plt.subplot(gs[0, 0])\n",
        "ax2 = plt.subplot(gs[0, 1])\n",
        "ax3 = plt.subplot(gs[0, 2])\n",
        "ax4 = plt.subplot(gs[0, 3])\n",
        "ax5 = plt.subplot(gs[0, 4])\n",
        "\n",
        "axs = [ax1, ax2, ax3, ax4, ax5]\n",
        "\n",
        "cols_loop = list(DF.columns[5:10].values)\n",
        "for col_name in cols_loop :\n",
        "    i = cols_loop.index(col_name)\n",
        "    sns.boxplot(x='Y', y=col_name, data=DF, ax=axs[i])\n",
        "    axs[i].set_ylabel(col_name)\n",
        "    axs[i].set_title(col_name)\n",
        "\n",
        "# корректируем расположение графиков на полотне\n",
        "gs.tight_layout(plt.gcf())\n",
        "plt.show()"
      ]
    },
    {
      "cell_type": "code",
      "execution_count": 92,
      "id": "742bbdd3",
      "metadata": {
        "colab": {
          "base_uri": "https://localhost:8080/",
          "height": 0
        },
        "id": "742bbdd3",
        "outputId": "feb6e262-f72f-434c-e4db-8a7da729a302"
      },
      "outputs": [
        {
          "output_type": "display_data",
          "data": {
            "text/plain": [
              "<Figure size 518.4x360 with 3 Axes>"
            ],
            "image/png": "[encoded data removed]"
          },
          "metadata": {}
        }
      ],
      "source": [
        "# создаём полотно и делим его на четыре части\n",
        "fig = plt.figure(figsize=(7.2, 5))\n",
        "gs = mpl.gridspec.GridSpec(1, 3)\n",
        "ax1 = plt.subplot(gs[0, 0])\n",
        "ax2 = plt.subplot(gs[0, 1])\n",
        "ax3 = plt.subplot(gs[0, 2])\n",
        "\n",
        "axs = [ax1, ax2, ax3]\n",
        "\n",
        "cols_loop = list(DF.columns[10:13].values)\n",
        "for col_name in cols_loop :\n",
        "    i = cols_loop.index(col_name)\n",
        "    sns.boxplot(x='Y', y=col_name, data=DF, ax=axs[i])\n",
        "    axs[i].set_ylabel(col_name)\n",
        "    axs[i].set_title(col_name)\n",
        "\n",
        "# корректируем расположение графиков на полотне\n",
        "gs.tight_layout(plt.gcf())\n",
        "plt.show()"
      ]
    },
    {
      "cell_type": "markdown",
      "id": "c4e9584f",
      "metadata": {
        "id": "c4e9584f"
      },
      "source": [
        "На графиках отличие в медианах и разбросе между классами прослеживается практически по всем объясняющим переменным. Меньше всего различаются коробчатые диаграммы по переменной `BILL_AMT_1`. Это говорит о том, классы по зависимой переменной `Y` неплохо разделяются по всем объясняющим переменным.  "
      ]
    },
    {
      "cell_type": "markdown",
      "id": "bac7542b",
      "metadata": {
        "id": "bac7542b"
      },
      "source": [
        "## Корреляционный анализ   \n",
        "\n",
        "Теперь посмотрим на взаимодействие объясняющих переменных.  "
      ]
    },
    {
      "cell_type": "code",
      "execution_count": 93,
      "id": "11a7b0c4",
      "metadata": {
        "colab": {
          "base_uri": "https://localhost:8080/",
          "height": 0
        },
        "id": "11a7b0c4",
        "outputId": "a2ac5598-5801-4f57-dd2a-7c607ff0e457"
      },
      "outputs": [
        {
          "output_type": "display_data",
          "data": {
            "text/plain": [
              "<Figure size 720x576 with 2 Axes>"
            ],
            "image/png": "[encoded data removed]"
          },
          "metadata": {}
        }
      ],
      "source": [
        "# рассчитываем корреляционную матрицу\n",
        "corr_mat = DF.drop('Y', axis=1).corr()\n",
        "col_names = DF.drop('Y', axis=1).columns\n",
        "\n",
        "# переключаем стиль оформления, чтобы убрать сетку с тепловой карты\n",
        "mpl.style.use('seaborn-white')\n",
        "\n",
        "# рисуем корреляционную матрицу\n",
        "f = plt.figure(figsize=(10, 8))\n",
        "plt.matshow(corr_mat, fignum=f.number, cmap='PiYG')\n",
        "# координаты для названий строк и столбцов\n",
        "tics_coords = np.arange(0, len(col_names))\n",
        "# рисуем подписи\n",
        "plt.xticks(tics_coords, col_names, fontsize=14, rotation=90)\n",
        "plt.yticks(tics_coords, col_names, fontsize=14)\n",
        "# настраиваем легенду справа от тепловой карты\n",
        "cb = plt.colorbar()\n",
        "cb.ax.tick_params(labelsize=14)\n",
        "cb.ax.tick_params(labelsize=14)\n",
        "plt.show()"
      ]
    },
    {
      "cell_type": "markdown",
      "id": "b47250c6",
      "metadata": {
        "id": "b47250c6"
      },
      "source": [
        "Между объясняющими переменными обнаруживаются как прямые, так и обратные линейные взаимосвязи. Выведем все значимые коэффициенты в одной таблице и определим минимальный / максимальный из них.     "
      ]
    },
    {
      "cell_type": "code",
      "execution_count": 94,
      "id": "bf56e251",
      "metadata": {
        "colab": {
          "base_uri": "https://localhost:8080/",
          "height": 0
        },
        "id": "bf56e251",
        "outputId": "7fb8a9ca-4e18-4d62-99cc-ad6ee341002a"
      },
      "outputs": [
        {
          "output_type": "execute_result",
          "data": {
            "text/plain": [
              "   Показатель_1 Показатель_2  Корреляция  P_значение\n",
              "36     MARRIAGE          AGE   -0.412241         0.0\n",
              "5     LIMIT_BAL        PAY_2   -0.296381         0.0\n",
              "6     LIMIT_BAL        PAY_3   -0.286798         0.0\n",
              "4     LIMIT_BAL        PAY_0   -0.273720         0.0\n",
              "1     LIMIT_BAL    EDUCATION   -0.220573         0.0\n",
              "..          ...          ...         ...         ...\n",
              "55        PAY_0        PAY_2    0.669282         0.0\n",
              "63        PAY_2        PAY_3    0.765385         0.0\n",
              "77    BILL_AMT1    BILL_AMT3    0.900991         0.0\n",
              "81    BILL_AMT2    BILL_AMT3    0.935503         0.0\n",
              "76    BILL_AMT1    BILL_AMT2    0.952862         0.0\n",
              "\n",
              "[91 rows x 4 columns]"
            ],
            "text/html": [
              "\n",
              "  <div id=\"df-bb34ebc2-b195-422d-9280-66de53a924d0\">\n",
              "    <div class=\"colab-df-container\">\n",
              "      <div>\n",
              "<style scoped>\n",
              "    .dataframe tbody tr th:only-of-type {\n",
              "        vertical-align: middle;\n",
              "    }\n",
              "\n",
              "    .dataframe tbody tr th {\n",
              "        vertical-align: top;\n",
              "    }\n",
              "\n",
              "    .dataframe thead th {\n",
              "        text-align: right;\n",
              "    }\n",
              "</style>\n",
              "<table border=\"1\" class=\"dataframe\">\n",
              "  <thead>\n",
              "    <tr style=\"text-align: right;\">\n",
              "      <th></th>\n",
              "      <th>Показатель_1</th>\n",
              "      <th>Показатель_2</th>\n",
              "      <th>Корреляция</th>\n",
              "      <th>P_значение</th>\n",
              "    </tr>\n",
              "  </thead>\n",
              "  <tbody>\n",
              "    <tr>\n",
              "      <th>36</th>\n",
              "      <td>MARRIAGE</td>\n",
              "      <td>AGE</td>\n",
              "      <td>-0.412241</td>\n",
              "      <td>0.0</td>\n",
              "    </tr>\n",
              "    <tr>\n",
              "      <th>5</th>\n",
              "      <td>LIMIT_BAL</td>\n",
              "      <td>PAY_2</td>\n",
              "      <td>-0.296381</td>\n",
              "      <td>0.0</td>\n",
              "    </tr>\n",
              "    <tr>\n",
              "      <th>6</th>\n",
              "      <td>LIMIT_BAL</td>\n",
              "      <td>PAY_3</td>\n",
              "      <td>-0.286798</td>\n",
              "      <td>0.0</td>\n",
              "    </tr>\n",
              "    <tr>\n",
              "      <th>4</th>\n",
              "      <td>LIMIT_BAL</td>\n",
              "      <td>PAY_0</td>\n",
              "      <td>-0.273720</td>\n",
              "      <td>0.0</td>\n",
              "    </tr>\n",
              "    <tr>\n",
              "      <th>1</th>\n",
              "      <td>LIMIT_BAL</td>\n",
              "      <td>EDUCATION</td>\n",
              "      <td>-0.220573</td>\n",
              "      <td>0.0</td>\n",
              "    </tr>\n",
              "    <tr>\n",
              "      <th>...</th>\n",
              "      <td>...</td>\n",
              "      <td>...</td>\n",
              "      <td>...</td>\n",
              "      <td>...</td>\n",
              "    </tr>\n",
              "    <tr>\n",
              "      <th>55</th>\n",
              "      <td>PAY_0</td>\n",
              "      <td>PAY_2</td>\n",
              "      <td>0.669282</td>\n",
              "      <td>0.0</td>\n",
              "    </tr>\n",
              "    <tr>\n",
              "      <th>63</th>\n",
              "      <td>PAY_2</td>\n",
              "      <td>PAY_3</td>\n",
              "      <td>0.765385</td>\n",
              "      <td>0.0</td>\n",
              "    </tr>\n",
              "    <tr>\n",
              "      <th>77</th>\n",
              "      <td>BILL_AMT1</td>\n",
              "      <td>BILL_AMT3</td>\n",
              "      <td>0.900991</td>\n",
              "      <td>0.0</td>\n",
              "    </tr>\n",
              "    <tr>\n",
              "      <th>81</th>\n",
              "      <td>BILL_AMT2</td>\n",
              "      <td>BILL_AMT3</td>\n",
              "      <td>0.935503</td>\n",
              "      <td>0.0</td>\n",
              "    </tr>\n",
              "    <tr>\n",
              "      <th>76</th>\n",
              "      <td>BILL_AMT1</td>\n",
              "      <td>BILL_AMT2</td>\n",
              "      <td>0.952862</td>\n",
              "      <td>0.0</td>\n",
              "    </tr>\n",
              "  </tbody>\n",
              "</table>\n",
              "<p>91 rows × 4 columns</p>\n",
              "</div>\n",
              "      <button class=\"colab-df-convert\" onclick=\"convertToInteractive('df-bb34ebc2-b195-422d-9280-66de53a924d0')\"\n",
              "              title=\"Convert this dataframe to an interactive table.\"\n",
              "              style=\"display:none;\">\n",
              "        \n",
              "  <svg xmlns=\"http://www.w3.org/2000/svg\" height=\"24px\"viewBox=\"0 0 24 24\"\n",
              "       width=\"24px\">\n",
              "    <path d=\"M0 0h24v24H0V0z\" fill=\"none\"/>\n",
              "    <path d=\"M18.56 5.44l.94 2.06.94-2.06 2.06-.94-2.06-.94-.94-2.06-.94 2.06-2.06.94zm-11 1L8.5 8.5l.94-2.06 2.06-.94-2.06-.94L8.5 2.5l-.94 2.06-2.06.94zm10 10l.94 2.06.94-2.06 2.06-.94-2.06-.94-.94-2.06-.94 2.06-2.06.94z\"/><path d=\"M17.41 7.96l-1.37-1.37c-.4-.4-.92-.59-1.43-.59-.52 0-1.04.2-1.43.59L10.3 9.45l-7.72 7.72c-.78.78-.78 2.05 0 2.83L4 21.41c.39.39.9.59 1.41.59.51 0 1.02-.2 1.41-.59l7.78-7.78 2.81-2.81c.8-.78.8-2.07 0-2.86zM5.41 20L4 18.59l7.72-7.72 1.47 1.35L5.41 20z\"/>\n",
              "  </svg>\n",
              "      </button>\n",
              "      \n",
              "  <style>\n",
              "    .colab-df-container {\n",
              "      display:flex;\n",
              "      flex-wrap:wrap;\n",
              "      gap: 12px;\n",
              "    }\n",
              "\n",
              "    .colab-df-convert {\n",
              "      background-color: #E8F0FE;\n",
              "      border: none;\n",
              "      border-radius: 50%;\n",
              "      cursor: pointer;\n",
              "      display: none;\n",
              "      fill: #1967D2;\n",
              "      height: 32px;\n",
              "      padding: 0 0 0 0;\n",
              "      width: 32px;\n",
              "    }\n",
              "\n",
              "    .colab-df-convert:hover {\n",
              "      background-color: #E2EBFA;\n",
              "      box-shadow: 0px 1px 2px rgba(60, 64, 67, 0.3), 0px 1px 3px 1px rgba(60, 64, 67, 0.15);\n",
              "      fill: #174EA6;\n",
              "    }\n",
              "\n",
              "    [theme=dark] .colab-df-convert {\n",
              "      background-color: #3B4455;\n",
              "      fill: #D2E3FC;\n",
              "    }\n",
              "\n",
              "    [theme=dark] .colab-df-convert:hover {\n",
              "      background-color: #434B5C;\n",
              "      box-shadow: 0px 1px 3px 1px rgba(0, 0, 0, 0.15);\n",
              "      filter: drop-shadow(0px 1px 2px rgba(0, 0, 0, 0.3));\n",
              "      fill: #FFFFFF;\n",
              "    }\n",
              "  </style>\n",
              "\n",
              "      <script>\n",
              "        const buttonEl =\n",
              "          document.querySelector('#df-bb34ebc2-b195-422d-9280-66de53a924d0 button.colab-df-convert');\n",
              "        buttonEl.style.display =\n",
              "          google.colab.kernel.accessAllowed ? 'block' : 'none';\n",
              "\n",
              "        async function convertToInteractive(key) {\n",
              "          const element = document.querySelector('#df-bb34ebc2-b195-422d-9280-66de53a924d0');\n",
              "          const dataTable =\n",
              "            await google.colab.kernel.invokeFunction('convertToInteractive',\n",
              "                                                     [key], {});\n",
              "          if (!dataTable) return;\n",
              "\n",
              "          const docLinkHtml = 'Like what you see? Visit the ' +\n",
              "            '<a target=\"_blank\" href=https://colab.research.google.com/notebooks/data_table.ipynb>data table notebook</a>'\n",
              "            + ' to learn more about interactive tables.';\n",
              "          element.innerHTML = '';\n",
              "          dataTable['output_type'] = 'display_data';\n",
              "          await google.colab.output.renderOutput(dataTable, element);\n",
              "          const docLink = document.createElement('div');\n",
              "          docLink.innerHTML = docLinkHtml;\n",
              "          element.appendChild(docLink);\n",
              "        }\n",
              "      </script>\n",
              "    </div>\n",
              "  </div>\n",
              "  "
            ]
          },
          "metadata": {},
          "execution_count": 94
        }
      ],
      "source": [
        "# делаем фрейм из корреляционной матрицы и стираем диагональные значения\n",
        "#  и нижний треугольник матрицы\n",
        "df = corr_mat\n",
        "df = df.where(np.triu(np.ones(df.shape), k=1).astype(bool))\n",
        "# меняем размерность с матрицы на таблицу: показатель 1, показатель 2,\n",
        "#  корреляция\n",
        "df = df.stack().reset_index()\n",
        "df.columns = ['Показатель_1', 'Показатель_2', 'Корреляция']\n",
        "# считаем двусторонние p-значения для проверки значимости\n",
        "t_stat = np.sqrt((len(DF.index) - 2) / (1 - df.Корреляция ** 2))\n",
        "df['P_значение'] = 2 * (1 - t.cdf(abs(t_stat), len(DF.index) - 2))\n",
        "# получили все корреляционные коэффициенты без 1 и без повторов\n",
        "#  выводим все значимые с сортировкой\n",
        "df.loc[df['P_значение'] < 0.05].sort_values('Корреляция')"
      ]
    },
    {
      "cell_type": "markdown",
      "id": "d3a48810",
      "metadata": {
        "id": "d3a48810"
      },
      "source": [
        "# Методы снижения резмерности  \n",
        "\n",
        "Посмотрим, как работают методы снижения размерности:  \n",
        "\n",
        "* регрессия на главные компоненты (PCR)   \n",
        "* частный метод наименьших квадратов (PLS)  \n",
        "\n",
        "Оба метода требуют предварительной стандартизации переменных.  "
      ]
    },
    {
      "cell_type": "code",
      "execution_count": 95,
      "id": "688312d9",
      "metadata": {
        "colab": {
          "base_uri": "https://localhost:8080/"
        },
        "id": "688312d9",
        "outputId": "5a5b5096-8ee8-4741-dd71-64e752de69b8"
      },
      "outputs": [
        {
          "output_type": "stream",
          "name": "stdout",
          "text": [
            "Столбец 0: среднее = 0.0   Станд. отклонение = 1.0\n",
            "Столбец 1: среднее = 0.0   Станд. отклонение = 1.0\n",
            "Столбец 2: среднее = 0.0   Станд. отклонение = 1.0\n",
            "Столбец 3: среднее = -0.0   Станд. отклонение = 1.0\n",
            "Столбец 4: среднее = -0.0   Станд. отклонение = 1.0\n",
            "Столбец 5: среднее = -0.0   Станд. отклонение = 1.0\n",
            "Столбец 6: среднее = 0.0   Станд. отклонение = 1.0\n",
            "Столбец 7: среднее = 0.0   Станд. отклонение = 1.0\n",
            "Столбец 8: среднее = -0.0   Станд. отклонение = 1.0\n",
            "Столбец 9: среднее = -0.0   Станд. отклонение = 1.0\n",
            "Столбец 10: среднее = 0.0   Станд. отклонение = 1.0\n",
            "Столбец 11: среднее = -0.0   Станд. отклонение = 1.0\n",
            "Столбец 12: среднее = 0.0   Станд. отклонение = 1.0\n"
          ]
        }
      ],
      "source": [
        "# стандартизация\n",
        "sc = StandardScaler()\n",
        "X_train_std = sc.fit_transform(DF.iloc[:, :13].values)\n",
        "\n",
        "# проверяем средние и стандартные отклонения после стандартизации\n",
        "for i_col in range(X_train_std.shape[1]) :\n",
        "    print('Столбец ', i_col, ': среднее = ',\n",
        "          np.round(np.mean(X_train_std[:, i_col]), 2),\n",
        "         '   Станд. отклонение = ', \n",
        "          np.round(np.std(X_train_std[:, i_col]), 2), sep='')"
      ]
    },
    {
      "cell_type": "markdown",
      "id": "8c555295",
      "metadata": {
        "id": "8c555295"
      },
      "source": [
        "## Метод частных наименьших квадратов   (Метод снижения размерности, соответствующий моему варианту)\n",
        "Сначала посмотрим, как работает метод на всех наблюдениях обучающего набора.  "
      ]
    },
    {
      "cell_type": "code",
      "execution_count": 96,
      "id": "0f3b638f",
      "metadata": {
        "colab": {
          "base_uri": "https://localhost:8080/"
        },
        "id": "0f3b638f",
        "outputId": "048a48fe-df2f-477a-accd-bf9e278391f1"
      },
      "outputs": [
        {
          "output_type": "stream",
          "name": "stdout",
          "text": [
            "Доли объяснённой дисперсии по компонентам в PLS:\n",
            " [0.19  0.109 0.119 0.059 0.073 0.017 0.042 0.023 0.029 0.042 0.008 0.026\n",
            " 0.041] \n",
            "Общая сумма долей: 0.778\n"
          ]
        }
      ],
      "source": [
        "# функция для оценки модели, берём все компоненты, по числу столбцов X\n",
        "pls = PLSRegression(n_components=13)\n",
        "# значения зависимой переменной превращаем в фиктивные по классам\n",
        "Y_train = pd.get_dummies(DF.Y.astype(str))\n",
        "# оцениваем\n",
        "pls.fit(X_train_std, Y_train)\n",
        "\n",
        "# считаем долю объяснённой дисперсии\n",
        "frac_var_expl = np.var(pls.x_scores_, axis=0) / np.sum(np.var(X_train_std, axis=0))\n",
        "print('Доли объяснённой дисперсии по компонентам в PLS:\\n',\n",
        "     np.around(frac_var_expl, 3),\n",
        "     '\\nОбщая сумма долей:', np.around(sum(frac_var_expl), 3))"
      ]
    },
    {
      "cell_type": "markdown",
      "id": "d5753d89",
      "metadata": {
        "id": "d5753d89"
      },
      "source": [
        "Из-за того, что при вычислении компонент метдом PLS мы учитываем корреляцию с $Y$, компоненты, во-первых, не ортогональны, а во-вторых сумма объяснённых долей дисперсии уже не равняется 1.  "
      ]
    },
    {
      "cell_type": "code",
      "execution_count": 97,
      "id": "f4e6c748",
      "metadata": {
        "colab": {
          "base_uri": "https://localhost:8080/",
          "height": 0
        },
        "id": "f4e6c748",
        "outputId": "f37a5384-8abc-4bd3-b27c-ea50a4445751"
      },
      "outputs": [
        {
          "output_type": "execute_result",
          "data": {
            "text/plain": [
              "              0         1\n",
              "0      0.745899  0.254101\n",
              "1      0.662959  0.337041\n",
              "2      0.888142  0.111858\n",
              "3      0.788571  0.211429\n",
              "4      0.539898  0.460102\n",
              "...         ...       ...\n",
              "25495  0.743367  0.256633\n",
              "25496  0.986125  0.013875\n",
              "25497  0.798656  0.201344\n",
              "25498  0.780696  0.219304\n",
              "25499  0.708056  0.291944\n",
              "\n",
              "[25500 rows x 2 columns]"
            ],
            "text/html": [
              "\n",
              "  <div id=\"df-659f9e30-af8d-4547-91e5-091176606b81\">\n",
              "    <div class=\"colab-df-container\">\n",
              "      <div>\n",
              "<style scoped>\n",
              "    .dataframe tbody tr th:only-of-type {\n",
              "        vertical-align: middle;\n",
              "    }\n",
              "\n",
              "    .dataframe tbody tr th {\n",
              "        vertical-align: top;\n",
              "    }\n",
              "\n",
              "    .dataframe thead th {\n",
              "        text-align: right;\n",
              "    }\n",
              "</style>\n",
              "<table border=\"1\" class=\"dataframe\">\n",
              "  <thead>\n",
              "    <tr style=\"text-align: right;\">\n",
              "      <th></th>\n",
              "      <th>0</th>\n",
              "      <th>1</th>\n",
              "    </tr>\n",
              "  </thead>\n",
              "  <tbody>\n",
              "    <tr>\n",
              "      <th>0</th>\n",
              "      <td>0.745899</td>\n",
              "      <td>0.254101</td>\n",
              "    </tr>\n",
              "    <tr>\n",
              "      <th>1</th>\n",
              "      <td>0.662959</td>\n",
              "      <td>0.337041</td>\n",
              "    </tr>\n",
              "    <tr>\n",
              "      <th>2</th>\n",
              "      <td>0.888142</td>\n",
              "      <td>0.111858</td>\n",
              "    </tr>\n",
              "    <tr>\n",
              "      <th>3</th>\n",
              "      <td>0.788571</td>\n",
              "      <td>0.211429</td>\n",
              "    </tr>\n",
              "    <tr>\n",
              "      <th>4</th>\n",
              "      <td>0.539898</td>\n",
              "      <td>0.460102</td>\n",
              "    </tr>\n",
              "    <tr>\n",
              "      <th>...</th>\n",
              "      <td>...</td>\n",
              "      <td>...</td>\n",
              "    </tr>\n",
              "    <tr>\n",
              "      <th>25495</th>\n",
              "      <td>0.743367</td>\n",
              "      <td>0.256633</td>\n",
              "    </tr>\n",
              "    <tr>\n",
              "      <th>25496</th>\n",
              "      <td>0.986125</td>\n",
              "      <td>0.013875</td>\n",
              "    </tr>\n",
              "    <tr>\n",
              "      <th>25497</th>\n",
              "      <td>0.798656</td>\n",
              "      <td>0.201344</td>\n",
              "    </tr>\n",
              "    <tr>\n",
              "      <th>25498</th>\n",
              "      <td>0.780696</td>\n",
              "      <td>0.219304</td>\n",
              "    </tr>\n",
              "    <tr>\n",
              "      <th>25499</th>\n",
              "      <td>0.708056</td>\n",
              "      <td>0.291944</td>\n",
              "    </tr>\n",
              "  </tbody>\n",
              "</table>\n",
              "<p>25500 rows × 2 columns</p>\n",
              "</div>\n",
              "      <button class=\"colab-df-convert\" onclick=\"convertToInteractive('df-659f9e30-af8d-4547-91e5-091176606b81')\"\n",
              "              title=\"Convert this dataframe to an interactive table.\"\n",
              "              style=\"display:none;\">\n",
              "        \n",
              "  <svg xmlns=\"http://www.w3.org/2000/svg\" height=\"24px\"viewBox=\"0 0 24 24\"\n",
              "       width=\"24px\">\n",
              "    <path d=\"M0 0h24v24H0V0z\" fill=\"none\"/>\n",
              "    <path d=\"M18.56 5.44l.94 2.06.94-2.06 2.06-.94-2.06-.94-.94-2.06-.94 2.06-2.06.94zm-11 1L8.5 8.5l.94-2.06 2.06-.94-2.06-.94L8.5 2.5l-.94 2.06-2.06.94zm10 10l.94 2.06.94-2.06 2.06-.94-2.06-.94-.94-2.06-.94 2.06-2.06.94z\"/><path d=\"M17.41 7.96l-1.37-1.37c-.4-.4-.92-.59-1.43-.59-.52 0-1.04.2-1.43.59L10.3 9.45l-7.72 7.72c-.78.78-.78 2.05 0 2.83L4 21.41c.39.39.9.59 1.41.59.51 0 1.02-.2 1.41-.59l7.78-7.78 2.81-2.81c.8-.78.8-2.07 0-2.86zM5.41 20L4 18.59l7.72-7.72 1.47 1.35L5.41 20z\"/>\n",
              "  </svg>\n",
              "      </button>\n",
              "      \n",
              "  <style>\n",
              "    .colab-df-container {\n",
              "      display:flex;\n",
              "      flex-wrap:wrap;\n",
              "      gap: 12px;\n",
              "    }\n",
              "\n",
              "    .colab-df-convert {\n",
              "      background-color: #E8F0FE;\n",
              "      border: none;\n",
              "      border-radius: 50%;\n",
              "      cursor: pointer;\n",
              "      display: none;\n",
              "      fill: #1967D2;\n",
              "      height: 32px;\n",
              "      padding: 0 0 0 0;\n",
              "      width: 32px;\n",
              "    }\n",
              "\n",
              "    .colab-df-convert:hover {\n",
              "      background-color: #E2EBFA;\n",
              "      box-shadow: 0px 1px 2px rgba(60, 64, 67, 0.3), 0px 1px 3px 1px rgba(60, 64, 67, 0.15);\n",
              "      fill: #174EA6;\n",
              "    }\n",
              "\n",
              "    [theme=dark] .colab-df-convert {\n",
              "      background-color: #3B4455;\n",
              "      fill: #D2E3FC;\n",
              "    }\n",
              "\n",
              "    [theme=dark] .colab-df-convert:hover {\n",
              "      background-color: #434B5C;\n",
              "      box-shadow: 0px 1px 3px 1px rgba(0, 0, 0, 0.15);\n",
              "      filter: drop-shadow(0px 1px 2px rgba(0, 0, 0, 0.3));\n",
              "      fill: #FFFFFF;\n",
              "    }\n",
              "  </style>\n",
              "\n",
              "      <script>\n",
              "        const buttonEl =\n",
              "          document.querySelector('#df-659f9e30-af8d-4547-91e5-091176606b81 button.colab-df-convert');\n",
              "        buttonEl.style.display =\n",
              "          google.colab.kernel.accessAllowed ? 'block' : 'none';\n",
              "\n",
              "        async function convertToInteractive(key) {\n",
              "          const element = document.querySelector('#df-659f9e30-af8d-4547-91e5-091176606b81');\n",
              "          const dataTable =\n",
              "            await google.colab.kernel.invokeFunction('convertToInteractive',\n",
              "                                                     [key], {});\n",
              "          if (!dataTable) return;\n",
              "\n",
              "          const docLinkHtml = 'Like what you see? Visit the ' +\n",
              "            '<a target=\"_blank\" href=https://colab.research.google.com/notebooks/data_table.ipynb>data table notebook</a>'\n",
              "            + ' to learn more about interactive tables.';\n",
              "          element.innerHTML = '';\n",
              "          dataTable['output_type'] = 'display_data';\n",
              "          await google.colab.output.renderOutput(dataTable, element);\n",
              "          const docLink = document.createElement('div');\n",
              "          docLink.innerHTML = docLinkHtml;\n",
              "          element.appendChild(docLink);\n",
              "        }\n",
              "      </script>\n",
              "    </div>\n",
              "  </div>\n",
              "  "
            ]
          },
          "metadata": {},
          "execution_count": 97
        }
      ],
      "source": [
        "# сокращаем пространство компонент до 2\n",
        "pls = PLSRegression(n_components=2)\n",
        "# перестраиваем модель\n",
        "pls.fit(X_train_std, Y_train)\n",
        "# пересчитываем X\n",
        "X_train_pls = pls.transform(X_train_std)\n",
        "# предсказываем принадлежности классов для обучающего набора\n",
        "Y_train_pred = pls.predict(X_train_std)\n",
        "pd.DataFrame(Y_train_pred)"
      ]
    },
    {
      "cell_type": "code",
      "execution_count": 98,
      "id": "2ee36387",
      "metadata": {
        "colab": {
          "base_uri": "https://localhost:8080/"
        },
        "id": "2ee36387",
        "outputId": "1b674fdc-c22c-48a5-87f9-e1e701683340"
      },
      "outputs": [
        {
          "output_type": "execute_result",
          "data": {
            "text/plain": [
              "dict_items([(0, 24348), (1, 1152)])"
            ]
          },
          "metadata": {},
          "execution_count": 98
        }
      ],
      "source": [
        "# вычисляем классы\n",
        "Y_train_hat = list()\n",
        "for y_i in Y_train_pred : \n",
        "    Y_train_hat.append([i for i in range(len(y_i)) if y_i[i] == max(y_i)][0])\n",
        "# Y_train_hat\n",
        "# сколько наблюдений попали в каждый класс по модели\n",
        "Counter(Y_train_hat).items()"
      ]
    },
    {
      "cell_type": "markdown",
      "id": "3cd7c05e",
      "metadata": {
        "id": "3cd7c05e"
      },
      "source": [
        "Рисуем классы на графике в координатах 2 главных компонент по PLS.  "
      ]
    },
    {
      "cell_type": "code",
      "execution_count": 99,
      "id": "cf167983",
      "metadata": {
        "colab": {
          "base_uri": "https://localhost:8080/",
          "height": 0
        },
        "id": "cf167983",
        "outputId": "70185964-bba6-45f3-ff56-de385ce8c67b"
      },
      "outputs": [
        {
          "output_type": "display_data",
          "data": {
            "text/plain": [
              "<Figure size 432x288 with 1 Axes>"
            ],
            "image/png": "[encoded data removed]"
          },
          "metadata": {}
        }
      ],
      "source": [
        "# график классов в пространстве ГК\n",
        "plt.scatter(X_train_pls[DF['Y'] == 0][:, 0], \n",
        "            X_train_pls[DF['Y'] == 0][:, 1], label='Y: 0')\n",
        "plt.scatter(X_train_pls[DF['Y'] == 1][:, 0], \n",
        "            X_train_pls[DF['Y'] == 1][:, 1], label='Y: 1')\n",
        "plt.scatter(X_train_pls[DF['Y'] == 2][:, 0], \n",
        "            X_train_pls[DF['Y'] == 2][:, 1], label='Y: 2')\n",
        "plt.xlabel('ГК 1 по PLS')\n",
        "plt.ylabel('ГК 2 по PLS')\n",
        "plt.legend()\n",
        "plt.show()"
      ]
    },
    {
      "cell_type": "markdown",
      "id": "1360f1b8",
      "metadata": {
        "id": "1360f1b8"
      },
      "source": [
        "Видно, что в координатах двух компонент, рассчитанных методом частных наименьших квадратов, классы также оказываются очень плохо разделимы.  \n",
        "Теперь оценим точность модели с перекрёстной проверкой.  "
      ]
    },
    {
      "cell_type": "code",
      "execution_count": 100,
      "id": "2a7f9f6f",
      "metadata": {
        "colab": {
          "base_uri": "https://localhost:8080/"
        },
        "id": "2a7f9f6f",
        "outputId": "d0c47972-d7ba-4ddb-afd0-731a6e771345"
      },
      "outputs": [
        {
          "output_type": "stream",
          "name": "stdout",
          "text": [
            "Модель logit_PLS, перекрёстная проверка по 10 блокам\n",
            "Acc = 0.8\n"
          ]
        }
      ],
      "source": [
        "# функция разбиения на блоки для перекрёстной проверки\n",
        "#  для чистоты эксперимента возьмём другое ядро генератора случайных чисел\n",
        "kf_10 = KFold(n_splits=10, random_state=my_seed+1, shuffle=True)\n",
        "# считаем точность модели (Acc) с перекрёстной проверкой по блокам\n",
        "#  функция cross_val_score не сработает, т.к. у нас мультиклассовая\n",
        "#  классификация, поэтому делаем вручную\n",
        "# значения Y как метки классов\n",
        "Y_train = DF.Y.values\n",
        "# значения Y как фиктивные переменные\n",
        "Y_train_dummy = pd.get_dummies(Y_train.astype(str))\n",
        "# модель внутри блока\n",
        "pls_cv = PLSRegression(n_components=2)\n",
        "# для записи Acc по блокам\n",
        "acc_blocks = list()\n",
        "# цикл по блокам\n",
        "score = list()\n",
        "\n",
        "for train_index, test_index in kf_10.split(X_train_std, DF.Y.values) : \n",
        "    # данные для модели внутри блока\n",
        "    X_i_train = X_train_std[train_index]\n",
        "    Y_i_train = Y_train_dummy.iloc[train_index, :]\n",
        "\n",
        "    # данные для прогноза вне блока\n",
        "    X_i_test = X_train_std[test_index]\n",
        "    Y_i_test = Y_train[test_index]\n",
        "\n",
        "    # оцениваем модель на блоке\n",
        "    pls_cv.fit(X_i_train, Y_i_train)\n",
        "    # делаем прогноз y вне блока\n",
        "    Y_pred = pls.predict(X_i_test)\n",
        "    Y_hat = list()\n",
        "    for y_i in Y_pred : \n",
        "        Y_hat.append([i for i in range(len(y_i)) if y_i[i] == max(y_i)][0])\n",
        "    # считаем точность\n",
        "    acc = accuracy_score(Y_i_test, Y_hat)\n",
        "    acc_blocks.append(acc)\n",
        "\n",
        "score_models = list()\n",
        "score.append(np.around(np.mean(acc_blocks), 3))\n",
        "score_models.append('logit_PLS')\n",
        "print('Модель ', score_models[0], ', перекрёстная проверка по 10 блокам',\n",
        "      '\\nAcc = ', np.around(score[0], 2), sep='')"
      ]
    },
    {
      "cell_type": "markdown",
      "id": "5d46e811",
      "metadata": {
        "id": "5d46e811"
      },
      "source": [
        "# Методы сжатия  \n"
      ]
    },
    {
      "cell_type": "markdown",
      "id": "09a02626",
      "metadata": {
        "id": "09a02626"
      },
      "source": [
        "## Лассо-регрессия\n",
        "\n",
        "Технически реализация лассо-регрессии отличается от ридж единственным аргументом `penalty='l1'` в функции `LogisticRegression`.    "
      ]
    },
    {
      "cell_type": "code",
      "execution_count": 101,
      "id": "bf20f8ec",
      "metadata": {
        "colab": {
          "base_uri": "https://localhost:8080/"
        },
        "id": "bf20f8ec",
        "outputId": "9b0e4d2a-535f-4316-ac04-2dcc250918b9"
      },
      "outputs": [
        {
          "output_type": "stream",
          "name": "stdout",
          "text": [
            "Константы моделей для классов:\n",
            " [-1.454] \n",
            "Коэффициенты моделей для классов:\n",
            " [[-0.13  -0.047 -0.082 -0.073  0.072  0.667  0.106  0.123 -0.449  0.179\n",
            "   0.164 -0.249 -0.216]]\n"
          ]
        }
      ],
      "source": [
        "# функция для построения модели\n",
        "logit_lasso = LogisticRegression(penalty='l1', solver='liblinear')\n",
        "# оцениваем параметры\n",
        "logit_lasso.fit(X_train_std, Y_train)\n",
        "# выводим параметры\n",
        "print('Константы моделей для классов:\\n', np.around(logit_lasso.intercept_, 3),\n",
        "     '\\nКоэффициенты моделей для классов:\\n', np.around(logit_lasso.coef_, 3))"
      ]
    },
    {
      "cell_type": "markdown",
      "id": "3bd8cfb4",
      "metadata": {
        "id": "3bd8cfb4"
      },
      "source": [
        "Отметим, что в векторе коэффициентов появились ненулевые, но близкие к нулю значения: метод лассо позволяет обнулять коэффициенты, тем самым отбрасывая слабые объясняющие переменные.  "
      ]
    },
    {
      "cell_type": "code",
      "execution_count": 102,
      "id": "92a80a3b",
      "metadata": {
        "colab": {
          "base_uri": "https://localhost:8080/"
        },
        "id": "92a80a3b",
        "outputId": "b312b211-17fd-4b9b-aa5a-ba38c321ecbc"
      },
      "outputs": [
        {
          "output_type": "execute_result",
          "data": {
            "text/plain": [
              "array([0.35938137])"
            ]
          },
          "metadata": {},
          "execution_count": 102
        }
      ],
      "source": [
        "# поиск оптимального значения C:\n",
        "#  подбираем C по наибольшей точности с перекрёстной проверкой\n",
        "lasso_cv = LogisticRegressionCV(cv=10, random_state=my_seed+3,\n",
        "                               penalty='l1', solver='liblinear')\n",
        "lasso_cv.fit(X_train_std, Y_train)\n",
        "# значения параметра C (инверсия лямбды), которые дают наилучшую\n",
        "#  точность для каждого класса\n",
        "lasso_cv.C_"
      ]
    },
    {
      "cell_type": "code",
      "execution_count": 104,
      "id": "6ae71683",
      "metadata": {
        "colab": {
          "base_uri": "https://localhost:8080/"
        },
        "id": "6ae71683",
        "outputId": "b22f253c-b502-40a3-fe50-19d5e777df76"
      },
      "outputs": [
        {
          "output_type": "stream",
          "name": "stdout",
          "text": [
            "Модель logit_lasso, перекрёстная проверка по 10 блокам\n",
            "Acc = 0.81\n"
          ]
        }
      ],
      "source": [
        "# сохраняем и выводим Acc для модели\n",
        "score.append(np.around(lasso_cv.score(X_train_std, Y_train), 3))\n",
        "score_models.append('logit_lasso')\n",
        "print('Модель ', score_models[1], ', перекрёстная проверка по 10 блокам',\n",
        "      '\\nAcc = ', score[1], sep='')"
      ]
    },
    {
      "cell_type": "code",
      "execution_count": 105,
      "id": "c15ed701",
      "metadata": {
        "colab": {
          "base_uri": "https://localhost:8080/",
          "height": 281
        },
        "id": "c15ed701",
        "outputId": "b3cb45b5-c594-4177-e8ac-43f4f5eb32a6"
      },
      "outputs": [
        {
          "output_type": "display_data",
          "data": {
            "text/plain": [
              "<Figure size 432x288 with 1 Axes>"
            ],
            "image/png": "[encoded data removed]"
          },
          "metadata": {}
        }
      ],
      "source": [
        "# график динамики коэффициентов в лассо-регрессии    \n",
        "#  модель для класса 0\n",
        "plot_coeffs_traces(X_train_std, Y_train, 0, 'l1', lasso_cv.C_, DF.columns)"
      ]
    },
    {
      "cell_type": "markdown",
      "id": "041010d5",
      "metadata": {
        "id": "041010d5"
      },
      "source": [
        "Итак, судя по графикам, для значения гиперпараметра, дающего самую точную модель, ни один коэффициент при объясняющих переменных не обнуляется.\n",
        "\n",
        "\n",
        "# Прогноз на отложенные наблюдения по лучшей модели\n",
        "\n",
        "Ещё раз посмотрим на точность построенных моделей.  "
      ]
    },
    {
      "cell_type": "code",
      "execution_count": 108,
      "id": "13f506f8",
      "metadata": {
        "colab": {
          "base_uri": "https://localhost:8080/",
          "height": 143
        },
        "id": "13f506f8",
        "outputId": "cad15ac3-51d4-47f9-9b1c-10dbe2fdd714"
      },
      "outputs": [
        {
          "output_type": "execute_result",
          "data": {
            "text/plain": [
              "        Модель    Acc\n",
              "0    logit_PLS  0.796\n",
              "1  logit_lasso  0.810\n",
              "2  logit_lasso  0.810"
            ],
            "text/html": [
              "\n",
              "  <div id=\"df-9f50d214-3d72-44b4-9289-cd8065e2513b\">\n",
              "    <div class=\"colab-df-container\">\n",
              "      <div>\n",
              "<style scoped>\n",
              "    .dataframe tbody tr th:only-of-type {\n",
              "        vertical-align: middle;\n",
              "    }\n",
              "\n",
              "    .dataframe tbody tr th {\n",
              "        vertical-align: top;\n",
              "    }\n",
              "\n",
              "    .dataframe thead th {\n",
              "        text-align: right;\n",
              "    }\n",
              "</style>\n",
              "<table border=\"1\" class=\"dataframe\">\n",
              "  <thead>\n",
              "    <tr style=\"text-align: right;\">\n",
              "      <th></th>\n",
              "      <th>Модель</th>\n",
              "      <th>Acc</th>\n",
              "    </tr>\n",
              "  </thead>\n",
              "  <tbody>\n",
              "    <tr>\n",
              "      <th>0</th>\n",
              "      <td>logit_PLS</td>\n",
              "      <td>0.796</td>\n",
              "    </tr>\n",
              "    <tr>\n",
              "      <th>1</th>\n",
              "      <td>logit_lasso</td>\n",
              "      <td>0.810</td>\n",
              "    </tr>\n",
              "    <tr>\n",
              "      <th>2</th>\n",
              "      <td>logit_lasso</td>\n",
              "      <td>0.810</td>\n",
              "    </tr>\n",
              "  </tbody>\n",
              "</table>\n",
              "</div>\n",
              "      <button class=\"colab-df-convert\" onclick=\"convertToInteractive('df-9f50d214-3d72-44b4-9289-cd8065e2513b')\"\n",
              "              title=\"Convert this dataframe to an interactive table.\"\n",
              "              style=\"display:none;\">\n",
              "        \n",
              "  <svg xmlns=\"http://www.w3.org/2000/svg\" height=\"24px\"viewBox=\"0 0 24 24\"\n",
              "       width=\"24px\">\n",
              "    <path d=\"M0 0h24v24H0V0z\" fill=\"none\"/>\n",
              "    <path d=\"M18.56 5.44l.94 2.06.94-2.06 2.06-.94-2.06-.94-.94-2.06-.94 2.06-2.06.94zm-11 1L8.5 8.5l.94-2.06 2.06-.94-2.06-.94L8.5 2.5l-.94 2.06-2.06.94zm10 10l.94 2.06.94-2.06 2.06-.94-2.06-.94-.94-2.06-.94 2.06-2.06.94z\"/><path d=\"M17.41 7.96l-1.37-1.37c-.4-.4-.92-.59-1.43-.59-.52 0-1.04.2-1.43.59L10.3 9.45l-7.72 7.72c-.78.78-.78 2.05 0 2.83L4 21.41c.39.39.9.59 1.41.59.51 0 1.02-.2 1.41-.59l7.78-7.78 2.81-2.81c.8-.78.8-2.07 0-2.86zM5.41 20L4 18.59l7.72-7.72 1.47 1.35L5.41 20z\"/>\n",
              "  </svg>\n",
              "      </button>\n",
              "      \n",
              "  <style>\n",
              "    .colab-df-container {\n",
              "      display:flex;\n",
              "      flex-wrap:wrap;\n",
              "      gap: 12px;\n",
              "    }\n",
              "\n",
              "    .colab-df-convert {\n",
              "      background-color: #E8F0FE;\n",
              "      border: none;\n",
              "      border-radius: 50%;\n",
              "      cursor: pointer;\n",
              "      display: none;\n",
              "      fill: #1967D2;\n",
              "      height: 32px;\n",
              "      padding: 0 0 0 0;\n",
              "      width: 32px;\n",
              "    }\n",
              "\n",
              "    .colab-df-convert:hover {\n",
              "      background-color: #E2EBFA;\n",
              "      box-shadow: 0px 1px 2px rgba(60, 64, 67, 0.3), 0px 1px 3px 1px rgba(60, 64, 67, 0.15);\n",
              "      fill: #174EA6;\n",
              "    }\n",
              "\n",
              "    [theme=dark] .colab-df-convert {\n",
              "      background-color: #3B4455;\n",
              "      fill: #D2E3FC;\n",
              "    }\n",
              "\n",
              "    [theme=dark] .colab-df-convert:hover {\n",
              "      background-color: #434B5C;\n",
              "      box-shadow: 0px 1px 3px 1px rgba(0, 0, 0, 0.15);\n",
              "      filter: drop-shadow(0px 1px 2px rgba(0, 0, 0, 0.3));\n",
              "      fill: #FFFFFF;\n",
              "    }\n",
              "  </style>\n",
              "\n",
              "      <script>\n",
              "        const buttonEl =\n",
              "          document.querySelector('#df-9f50d214-3d72-44b4-9289-cd8065e2513b button.colab-df-convert');\n",
              "        buttonEl.style.display =\n",
              "          google.colab.kernel.accessAllowed ? 'block' : 'none';\n",
              "\n",
              "        async function convertToInteractive(key) {\n",
              "          const element = document.querySelector('#df-9f50d214-3d72-44b4-9289-cd8065e2513b');\n",
              "          const dataTable =\n",
              "            await google.colab.kernel.invokeFunction('convertToInteractive',\n",
              "                                                     [key], {});\n",
              "          if (!dataTable) return;\n",
              "\n",
              "          const docLinkHtml = 'Like what you see? Visit the ' +\n",
              "            '<a target=\"_blank\" href=https://colab.research.google.com/notebooks/data_table.ipynb>data table notebook</a>'\n",
              "            + ' to learn more about interactive tables.';\n",
              "          element.innerHTML = '';\n",
              "          dataTable['output_type'] = 'display_data';\n",
              "          await google.colab.output.renderOutput(dataTable, element);\n",
              "          const docLink = document.createElement('div');\n",
              "          docLink.innerHTML = docLinkHtml;\n",
              "          element.appendChild(docLink);\n",
              "        }\n",
              "      </script>\n",
              "    </div>\n",
              "  </div>\n",
              "  "
            ]
          },
          "metadata": {},
          "execution_count": 108
        }
      ],
      "source": [
        "# сводка по точности моделей\n",
        "pd.DataFrame({'Модель' : score_models, 'Acc' : score})\n"
      ]
    },
    {
      "cell_type": "markdown",
      "id": "99c7c905",
      "metadata": {
        "id": "99c7c905"
      },
      "source": [
        "Все модели показывают высокую точность по показателю $Acc$, при этом самой точной оказывается лассо-регрессия. Сделаем прогноз на отложенные наблюдения.   "
      ]
    },
    {
      "cell_type": "code",
      "execution_count": 110,
      "id": "6f19fd52",
      "metadata": {
        "colab": {
          "base_uri": "https://localhost:8080/"
        },
        "id": "6f19fd52",
        "outputId": "90842d6a-076d-47ec-a237-d53f1eaf0efa"
      },
      "outputs": [
        {
          "output_type": "stream",
          "name": "stdout",
          "text": [
            "              precision    recall  f1-score   support\n",
            "\n",
            "           0       0.82      0.97      0.89      3535\n",
            "           1       0.70      0.24      0.36       965\n",
            "\n",
            "    accuracy                           0.82      4500\n",
            "   macro avg       0.76      0.61      0.62      4500\n",
            "weighted avg       0.80      0.82      0.78      4500\n",
            "\n"
          ]
        }
      ],
      "source": [
        "# формируем объекты с данными отложенной выборки\n",
        "X_pred_std = sc.fit_transform(DF_predict.iloc[:, :13].values)\n",
        "Y_pred = DF_predict.Y\n",
        "Y_hat = logit_lasso.predict(X_pred_std)\n",
        "# отчёт по точности на отложенных наблюдениях\n",
        "print(classification_report(Y_pred, Y_hat))"
      ]
    },
    {
      "cell_type": "markdown",
      "id": "15e4aa0a",
      "metadata": {
        "id": "15e4aa0a"
      },
      "source": [
        "Итак, методом логистической регрессии со сжатием коэффициенты с L1-регуляризацией мы получили идеально точную скоринговую модель по выдаче кредита.  "
      ]
    },
    {
      "cell_type": "markdown",
      "id": "af39298f",
      "metadata": {
        "id": "af39298f"
      },
      "source": [
        "# Источники \n",
        "\n",
        "1. *Рашка С.* Python и машинное обучение: крайне необходимое пособие по новейшей предсказательной аналитике, обязательное для более глубокого понимания методологии машинного обучения / пер. с англ. А.В. Логунова. – М.: ДМК Пресс, 2017. – 418 с.: ил.  \n",
        "1. Репозиторий с кодом к книге *Рашка С.* Python и машинное обучение / github.com. URL: <https://github.com/rasbt/python-machine-learning-book-3rd-edition>  \n",
        "1. *Xueting Bai*, *Lingbo Wang*, *Hanning Li* Identification of red wine categories based on physicochemical properties / 2019 5th International Conference on Education Technology, Management and Humanities Science (ETMHS 2019). URL: <https://webofproceedings.org/proceedings_series/ESSP/ETMHS%202019/ETMHS19309.pdf>  \n",
        "\n"
      ]
    }
  ],
  "metadata": {
    "kernelspec": {
      "display_name": "Python 3 (ipykernel)",
      "language": "python",
      "name": "python3"
    },
    "language_info": {
      "codemirror_mode": {
        "name": "ipython",
        "version": 3
      },
      "file_extension": ".py",
      "mimetype": "text/x-python",
      "name": "python",
      "nbconvert_exporter": "python",
      "pygments_lexer": "ipython3",
      "version": "3.9.13"
    },
    "colab": {
      "provenance": [],
      "include_colab_link": true
    }
  },
  "nbformat": 4,
  "nbformat_minor": 5
}